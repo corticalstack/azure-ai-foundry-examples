{
 "cells": [
  {
   "cell_type": "markdown",
   "metadata": {},
   "source": [
    "# AI Foundry - working with project AI Search resource\n",
    "\n",
    "This notebook demonstrates how to:\n",
    "1. Connect to the default AI Foundry project AI Search service\n",
    "2. Create a new index called *customer* if it doesn't already exist (and delete it first if switch set!)\n",
    "3. Define a schema for customer data (first name, last name, date of birth, home city, profile text)\n",
    "4. Upload sample customer documents to the index\n",
    "5. Demonstrate retrieving documents with a variety of search methods"
   ]
  },
  {
   "cell_type": "markdown",
   "metadata": {},
   "source": [
    "## Imports and Setup\n",
    "\n",
    "First, import the necessary libraries and do some setup"
   ]
  },
  {
   "cell_type": "code",
   "execution_count": null,
   "metadata": {},
   "outputs": [],
   "source": [
    "# Standard library imports\n",
    "import os\n",
    "import pathlib\n",
    "import logging\n",
    "\n",
    "# Third-party imports\n",
    "from dotenv import load_dotenv\n",
    "\n",
    "# Azure Identity\n",
    "from azure.identity import DefaultAzureCredential\n",
    "from azure.core.credentials import AzureKeyCredential\n",
    "\n",
    "# Azure AI Foundry Project SDK\n",
    "from azure.ai.projects import AIProjectClient\n",
    "from azure.ai.projects.models import ConnectionType\n",
    "\n",
    "# Azure AI Search SDK\n",
    "from azure.search.documents import SearchClient\n",
    "from azure.search.documents.indexes import SearchIndexClient\n",
    "from azure.search.documents.indexes.models import (\n",
    "    HnswParameters,\n",
    "    HnswAlgorithmConfiguration,\n",
    "    SearchableField,\n",
    "    SearchField,\n",
    "    SearchFieldDataType,\n",
    "    SearchIndex,\n",
    "    SemanticConfiguration,\n",
    "    SemanticField,\n",
    "    SemanticPrioritizedFields,\n",
    "    SemanticSearch,\n",
    "    SimpleField,\n",
    "    VectorSearch,\n",
    "    VectorSearchProfile,\n",
    ")\n",
    "\n",
    "# Setup logger\n",
    "logger = logging.getLogger(__name__)"
   ]
  },
  {
   "cell_type": "markdown",
   "metadata": {},
   "source": [
    "## Get our AI Foundry project connection string"
   ]
  },
  {
   "cell_type": "code",
   "execution_count": null,
   "metadata": {},
   "outputs": [],
   "source": [
    "# Load environment variables from .env file\n",
    "# Look for .env in the current directory and parent directory\n",
    "current_dir = pathlib.Path().absolute()\n",
    "root_dir = current_dir.parent\n",
    "load_dotenv(dotenv_path=root_dir / \".env\")\n",
    "\n",
    "# Get the project connection string from environment variables\n",
    "project_connection_string = os.getenv(\"AZURE_AI_FOUNDRY_PROJECT_CONNECTION_STRING\")\n",
    "if not project_connection_string:\n",
    "    raise ValueError(\"Please set AZURE_AI_FOUNDRY_PROJECT_CONNECTION_STRING in your .env file\")"
   ]
  },
  {
   "cell_type": "markdown",
   "metadata": {},
   "source": [
    "## Connect to the AI Foundry Project\n",
    "Now get credentials to authenticate and get handle to the AI Foundry project"
   ]
  },
  {
   "cell_type": "code",
   "execution_count": null,
   "metadata": {},
   "outputs": [],
   "source": [
    "try:\n",
    "    credential = DefaultAzureCredential()\n",
    "    print(\"✓ Successfully initialized DefaultAzureCredential\")\n",
    "except Exception as e:\n",
    "    print(f\"× Error initializing credentials: {str(e)}\")"
   ]
  },
  {
   "cell_type": "code",
   "execution_count": null,
   "metadata": {},
   "outputs": [],
   "source": [
    "try:\n",
    "    client = AIProjectClient.from_connection_string(\n",
    "        conn_str=os.getenv(\"AZURE_AI_FOUNDRY_PROJECT_CONNECTION_STRING\"),\n",
    "        credential=credential\n",
    "    )\n",
    "    print(\"✓ Successfully initialized AIProjectClient\")\n",
    "except Exception as e:\n",
    "    print(f\"× Error initializing client: {str(e)}\")"
   ]
  },
  {
   "cell_type": "markdown",
   "metadata": {},
   "source": [
    "## Get handle to embedding model client and test"
   ]
  },
  {
   "cell_type": "code",
   "execution_count": null,
   "metadata": {},
   "outputs": [],
   "source": [
    "embedding_client = client.inference.get_embeddings_client()\n",
    "print(\"✅ Created embeddings client.\")\n",
    "\n",
    "# Test the embedding client\n",
    "embedding = embedding_client.embed(model=\"text-embedding-3-large\", input=\"this is a test\")\n",
    "vector = embedding.data[0].embedding\n",
    "\n",
    "# Save the dimensions size for later reference when configuring the index\n",
    "embedding_dimensions = len(vector)\n",
    "\n",
    "print(f\"Vector dimension: {embedding_dimensions}\")\n",
    "print(f\"First 10 elements: {vector[:10]}\")"
   ]
  },
  {
   "cell_type": "markdown",
   "metadata": {},
   "source": [
    "## Get handle to the default Foundry project AI Search connection\n",
    "This will be named AzureAISearch in your AI Foundry project connected resources."
   ]
  },
  {
   "cell_type": "code",
   "execution_count": null,
   "metadata": {},
   "outputs": [],
   "source": [
    "search_connection = client.connections.get_default(\n",
    "    connection_type=ConnectionType.AZURE_AI_SEARCH,\n",
    "    include_credentials=True,\n",
    ")\n",
    "\n",
    "print(f\"Connected to AI Search service: {search_connection.name}\")\n",
    "print(f\"Endpoint: {search_connection.endpoint_url}\")"
   ]
  },
  {
   "cell_type": "markdown",
   "metadata": {},
   "source": [
    "## Create AI Search clients for managing indexing and searching"
   ]
  },
  {
   "cell_type": "code",
   "execution_count": null,
   "metadata": {},
   "outputs": [],
   "source": [
    "# Define the index name\n",
    "index_name = \"customer\"\n",
    "\n",
    "# Create a client to manage search indexes\n",
    "index_client = SearchIndexClient(\n",
    "    endpoint=search_connection.endpoint_url,\n",
    "    credential=AzureKeyCredential(key=search_connection.key)\n",
    ")\n",
    "\n",
    "# Create a client to run search queries\n",
    "search_client = SearchClient(\n",
    "    index_name=index_name,\n",
    "    endpoint=search_connection.endpoint_url,\n",
    "    credential=AzureKeyCredential(key=search_connection.key)\n",
    ")"
   ]
  },
  {
   "cell_type": "markdown",
   "metadata": {},
   "source": [
    "## Delete index if enabled\n",
    "Helps with iterative testing"
   ]
  },
  {
   "cell_type": "code",
   "execution_count": null,
   "metadata": {},
   "outputs": [],
   "source": [
    "delete_index_if_exists = True\n",
    "\n",
    "if delete_index_if_exists:\n",
    "    try:\n",
    "        index_client.delete_index(index_name)\n",
    "        print(f\"Index '{index_name}' deleted successfully.\")\n",
    "    except Exception as e:\n",
    "        print(f\"Index '{index_name}' does not exist or could not be deleted: {str(e)}\")"
   ]
  },
  {
   "cell_type": "markdown",
   "metadata": {},
   "source": [
    "## Check if Index Exists and Create if Needed\n",
    "\n",
    "Check if the *customer* index already exists, and create if not. Index based on the following schema and configuration"
   ]
  },
  {
   "cell_type": "code",
   "execution_count": null,
   "metadata": {},
   "outputs": [],
   "source": [
    "# Check if the index exists\n",
    "index_exists = index_name in [index.name for index in index_client.list_indexes()]\n",
    "\n",
    "if index_exists:\n",
    "    print(f\"Index '{index_name}' already exists.\")\n",
    "else:\n",
    "    print(f\"Index '{index_name}' does not exist. Creating...\")\n",
    "    \n",
    "    # index schema definition\n",
    "    fields = [\n",
    "        SimpleField(name=\"id\", type=SearchFieldDataType.String, key=True, filterable=True, sortable=True),\n",
    "        SearchableField(name=\"first_name\", type=SearchFieldDataType.String),\n",
    "        SearchableField(name=\"last_name\", type=SearchFieldDataType.String),\n",
    "        SimpleField(name=\"date_of_birth\", type=SearchFieldDataType.DateTimeOffset, filterable=True, sortable=True),\n",
    "        SearchableField(name=\"home_city\", type=SearchFieldDataType.String, filterable=True, sortable=True),\n",
    "        SearchableField(name=\"profile_text\", type=SearchFieldDataType.String),\n",
    "        SearchField(\n",
    "            name=\"profile_vector\",\n",
    "            type=SearchFieldDataType.Collection(SearchFieldDataType.Single),\n",
    "            hidden=False,\n",
    "            searchable=True,\n",
    "            filterable=False,\n",
    "            sortable=False,\n",
    "            facetable=False,\n",
    "            vector_search_dimensions=embedding_dimensions,\n",
    "            vector_search_profile_name=\"embedding_config\",\n",
    "        )\n",
    "    ]\n",
    "    \n",
    "    # Define vectorizers (empty for now as not using integrated vectorization)\n",
    "    vectorizers = []\n",
    "    use_int_vectorization = False\n",
    "    \n",
    "    # Create the index with vector search and semantic search\n",
    "    index = SearchIndex(\n",
    "        name=index_name,\n",
    "        fields=fields,\n",
    "        semantic_search=SemanticSearch(\n",
    "            configurations=[\n",
    "                SemanticConfiguration(\n",
    "                    name=\"default\",\n",
    "                    prioritized_fields=SemanticPrioritizedFields(\n",
    "                        title_field=None, \n",
    "                        content_fields=[SemanticField(field_name=\"profile_text\")]\n",
    "                    ),\n",
    "                )\n",
    "            ]\n",
    "        ),\n",
    "        vector_search=VectorSearch(\n",
    "            algorithms=[\n",
    "                HnswAlgorithmConfiguration(\n",
    "                    name=\"hnsw_config\",\n",
    "                    parameters=HnswParameters(metric=\"cosine\"),\n",
    "                )\n",
    "            ],\n",
    "            profiles=[\n",
    "                VectorSearchProfile(\n",
    "                    name=\"embedding_config\",\n",
    "                    algorithm_configuration_name=\"hnsw_config\",\n",
    "                    vectorizer_name=(\n",
    "                        f\"{index_name}-vectorizer\" if use_int_vectorization else None\n",
    "                    ),\n",
    "                ),\n",
    "            ],\n",
    "            vectorizers=vectorizers,\n",
    "        ),\n",
    "    )\n",
    "    \n",
    "    result = index_client.create_index(index)\n",
    "    print(f\"Index '{index_name}' created successfully.\")"
   ]
  },
  {
   "cell_type": "markdown",
   "metadata": {},
   "source": [
    "## Create Sample Customer Data\n",
    "\n",
    "Let's create a few sample customer documents to upload to the AI Search index"
   ]
  },
  {
   "cell_type": "code",
   "execution_count": null,
   "metadata": {},
   "outputs": [],
   "source": [
    "# Create sample customer data\n",
    "customers_with_profiles = [\n",
    "    {\n",
    "        \"id\": \"1\",\n",
    "        \"first_name\": \"John\",\n",
    "        \"last_name\": \"Smith\",\n",
    "        \"date_of_birth\": \"1985-05-15\",\n",
    "        \"home_city\": \"Seattle\",\n",
    "        \"profile_text\": \"Passionate about hiking in the Pacific Northwest and photography. Enjoys weekend trips to Vancouver and Portland. Dreams of exploring the national parks of Japan.\"\n",
    "    },\n",
    "    {\n",
    "        \"id\": \"2\",\n",
    "        \"first_name\": \"Jon\",\n",
    "        \"last_name\": \"Smith\",\n",
    "        \"date_of_birth\": \"1982-09-30\",\n",
    "        \"home_city\": \"Seattle\",\n",
    "        \"profile_text\": \"Adores kitesurfing. Enjoys spending weekends with his children. Dreams about kitesurfing in South Africa.\"\n",
    "    },\n",
    "    {\n",
    "        \"id\": \"3\",\n",
    "        \"first_name\": \"Jane\",\n",
    "        \"last_name\": \"Doe\",\n",
    "        \"date_of_birth\": \"1990-08-22\",\n",
    "        \"home_city\": \"San Francisco\",\n",
    "        \"profile_text\": \"Avid rock climber and yoga enthusiast. Loves exploring California wine country. Plans annual trips to Mediterranean beaches and has visited Italy three times.\"\n",
    "    },\n",
    "    {\n",
    "        \"id\": \"4\",\n",
    "        \"first_name\": \"Jonathan\",\n",
    "        \"last_name\": \"Johnson\",\n",
    "        \"date_of_birth\": \"1978-11-30\",\n",
    "        \"home_city\": \"New York\",\n",
    "        \"profile_text\": \"Theater aficionado and jazz music collector. Frequently travels to London and Paris for cultural events. Enjoys cooking classes and food tours when traveling.\"\n",
    "    },\n",
    "    {\n",
    "        \"id\": \"5\",\n",
    "        \"first_name\": \"Emily\",\n",
    "        \"last_name\": \"Williams\",\n",
    "        \"date_of_birth\": \"1992-03-10\",\n",
    "        \"home_city\": \"Chicago\",\n",
    "        \"profile_text\": \"Dedicated cyclist and urban gardener. Loves exploring Great Lakes beaches in summer. Dreams of cycling through the countryside of France and visiting Nordic countries.\"\n",
    "    },\n",
    "    {\n",
    "        \"id\": \"6\",\n",
    "        \"first_name\": \"David\",\n",
    "        \"last_name\": \"Brown\",\n",
    "        \"date_of_birth\": \"1982-07-05\",\n",
    "        \"home_city\": \"Seattle\",\n",
    "        \"profile_text\": \"Software developer who enjoys kayaking and board games. Frequently hikes in Olympic National Park. Plans to visit tech hubs in Asia and explore mountain trails in New Zealand.\"\n",
    "    }\n",
    "]"
   ]
  },
  {
   "cell_type": "markdown",
   "metadata": {},
   "source": [
    "## Generate Embeddings for Customer Profile Text"
   ]
  },
  {
   "cell_type": "code",
   "execution_count": null,
   "metadata": {},
   "outputs": [],
   "source": [
    "# Generate embeddings for each customer's profile text\n",
    "for customer in customers_with_profiles:\n",
    "    profile_text = customer['profile_text']\n",
    "    embedding_response = embedding_client.embed(model=\"text-embedding-3-large\", input=profile_text)\n",
    "    customer['profile_vector'] = embedding_response.data[0].embedding\n",
    "    \n",
    "print(\"Added vector embeddings to customer profiles.\")\n",
    "print(f\"Vector dimension: {len(customers_with_profiles[0]['profile_vector'])}\")"
   ]
  },
  {
   "cell_type": "markdown",
   "metadata": {},
   "source": [
    "## Upload Documents to the Index"
   ]
  },
  {
   "cell_type": "code",
   "execution_count": null,
   "metadata": {},
   "outputs": [],
   "source": [
    "# Upload documents to the index\n",
    "result = search_client.upload_documents(documents=customers_with_profiles)\n",
    "print(f\"Uploaded {len(result)} documents to the index.\")\n",
    "\n",
    "# Check the results\n",
    "for i, success in enumerate(result):\n",
    "    print(f\"Document {i+1} {'succeeded' if success else 'failed'}\")"
   ]
  },
  {
   "cell_type": "markdown",
   "metadata": {},
   "source": [
    "## Example Exact Match Search\n",
    "Exact match with search fields specification.\n",
    "\n",
    "You can experiment by changing name, adding last name in the *search_text* string"
   ]
  },
  {
   "cell_type": "code",
   "execution_count": null,
   "metadata": {},
   "outputs": [],
   "source": [
    "search_text = \"John\"\n",
    "results = search_client.search(\n",
    "    search_text=search_text,\n",
    "    search_mode=\"any\",  # Use \"all\" for AND semantics, \"any\" for OR semantics\n",
    "    search_fields=[\"first_name\", \"last_name\"],  # Limit search to name fields\n",
    "    select=[\"id\", \"first_name\", \"last_name\", \"home_city\", \"date_of_birth\"]\n",
    ")\n",
    "\n",
    "print(f\"Exact search results for '{search_text}':\")\n",
    "for result in results:\n",
    "    print(f\"ID: {result['id']}\")\n",
    "    print(f\"Name: {result['first_name']} {result['last_name']}\")\n",
    "    print(f\"City: {result['home_city']}\")\n",
    "    print(f\"DOB: {result['date_of_birth']}\")\n",
    "    print(\"---\")"
   ]
  },
  {
   "cell_type": "markdown",
   "metadata": {},
   "source": [
    "## Another Example Exact Match\n",
    "This example doesn't specify *search_fields*, so searches across all searchable fields.\n",
    "It also doesn't specify a search mode, so defaults to *any*, and returns all fields."
   ]
  },
  {
   "cell_type": "code",
   "execution_count": null,
   "metadata": {},
   "outputs": [],
   "source": [
    "# Search for customers by name\n",
    "search_text = \"John\"\n",
    "results = search_client.search(search_text=search_text)\n",
    "\n",
    "print(f\"\\nCustomers with name containing '{search_text}':\")\n",
    "for result in results:\n",
    "    print(f\"ID: {result['id']}, Name: {result['first_name']} {result['last_name']}, City: {result['home_city']}\")\n",
    "    print(f\"Profile: {result['profile_text']}\")\n",
    "    print(\"---\")"
   ]
  },
  {
   "cell_type": "markdown",
   "metadata": {},
   "source": [
    "## Filter Example"
   ]
  },
  {
   "cell_type": "code",
   "execution_count": null,
   "metadata": {},
   "outputs": [],
   "source": [
    "search_text = \"Seattle\"\n",
    "results = search_client.search(\n",
    "    search_text=\"John\", \n",
    "    filter=f\"home_city eq '{search_text}'\"\n",
    ")\n",
    "\n",
    "print(f\"\\nCustomers in {search_text}:\")\n",
    "for result in results:\n",
    "    print(f\"ID: {result['id']}, Name: {result['first_name']} {result['last_name']}, DOB: {result['date_of_birth']}\")\n",
    "    print(f\"Profile: {result['profile_text']}\")\n",
    "    print(\"---\")"
   ]
  },
  {
   "cell_type": "markdown",
   "metadata": {},
   "source": [
    "## Filter Example with Operand"
   ]
  },
  {
   "cell_type": "code",
   "execution_count": null,
   "metadata": {},
   "outputs": [],
   "source": [
    "# Search for customers born before 1990\n",
    "year_threshold = \"1990-01-01T00:00:00Z\"\n",
    "results = search_client.search(\n",
    "    search_text=\"*\", \n",
    "    filter=f\"date_of_birth lt {year_threshold}\"\n",
    ")\n",
    "\n",
    "print(f\"\\nCustomers born before {year_threshold}:\")\n",
    "for result in results:\n",
    "    print(f\"ID: {result['id']}, Name: {result['first_name']} {result['last_name']}, DOB: {result['date_of_birth']}\")\n",
    "    print(f\"Profile: {result['profile_text']}\")\n",
    "    print(\"---\")"
   ]
  },
  {
   "cell_type": "markdown",
   "metadata": {},
   "source": [
    "## Fuzzy Search Example"
   ]
  },
  {
   "cell_type": "code",
   "execution_count": null,
   "metadata": {},
   "outputs": [],
   "source": [
    "search_text = \"Jo~1n\"\n",
    "results = search_client.search(\n",
    "    search_text=search_text, \n",
    "    search_fields=[\"first_name\"], \n",
    "    query_type=\"full\"\n",
    ")\n",
    "\n",
    "print(f\"\\nCustomers with profile like '{search_text}':\")\n",
    "for result in results:\n",
    "    print(f\"ID: {result['id']}, Name: {result['first_name']} {result['last_name']}, City: {result['home_city']}\")\n",
    "    print(f\"Profile: {result['profile_text']}\")\n",
    "    search_score = result['@search.score']\n",
    "    print(f\"Score: {search_score:.2f}\") \n",
    "    print(\"---\")"
   ]
  },
  {
   "cell_type": "markdown",
   "metadata": {},
   "source": [
    "## Similarity (or similarity) Search Example\n",
    "!Note: Semantic Ranker option needs to be enabled for your service (check [here](https://learn.microsoft.com/en-us/azure/search/search-region-support) for region availability. Also check if semantic reranker available in selected region SKU).\n",
    "\n",
    "Demonstrates similarity search based on the profile text."
   ]
  },
  {
   "cell_type": "code",
   "execution_count": null,
   "metadata": {},
   "outputs": [],
   "source": [
    "query_text = \"hiking in national parks\"\n",
    "semantic_query = {\n",
    "    \"search_text\": query_text,\n",
    "    \"select\": \"id,first_name,last_name,home_city,profile_text\",\n",
    "    \"top\": 5,\n",
    "    \"query_type\": \"semantic\",\n",
    "    \"semantic_configuration_name\": \"default\"\n",
    "}\n",
    "    \n",
    "results = search_client.search(**semantic_query)\n",
    "print(f\"\\nSimilarity search for '{query_text}':\")\n",
    "for result in results:\n",
    "    print(f\"ID: {result['id']}, Name: {result['first_name']} {result['last_name']}, Score: {result['@search.score']}\")\n",
    "    print(f\"Profile: {result['profile_text']}\")\n",
    "    print(\"---\")\n"
   ]
  },
  {
   "cell_type": "markdown",
   "metadata": {},
   "source": [
    "## Vector Search Example\n",
    "\n",
    "Perform a vector search using the embeddings."
   ]
  },
  {
   "cell_type": "code",
   "execution_count": null,
   "metadata": {},
   "outputs": [],
   "source": [
    "# Vector search based on query embedding\n",
    "query_text = \"Cultural events and love of food\"\n",
    "query_embedding = embedding_client.embed(model=\"text-embedding-3-large\", input=query_text).data[0].embedding\n",
    "\n",
    "# Perform vector search\n",
    "vector_results = search_client.search(\n",
    "    search_text=\"\",  # No text search\n",
    "    vector_queries=[{\n",
    "        \"vector\": query_embedding,\n",
    "        \"fields\": \"profile_vector\",\n",
    "        \"k\": 5, # Return top 5 matches\n",
    "        \"kind\": \"vector\"  \n",
    "    }],\n",
    "    select=[\"first_name\", \"last_name\", \"profile_text\"]\n",
    ")\n",
    "\n",
    "for result in vector_results:\n",
    "    print(f\"Name: {result['first_name']} {result['last_name']}, Score: {result['@search.score']}\")\n",
    "    print(f\"Profile: {result['profile_text']}\")\n",
    "    print(\"---\")"
   ]
  },
  {
   "cell_type": "markdown",
   "metadata": {},
   "source": [
    "## Hybrid Search Example\n",
    "\n",
    "A hybrid query combines text search and vector search, where the *search_text* parameter takes a query string and *vector_queries* parameter takes the vectorized query. \n",
    "\n",
    "The search engine runs full text and vector queries in parallel. The union of all matches is evaluated for relevance using Reciprocal Rank Fusion (RRF) and a single result set is returned in the response.\n",
    "\n",
    "Note the rranking of results differs from the previous example, which was a pure vector-only search (*search_text* = \"\")"
   ]
  },
  {
   "cell_type": "code",
   "execution_count": null,
   "metadata": {},
   "outputs": [],
   "source": [
    "query_text = \"Cultural events and love of food\"\n",
    "query_embedding = embedding_client.embed(model=\"text-embedding-3-large\", input=query_text).data[0].embedding\n",
    "\n",
    "# Perform vector search\n",
    "vector_results = search_client.search(\n",
    "    search_text=query_text,  # No text search\n",
    "    vector_queries=[{\n",
    "        \"vector\": query_embedding,\n",
    "        \"fields\": \"profile_vector\",\n",
    "        \"k\": 5, # Return top 5 matches\n",
    "        \"kind\": \"vector\"  \n",
    "    }],\n",
    "    select=[\"first_name\", \"last_name\", \"profile_text\"]\n",
    ")\n",
    "\n",
    "for result in vector_results:\n",
    "    print(f\"Name: {result['first_name']} {result['last_name']}, Score: {result['@search.score']}\")\n",
    "    print(f\"Profile: {result['profile_text']}\")\n",
    "    print(\"---\")"
   ]
  }
 ],
 "metadata": {
  "kernelspec": {
   "display_name": "Python 3",
   "language": "python",
   "name": "python3"
  },
  "language_info": {
   "codemirror_mode": {
    "name": "ipython",
    "version": 3
   },
   "file_extension": ".py",
   "mimetype": "text/x-python",
   "name": "python",
   "nbconvert_exporter": "python",
   "pygments_lexer": "ipython3",
   "version": "3.11.11"
  }
 },
 "nbformat": 4,
 "nbformat_minor": 4
}
