{
 "cells": [
  {
   "cell_type": "markdown",
   "metadata": {},
   "source": [
    "# Basic RAG (Retrieval-Augmented Generation) example with AI Foundry Project\n",
    "\n",
    "This notebook demonstrates a basic RAG implementation using:\n",
    "- Consuming assets of AI Foundry projects with instatiation of `azure-ai-projects`\n",
    "- Text embedding and chat completion with `azure-ai-inference`\n",
    "- Vector search with `azure-ai-search`\n",
    "\n",
    "Our theme is space, so let's create a sample set of space facts,\n",
    "embed them, store them in a search index, then do a query that retrieves\n",
    "relevant knowledge, and pass them to an LLM to produce a final answer."
   ]
  },
  {
   "cell_type": "markdown",
   "metadata": {},
   "source": [
    "## Imports and setup\n",
    "\n",
    "First, import the necessary libraries and do some setup"
   ]
  },
  {
   "cell_type": "code",
   "execution_count": 1,
   "metadata": {},
   "outputs": [],
   "source": [
    "import os\n",
    "import logging\n",
    "import pathlib\n",
    "from dotenv import load_dotenv\n",
    "\n",
    "# Azure Identity\n",
    "from azure.identity import DefaultAzureCredential\n",
    "from azure.core.credentials import AzureKeyCredential\n",
    "\n",
    "# Azure AI Foundry Project SDK\n",
    "from azure.ai.projects import AIProjectClient\n",
    "from azure.ai.projects.models import ConnectionType\n",
    "\n",
    "# Azure AI Inference\n",
    "from azure.ai.inference.models import UserMessage, SystemMessage\n",
    "\n",
    "# Azure AI Search SDK\n",
    "from azure.search.documents import SearchClient\n",
    "from azure.search.documents.indexes import SearchIndexClient\n",
    "from azure.search.documents.indexes.models import (\n",
    "    HnswParameters,\n",
    "    HnswAlgorithmConfiguration,\n",
    "    SearchableField,\n",
    "    SearchField,\n",
    "    SearchFieldDataType,\n",
    "    SearchIndex,\n",
    "    SemanticConfiguration,\n",
    "    SemanticField,\n",
    "    SemanticPrioritizedFields,\n",
    "    SemanticSearch,\n",
    "    SimpleField,\n",
    "    VectorSearch,\n",
    "    VectorSearchProfile,\n",
    ")"
   ]
  },
  {
   "cell_type": "code",
   "execution_count": 2,
   "metadata": {},
   "outputs": [],
   "source": [
    "# Suppress Azure SDK HTTP logging as it pollutes and makes it difficult to see use case code output\n",
    "logging.getLogger(\"azure\").setLevel(logging.ERROR)\n",
    "logging.getLogger(\"azure.core.pipeline.policies.http_logging_policy\").setLevel(logging.ERROR)"
   ]
  },
  {
   "cell_type": "markdown",
   "metadata": {},
   "source": [
    "## Get our AI Foundry project connection string"
   ]
  },
  {
   "cell_type": "code",
   "execution_count": 3,
   "metadata": {},
   "outputs": [],
   "source": [
    "# Load environment variables from .env file\n",
    "# Look for .env in the current directory and parent directory\n",
    "current_dir = pathlib.Path().absolute()\n",
    "root_dir = current_dir.parent\n",
    "load_dotenv(dotenv_path=root_dir / \".env\")\n",
    "\n",
    "# Get the project connection string from environment variables\n",
    "project_connection_string = os.getenv(\"AZURE_AI_FOUNDRY_PROJECT_CONNECTION_STRING\")\n",
    "if not project_connection_string:\n",
    "    raise ValueError(\"Please set AZURE_AI_FOUNDRY_PROJECT_CONNECTION_STRING in your .env file\")"
   ]
  },
  {
   "cell_type": "markdown",
   "metadata": {},
   "source": [
    "## Connect to the AI Foundry project\n",
    "Now get credentials to authenticate and get handle to the AI Foundry project"
   ]
  },
  {
   "cell_type": "code",
   "execution_count": 4,
   "metadata": {},
   "outputs": [
    {
     "name": "stdout",
     "output_type": "stream",
     "text": [
      "✓ Successfully initialized DefaultAzureCredential\n"
     ]
    }
   ],
   "source": [
    "try:\n",
    "    credential = DefaultAzureCredential()\n",
    "    print(\"✓ Successfully initialized DefaultAzureCredential\")\n",
    "except Exception as e:\n",
    "    print(f\"× Error initializing credentials: {str(e)}\")"
   ]
  },
  {
   "cell_type": "code",
   "execution_count": 5,
   "metadata": {},
   "outputs": [
    {
     "name": "stdout",
     "output_type": "stream",
     "text": [
      "✓ Successfully initialized AIProjectClient\n"
     ]
    }
   ],
   "source": [
    "try:\n",
    "    project_client = AIProjectClient.from_connection_string(\n",
    "        conn_str=os.getenv(\"AZURE_AI_FOUNDRY_PROJECT_CONNECTION_STRING\"),\n",
    "        credential=credential\n",
    "    )\n",
    "    print(\"✓ Successfully initialized AIProjectClient\")\n",
    "except Exception as e:\n",
    "    print(f\"× Error initializing project client: {str(e)}\")"
   ]
  },
  {
   "cell_type": "markdown",
   "metadata": {},
   "source": [
    "## Get handle to embedding model client and test"
   ]
  },
  {
   "cell_type": "code",
   "execution_count": 6,
   "metadata": {},
   "outputs": [
    {
     "name": "stdout",
     "output_type": "stream",
     "text": [
      "✅ Created embeddings client.\n",
      "Vector dimension: 3072\n",
      "First 10 elements: [-0.015253292, 0.0033125114, -0.007039981, 0.04884106, -0.014547386, -0.017113449, -0.017666727, 0.07356685, -0.02886583, 0.032433517]\n"
     ]
    }
   ],
   "source": [
    "embedding_client = project_client.inference.get_embeddings_client()\n",
    "print(\"✅ Created embeddings client.\")\n",
    "\n",
    "# Test the embedding client\n",
    "embedding = embedding_client.embed(model=\"text-embedding-3-large\", input=\"this is a test\")\n",
    "vector = embedding.data[0].embedding\n",
    "\n",
    "# Save the dimensions size for later reference when configuring the index\n",
    "embedding_dimensions = len(vector)\n",
    "\n",
    "print(f\"Vector dimension: {embedding_dimensions}\")\n",
    "print(f\"First 10 elements: {vector[:10]}\")"
   ]
  },
  {
   "cell_type": "markdown",
   "metadata": {},
   "source": [
    "## Get handle to the default Foundry project AI Search connection\n",
    "This will be named AzureAISearch in your AI Foundry project connected resources."
   ]
  },
  {
   "cell_type": "code",
   "execution_count": 7,
   "metadata": {},
   "outputs": [
    {
     "name": "stdout",
     "output_type": "stream",
     "text": [
      "Connected to AI Search service: AzureAISearch\n",
      "Endpoint: https://srch-jpb-ai-core.search.windows.net\n"
     ]
    }
   ],
   "source": [
    "search_connection = project_client.connections.get_default(\n",
    "    connection_type=ConnectionType.AZURE_AI_SEARCH,\n",
    "    include_credentials=True,\n",
    ")\n",
    "\n",
    "print(f\"Connected to AI Search service: {search_connection.name}\")\n",
    "print(f\"Endpoint: {search_connection.endpoint_url}\")"
   ]
  },
  {
   "cell_type": "markdown",
   "metadata": {},
   "source": [
    "## Create AI Search clients for managing indexing and searching"
   ]
  },
  {
   "cell_type": "code",
   "execution_count": 16,
   "metadata": {},
   "outputs": [],
   "source": [
    "# Define the index name\n",
    "index_name = \"space-facts\"\n",
    "\n",
    "# Create a client to manage search indexes\n",
    "index_client = SearchIndexClient(\n",
    "    endpoint=search_connection.endpoint_url,\n",
    "    credential=AzureKeyCredential(key=search_connection.key)\n",
    ")\n",
    "\n",
    "# Create a client to run search queries\n",
    "search_client = SearchClient(\n",
    "    index_name=index_name,\n",
    "    endpoint=search_connection.endpoint_url,\n",
    "    credential=AzureKeyCredential(key=search_connection.key)\n",
    ")"
   ]
  },
  {
   "cell_type": "markdown",
   "metadata": {},
   "source": [
    "## Delete index if enabled\n",
    "Helps with iterative testing"
   ]
  },
  {
   "cell_type": "code",
   "execution_count": 17,
   "metadata": {},
   "outputs": [
    {
     "name": "stdout",
     "output_type": "stream",
     "text": [
      "Index 'space-facts' deleted successfully.\n"
     ]
    }
   ],
   "source": [
    "delete_index_if_exists = True\n",
    "\n",
    "if delete_index_if_exists:\n",
    "    try:\n",
    "        index_client.delete_index(index_name)\n",
    "        print(f\"Index '{index_name}' deleted successfully.\")\n",
    "    except Exception as e:\n",
    "        print(f\"Index '{index_name}' does not exist or could not be deleted: {str(e)}\")"
   ]
  },
  {
   "cell_type": "markdown",
   "metadata": {},
   "source": [
    "## Check if index exists and create if needed\n",
    "\n",
    "Check if the *customer* index already exists, and create if not. Index based on the following schema and configuration"
   ]
  },
  {
   "cell_type": "code",
   "execution_count": 18,
   "metadata": {},
   "outputs": [
    {
     "name": "stdout",
     "output_type": "stream",
     "text": [
      "Index 'space-facts' does not exist. Creating...\n",
      "Index 'space-facts' created successfully.\n"
     ]
    }
   ],
   "source": [
    "# Check if the index exists\n",
    "index_exists = index_name in [index.name for index in index_client.list_indexes()]\n",
    "\n",
    "if index_exists:\n",
    "    print(f\"Index '{index_name}' already exists.\")\n",
    "else:\n",
    "    print(f\"Index '{index_name}' does not exist. Creating...\")\n",
    "    \n",
    "    # index schema definition\n",
    "    fields = [\n",
    "        SimpleField(name=\"id\", type=SearchFieldDataType.String, key=True, filterable=True, sortable=True),\n",
    "        SearchableField(name=\"content\", type=SearchFieldDataType.String),\n",
    "        SimpleField(name=\"category\", type=SearchFieldDataType.String, filterable=True, sortable=True, facetable=True),\n",
    "        SearchField(\n",
    "            name=\"content_vector\",\n",
    "            type=SearchFieldDataType.Collection(SearchFieldDataType.Single),\n",
    "            hidden=False,\n",
    "            searchable=True,\n",
    "            filterable=False,\n",
    "            sortable=False,\n",
    "            facetable=False,\n",
    "            vector_search_dimensions=embedding_dimensions,\n",
    "            vector_search_profile_name=\"embedding_config\",\n",
    "        )\n",
    "    ]\n",
    "    \n",
    "    # Define vectorizers (empty for now as not using integrated vectorization)\n",
    "    vectorizers = []\n",
    "    use_int_vectorization = False\n",
    "    \n",
    "    # Create the index with vector search and semantic search\n",
    "    index = SearchIndex(\n",
    "        name=index_name,\n",
    "        fields=fields,\n",
    "        semantic_search=SemanticSearch(\n",
    "            configurations=[\n",
    "                SemanticConfiguration(\n",
    "                    name=\"default\",\n",
    "                    prioritized_fields=SemanticPrioritizedFields(\n",
    "                        title_field=None, \n",
    "                        content_fields=[SemanticField(field_name=\"content\")]\n",
    "                    ),\n",
    "                )\n",
    "            ]\n",
    "        ),\n",
    "        vector_search=VectorSearch(\n",
    "            algorithms=[\n",
    "                HnswAlgorithmConfiguration(\n",
    "                    name=\"hnsw_config\",\n",
    "                    parameters=HnswParameters(metric=\"cosine\"),\n",
    "                )\n",
    "            ],\n",
    "            profiles=[\n",
    "                VectorSearchProfile(\n",
    "                    name=\"embedding_config\",\n",
    "                    algorithm_configuration_name=\"hnsw_config\",\n",
    "                    vectorizer_name=(\n",
    "                        f\"{index_name}-vectorizer\" if use_int_vectorization else None\n",
    "                    ),\n",
    "                ),\n",
    "            ],\n",
    "            vectorizers=vectorizers,\n",
    "        ),\n",
    "    )\n",
    "    \n",
    "    result = index_client.create_index(index)\n",
    "    print(f\"Index '{index_name}' created successfully.\")"
   ]
  },
  {
   "cell_type": "markdown",
   "metadata": {},
   "source": [
    "## Create sample space facts data\n",
    "\n",
    "Generate a small dataset of space facts that we'll use for our RAG system."
   ]
  },
  {
   "cell_type": "code",
   "execution_count": 19,
   "metadata": {},
   "outputs": [],
   "source": [
    "space_facts = [\n",
    "    {\n",
    "        \"id\": \"doc1\",\n",
    "        \"content\": \"The Great Red Spot on Jupiter is a storm that has been raging for at least 400 years and is large enough to fit three Earths inside it.\",\n",
    "        \"category\": \"Solar System Facts\"\n",
    "    },\n",
    "    {\n",
    "        \"id\": \"doc2\",\n",
    "        \"content\": \"Saturn's rings are made primarily of ice particles, with a small amount of rocky debris and dust. Despite their massive appearance, they're only about 10 meters thick in most places.\",\n",
    "        \"category\": \"Solar System Facts\"\n",
    "    },\n",
    "    {\n",
    "        \"id\": \"doc3\",\n",
    "        \"content\": \"An event horizon is the boundary around a black hole beyond which nothing, not even light, can escape its gravitational pull.\",\n",
    "        \"category\": \"Astrophysics Concepts\"\n",
    "    },\n",
    "    {\n",
    "        \"id\": \"doc4\",\n",
    "        \"content\": \"The universe is expanding at an accelerating rate due to a mysterious force scientists call dark energy, which makes up roughly 68% of the universe.\",\n",
    "        \"category\": \"Cosmology\"\n",
    "    },\n",
    "    {\n",
    "        \"id\": \"doc5\",\n",
    "        \"content\": \"Neutron stars are so dense that a teaspoon of their material would weigh about a billion tons on Earth, equivalent to the weight of a mountain.\",\n",
    "        \"category\": \"Stellar Objects\"\n",
    "    },\n",
    "    {\n",
    "        \"id\": \"doc6\",\n",
    "        \"content\": \"Time dilation, predicted by Einstein's theory of relativity, means that time actually passes slower for objects in stronger gravitational fields or moving at high speeds.\",\n",
    "        \"category\": \"Physics Concepts\"\n",
    "    },\n",
    "    {\n",
    "        \"id\": \"doc7\",\n",
    "        \"content\": \"Venus rotates on its axis in the opposite direction to most planets, meaning the sun rises in the west and sets in the east. Its day is also longer than its year.\",\n",
    "        \"category\": \"Solar System Facts\"\n",
    "    },\n",
    "    {\n",
    "        \"id\": \"doc8\",\n",
    "        \"content\": \"Quantum entanglement allows particles to be connected in such a way that the quantum state of each particle cannot be described independently of the others, regardless of distance.\",\n",
    "        \"category\": \"Quantum Physics\"\n",
    "    },\n",
    "    {\n",
    "        \"id\": \"doc9\",\n",
    "        \"content\": \"The Andromeda Galaxy is on a collision course with our Milky Way. The galaxies will begin to merge in about 4.5 billion years, forming a new galaxy astronomers have nicknamed 'Milkomeda'.\",\n",
    "        \"category\": \"Galactic Facts\"\n",
    "    },\n",
    "    {\n",
    "        \"id\": \"doc10\",\n",
    "        \"content\": \"A white dwarf star is what remains after a sun-like star has exhausted its nuclear fuel. These stellar remnants are incredibly dense, packing a sun's worth of material into an Earth-sized sphere.\",\n",
    "        \"category\": \"Stellar Evolution\"\n",
    "    },\n",
    "    {\n",
    "        \"id\": \"doc11\",\n",
    "        \"content\": \"The Oort Cloud is a theoretical cloud of predominantly icy objects that surrounds the Sun at distances ranging from 2,000 to 100,000 astronomical units. It's believed to be the source of long-period comets.\",\n",
    "        \"category\": \"Solar System Facts\"\n",
    "    },\n",
    "    {\n",
    "        \"id\": \"doc12\",\n",
    "        \"content\": \"Pulsars are rapidly rotating neutron stars that emit beams of electromagnetic radiation from their poles. As they spin, these beams sweep across Earth like cosmic lighthouses, appearing to pulse.\",\n",
    "        \"category\": \"Stellar Objects\"\n",
    "    },\n",
    "    {\n",
    "        \"id\": \"doc13\",\n",
    "        \"content\": \"The cosmic microwave background radiation is the afterglow of the Big Bang, filling all space. It is the oldest light in the universe, dating to about 380,000 years after the Big Bang.\",\n",
    "        \"category\": \"Cosmology\"\n",
    "    },\n",
    "    {\n",
    "        \"id\": \"doc14\",\n",
    "        \"content\": \"Enceladus, a moon of Saturn, has geysers that shoot plumes of water ice into space. This suggests the presence of a subsurface ocean that could potentially harbor life.\",\n",
    "        \"category\": \"Solar System Facts\"\n",
    "    },\n",
    "    {\n",
    "        \"id\": \"doc15\",\n",
    "        \"content\": \"Gravitational lensing occurs when a massive object bends the light from objects behind it, acting like a lens. This effect helps astronomers see distant galaxies that would otherwise be too faint to detect.\",\n",
    "        \"category\": \"Astrophysics Concepts\"\n",
    "    },\n",
    "    {\n",
    "        \"id\": \"doc16\",\n",
    "        \"content\": \"The quantum tunneling phenomenon allows particles to pass through barriers that should be impenetrable according to classical physics. This process is essential for nuclear fusion in stars.\",\n",
    "        \"category\": \"Quantum Physics\"\n",
    "    },\n",
    "    {\n",
    "        \"id\": \"doc17\",\n",
    "        \"content\": \"Europa, one of Jupiter's moons, has more liquid water than all of Earth's oceans combined, hidden beneath its icy surface. This makes it one of the most promising places to look for extraterrestrial life.\",\n",
    "        \"category\": \"Solar System Facts\"\n",
    "    },\n",
    "    {\n",
    "        \"id\": \"doc18\",\n",
    "        \"content\": \"A supernova can briefly outshine an entire galaxy and radiate more energy than our sun will emit over its entire lifespan. These stellar explosions are responsible for creating many of the elements in the universe.\",\n",
    "        \"category\": \"Stellar Evolution\"\n",
    "    },\n",
    "    {\n",
    "        \"id\": \"doc19\",\n",
    "        \"content\": \"The multiverse theory suggests that our universe is just one of many universes, each with potentially different laws of physics. These parallel universes may be impossible to detect directly.\",\n",
    "        \"category\": \"Theoretical Physics\"\n",
    "    },\n",
    "    {\n",
    "        \"id\": \"doc20\",\n",
    "        \"content\": \"The Chandrasekhar limit (about 1.4 solar masses) determines the fate of a white dwarf star. Exceeding this mass triggers a supernova explosion, as electron degeneracy pressure can no longer support the star.\",\n",
    "        \"category\": \"Stellar Physics\"\n",
    "    },\n",
    "    {\n",
    "        \"id\": \"doc21\",\n",
    "        \"content\": \"Mars' Olympus Mons is the tallest mountain in the solar system, standing at approximately 22 km (13.6 miles) high. That's nearly three times the height of Mount Everest.\",\n",
    "        \"category\": \"Solar System Facts\"\n",
    "    },\n",
    "    {\n",
    "        \"id\": \"doc22\",\n",
    "        \"content\": \"Hawking radiation is a theoretical process by which black holes slowly lose mass and eventually evaporate. This contradicts the classical view that nothing, including energy, can escape a black hole.\",\n",
    "        \"category\": \"Astrophysics Concepts\"\n",
    "    },\n",
    "    {\n",
    "        \"id\": \"doc23\",\n",
    "        \"content\": \"The observable universe contains an estimated 2 trillion galaxies, each containing billions to trillions of stars. This is only the portion of the universe we can theoretically observe from Earth.\",\n",
    "        \"category\": \"Cosmology\"\n",
    "    },\n",
    "    {\n",
    "        \"id\": \"doc24\",\n",
    "        \"content\": \"The James Webb Space Telescope can observe objects formed just 100-250 million years after the Big Bang, revealing the earliest galaxies and potentially observing the formation of the first stars.\",\n",
    "        \"category\": \"Astronomy Technology\"\n",
    "    },\n",
    "    {\n",
    "        \"id\": \"doc25\",\n",
    "        \"content\": \"Baryonic matter—the ordinary matter that makes up stars, planets, and people—accounts for only about 5% of the universe's total mass-energy content. The rest is dark matter and dark energy.\",\n",
    "        \"category\": \"Cosmology\"\n",
    "    },\n",
    "    {\n",
    "        \"id\": \"doc26\",\n",
    "        \"content\": \"Quasars are among the brightest objects in the universe, powered by supermassive black holes actively feeding on surrounding matter. They can outshine entire galaxies despite being relatively compact.\",\n",
    "        \"category\": \"Galactic Objects\"\n",
    "    },\n",
    "    {\n",
    "        \"id\": \"doc27\",\n",
    "        \"content\": \"The concept of spacetime, introduced by Hermann Minkowski and incorporated into Einstein's relativity, unifies three-dimensional space and time into a single four-dimensional continuum.\",\n",
    "        \"category\": \"Physics Concepts\"\n",
    "    },\n",
    "    {\n",
    "        \"id\": \"doc28\",\n",
    "        \"content\": \"A spaghettification is the theoretical stretching and compressing of objects into long thin shapes when caught in extremely strong gravitational fields, such as those found near black holes.\",\n",
    "        \"category\": \"Astrophysics Concepts\"\n",
    "    },\n",
    "    {\n",
    "        \"id\": \"doc29\",\n",
    "        \"content\": \"Gamma-ray bursts are the most energetic explosions observed in the universe, releasing as much energy in seconds as the Sun will in its entire 10-billion-year lifetime.\",\n",
    "        \"category\": \"Cosmic Phenomena\"\n",
    "    },\n",
    "    {\n",
    "        \"id\": \"doc30\",\n",
    "        \"content\": \"Planetesimals are solid objects thought to exist in protoplanetary disks and in debris disks. These rocky or icy bodies, ranging from several meters to hundreds of kilometers in size, are building blocks of planets.\",\n",
    "        \"category\": \"Planetary Formation\"\n",
    "    }\n",
    "]"
   ]
  },
  {
   "cell_type": "markdown",
   "metadata": {},
   "source": [
    "## Generate embeddings for space facts and upload to search index"
   ]
  },
  {
   "cell_type": "code",
   "execution_count": 20,
   "metadata": {},
   "outputs": [
    {
     "name": "stdout",
     "output_type": "stream",
     "text": [
      "Added vector embeddings to customer profiles.\n",
      "Vector dimension: 3072\n"
     ]
    }
   ],
   "source": [
    "# Generate embeddings for each customer's profile text\n",
    "for fact in space_facts:\n",
    "    content = fact['content']\n",
    "    embedding_response = embedding_client.embed(model=\"text-embedding-3-large\", input=content)\n",
    "    fact['content_vector'] = embedding_response.data[0].embedding\n",
    "    \n",
    "print(\"Added vector embeddings to customer profiles.\")\n",
    "print(f\"Vector dimension: {len(space_facts[0]['content_vector'])}\")"
   ]
  },
  {
   "cell_type": "markdown",
   "metadata": {},
   "source": [
    "## Upload Documents to the Index"
   ]
  },
  {
   "cell_type": "code",
   "execution_count": 21,
   "metadata": {},
   "outputs": [
    {
     "name": "stdout",
     "output_type": "stream",
     "text": [
      "Uploaded 30 documents to the index.\n",
      "Document 1 succeeded\n",
      "Document 2 succeeded\n",
      "Document 3 succeeded\n",
      "Document 4 succeeded\n",
      "Document 5 succeeded\n",
      "Document 6 succeeded\n",
      "Document 7 succeeded\n",
      "Document 8 succeeded\n",
      "Document 9 succeeded\n",
      "Document 10 succeeded\n",
      "Document 11 succeeded\n",
      "Document 12 succeeded\n",
      "Document 13 succeeded\n",
      "Document 14 succeeded\n",
      "Document 15 succeeded\n",
      "Document 16 succeeded\n",
      "Document 17 succeeded\n",
      "Document 18 succeeded\n",
      "Document 19 succeeded\n",
      "Document 20 succeeded\n",
      "Document 21 succeeded\n",
      "Document 22 succeeded\n",
      "Document 23 succeeded\n",
      "Document 24 succeeded\n",
      "Document 25 succeeded\n",
      "Document 26 succeeded\n",
      "Document 27 succeeded\n",
      "Document 28 succeeded\n",
      "Document 29 succeeded\n",
      "Document 30 succeeded\n"
     ]
    }
   ],
   "source": [
    "# Upload documents to the index\n",
    "result = search_client.upload_documents(documents=space_facts)\n",
    "print(f\"Uploaded {len(result)} documents to the index.\")\n",
    "\n",
    "# Check the results\n",
    "for i, success in enumerate(result):\n",
    "    print(f\"Document {i+1} {'succeeded' if success else 'failed'}\")"
   ]
  },
  {
   "cell_type": "markdown",
   "metadata": {},
   "source": [
    "## Implement RAG Chat Function\n",
    "\n",
    "Create a function that implements the RAG pattern:\n",
    "1. Embed the user query\n",
    "2. Search the vector index with that embedding to get top docs\n",
    "3. Generate an answer using the retrieved docs"
   ]
  },
  {
   "cell_type": "code",
   "execution_count": 22,
   "metadata": {},
   "outputs": [],
   "source": [
    "def rag_chat(query, embeddings_client, search_client, project_client, chat_model, top_k=3):\n",
    "    \"\"\"\n",
    "    Implement the RAG pattern:\n",
    "    1. Embed user query\n",
    "    2. Search vector index with that embedding to get top docs\n",
    "    3. Generate answer using retrieved docs\n",
    "    \"\"\"\n",
    "\n",
    "    user_query_vector = embeddings_client.embed(model=\"text-embedding-3-large\", input=[query]).data[0].embedding\n",
    "\n",
    "    results = search_client.search(\n",
    "        search_text=\"\",\n",
    "        vector_queries=[{\n",
    "            \"vector\": user_query_vector,\n",
    "            \"fields\": \"content_vector\",\n",
    "            \"k\": 5,\n",
    "            \"kind\": \"vector\"  \n",
    "        }],\n",
    "    )\n",
    "\n",
    "    top_docs_content = []\n",
    "    for res in results:\n",
    "        top_docs_content.append(f\"Source: {res['category']} => {res['content']}\")\n",
    "\n",
    "    system_message = (\n",
    "        \"You are a space facts assistant.\\n\"\n",
    "        \"Answer user questions using ONLY the text from these docs.\\n\"\n",
    "        \"Docs:\\n\"\n",
    "        + \"\\n\".join(top_docs_content)\n",
    "        + \"\\nIf unsure, say 'I'm not sure'.\\n\"\n",
    "    )\n",
    "\n",
    "    with project_client.inference.get_chat_completions_client() as chat_client:\n",
    "        response = chat_client.complete(\n",
    "            model=chat_model,\n",
    "            messages=[\n",
    "                SystemMessage(content=system_message),\n",
    "                UserMessage(content=query)\n",
    "            ]\n",
    "        )\n",
    "    return response.choices[0].message.content"
   ]
  },
  {
   "cell_type": "markdown",
   "metadata": {},
   "source": [
    "## Test\n",
    "\n",
    "Let's try our RAG system with an example query."
   ]
  },
  {
   "cell_type": "code",
   "execution_count": 23,
   "metadata": {},
   "outputs": [
    {
     "name": "stdout",
     "output_type": "stream",
     "text": [
      "🗣️ User Query: What's the multiverse theory?\n",
      "🤖 RAG Answer: The multiverse theory suggests that our universe is just one of many universes, each with potentially different laws of physics. These parallel universes may be impossible to detect directly.\n"
     ]
    }
   ],
   "source": [
    "# Example query\n",
    "user_query = \"What's the multiverse theory?\"\n",
    "chat_model = \"gpt-4o-mini\"\n",
    "\n",
    "# Get the RAG answer\n",
    "answer = rag_chat(\n",
    "    query=user_query,\n",
    "    embeddings_client=embedding_client,\n",
    "    search_client=search_client,\n",
    "    project_client=project_client,\n",
    "    chat_model=chat_model\n",
    ")\n",
    "\n",
    "print(\"🗣️ User Query:\", user_query)\n",
    "print(\"🤖 RAG Answer:\", answer)"
   ]
  },
  {
   "cell_type": "code",
   "execution_count": 24,
   "metadata": {},
   "outputs": [
    {
     "name": "stdout",
     "output_type": "stream",
     "text": [
      "🗣️ User Query: Explain Gamma-ray bursts\n",
      "🤖 RAG Answer: Gamma-ray bursts are the most energetic explosions observed in the universe, releasing as much energy in seconds as the Sun will in its entire 10-billion-year lifetime.\n"
     ]
    }
   ],
   "source": [
    "# Example query\n",
    "user_query = \"Explain Gamma-ray bursts\"\n",
    "chat_model = \"gpt-4o-mini\"\n",
    "\n",
    "# Get the RAG answer\n",
    "answer = rag_chat(\n",
    "    query=user_query,\n",
    "    embeddings_client=embedding_client,\n",
    "    search_client=search_client,\n",
    "    project_client=project_client,\n",
    "    chat_model=chat_model\n",
    ")\n",
    "\n",
    "print(\"🗣️ User Query:\", user_query)\n",
    "print(\"🤖 RAG Answer:\", answer)"
   ]
  },
  {
   "cell_type": "code",
   "execution_count": 25,
   "metadata": {},
   "outputs": [
    {
     "name": "stdout",
     "output_type": "stream",
     "text": [
      "🗣️ User Query: How do you make bread and butter pudding?\n",
      "🤖 RAG Answer: I'm not sure.\n"
     ]
    }
   ],
   "source": [
    "# Example query\n",
    "user_query = \"How do you make bread and butter pudding?\"\n",
    "chat_model = \"gpt-4o-mini\"\n",
    "\n",
    "# Get the RAG answer\n",
    "answer = rag_chat(\n",
    "    query=user_query,\n",
    "    embeddings_client=embedding_client,\n",
    "    search_client=search_client,\n",
    "    project_client=project_client,\n",
    "    chat_model=chat_model\n",
    ")\n",
    "\n",
    "print(\"🗣️ User Query:\", user_query)\n",
    "print(\"🤖 RAG Answer:\", answer)"
   ]
  }
 ],
 "metadata": {
  "kernelspec": {
   "display_name": "Python 3",
   "language": "python",
   "name": "python3"
  },
  "language_info": {
   "codemirror_mode": {
    "name": "ipython",
    "version": 3
   },
   "file_extension": ".py",
   "mimetype": "text/x-python",
   "name": "python",
   "nbconvert_exporter": "python",
   "pygments_lexer": "ipython3",
   "version": "3.11.11"
  }
 },
 "nbformat": 4,
 "nbformat_minor": 4
}
