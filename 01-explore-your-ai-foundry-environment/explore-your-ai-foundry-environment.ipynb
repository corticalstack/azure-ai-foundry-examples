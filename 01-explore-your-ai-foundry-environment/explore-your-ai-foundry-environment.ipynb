{
 "cells": [
  {
   "cell_type": "markdown",
   "id": "ff53b1e0",
   "metadata": {},
   "source": [
    "# Explore your Azure AI Foundry environment\n",
    "\n",
    "This notebook let's you explore you Azure AI Foundry environment. Keep coming back here to explore your assets as you deploy more."
   ]
  },
  {
   "cell_type": "markdown",
   "id": "5a108d90",
   "metadata": {},
   "source": [
    "## Azure Authentication\n",
    "Verify Azure credentials."
   ]
  },
  {
   "cell_type": "code",
   "execution_count": 1,
   "id": "714b5791",
   "metadata": {},
   "outputs": [
    {
     "name": "stdout",
     "output_type": "stream",
     "text": [
      "✓ Successfully initialized DefaultAzureCredential\n"
     ]
    }
   ],
   "source": [
    "from azure.identity import DefaultAzureCredential\n",
    "from azure.ai.projects import AIProjectClient\n",
    "from azure.ai.projects.models import ConnectionType\n",
    "import os\n",
    "\n",
    "try:\n",
    "    credential = DefaultAzureCredential()\n",
    "    print(\"✓ Successfully initialized DefaultAzureCredential\")\n",
    "except Exception as e:\n",
    "    print(f\"× Error initializing credentials: {str(e)}\")"
   ]
  },
  {
   "cell_type": "markdown",
   "id": "87e22718",
   "metadata": {},
   "source": [
    "## Initialize AI Project Client\n",
    "\n",
    " **Note:** Before proceeding, make sure you've updated variable `AZURE_AI_FOUNDRY_PROJECT_CONNECTION_STRING` in your `.env` file.\n",
    "\n",
    "You can find your project connection string in [Azure AI Foundry](https://ai.azure.com) under your project's settings:"
   ]
  },
  {
   "cell_type": "markdown",
   "id": "ad3e2dbc",
   "metadata": {},
   "source": [
    "## Instantiating a handle to your AI Foundry project with AIProjectClient\n",
    "\n",
    "The AIProjectClient handle allows you to:\n",
    "\n",
    "- **Handles Authentication**: Securely connects using Azure credentials\n",
    "- **Manages Project Settings**: Controls configurations for your Azure AI Foundry project\n",
    "- **Manages Connections**: Lists and accesses Azure AI Foundry resources like OpenAI models\n",
    "- **Enables Model Access**: Provides interfaces to use AI models and deployments\n",
    "\n",
    "\n",
    "The client requires:\n",
    "- An AI Foundry project connection string (from Azure AI Foundry project settings)\n",
    "- Valid Azure credentials"
   ]
  },
  {
   "cell_type": "code",
   "execution_count": 2,
   "id": "2ac8b2fd",
   "metadata": {},
   "outputs": [
    {
     "name": "stdout",
     "output_type": "stream",
     "text": [
      "✓ Successfully initialized AIProjectClient\n"
     ]
    }
   ],
   "source": [
    "from dotenv import load_dotenv\n",
    "from pathlib import Path\n",
    "\n",
    "# Load environment variables\n",
    "notebook_path = Path().absolute()\n",
    "parent_dir = notebook_path.parent\n",
    "load_dotenv(parent_dir / '.env')\n",
    "\n",
    "# Instantiate AIProjectClient with the Azure AI Foundry connection string and credentials\n",
    "try:\n",
    "    client = AIProjectClient.from_connection_string(\n",
    "        conn_str=os.getenv(\"AZURE_AI_FOUNDRY_PROJECT_CONNECTION_STRING\"),\n",
    "        credential=credential\n",
    "    )\n",
    "    print(\"✓ Successfully initialized AIProjectClient\")\n",
    "except Exception as e:\n",
    "    print(f\"× Error initializing client: {str(e)}\")"
   ]
  },
  {
   "cell_type": "markdown",
   "id": "10962ac9",
   "metadata": {},
   "source": [
    "## Verify Existing Models and Connections\n",
    "View deployed models and configured connections."
   ]
  },
  {
   "cell_type": "code",
   "execution_count": 12,
   "id": "1fff9d11",
   "metadata": {},
   "outputs": [
    {
     "name": "stdout",
     "output_type": "stream",
     "text": [
      "====> Listing of all connections (found 6):\n",
      "{\n",
      " \"name\": \"AzureAISearch\",\n",
      " \"id\": \"/subscriptions/9a34467e-21af-4dc0-af6a-4f2f94d4f925/resourceGroups/rg-jpb-ai-services-core/providers/Microsoft.MachineLearningServices/workspaces/proj-jpb-ai-core/connections/AzureAISearch\",\n",
      " \"authentication_type\": \"ApiKey\",\n",
      " \"connection_type\": \"ConnectionType.AZURE_AI_SEARCH\",\n",
      " \"endpoint_url\": \"https://srch-jpb-ai-core882946009308.search.windows.net\",\n",
      " \"key\": null\n",
      " \"token_credential\": null\n",
      "}\n",
      "\n",
      "{\n",
      " \"name\": \"oai-jpb-core\",\n",
      " \"id\": \"/subscriptions/9a34467e-21af-4dc0-af6a-4f2f94d4f925/resourceGroups/rg-jpb-ai-services-core/providers/Microsoft.MachineLearningServices/workspaces/proj-jpb-ai-core/connections/oai-jpb-core\",\n",
      " \"authentication_type\": \"ApiKey\",\n",
      " \"connection_type\": \"ConnectionType.AZURE_OPEN_AI\",\n",
      " \"endpoint_url\": \"https://oai-jpb-core.openai.azure.com\",\n",
      " \"key\": null\n",
      " \"token_credential\": null\n",
      "}\n",
      "\n",
      "{\n",
      " \"name\": \"aisjpbcore_aoai\",\n",
      " \"id\": \"/subscriptions/9a34467e-21af-4dc0-af6a-4f2f94d4f925/resourceGroups/rg-jpb-ai-services-core/providers/Microsoft.MachineLearningServices/workspaces/proj-jpb-ai-core/connections/aisjpbcore_aoai\",\n",
      " \"authentication_type\": \"ApiKey\",\n",
      " \"connection_type\": \"ConnectionType.AZURE_OPEN_AI\",\n",
      " \"endpoint_url\": \"https://ais-jpb-core.openai.azure.com\",\n",
      " \"key\": null\n",
      " \"token_credential\": null\n",
      "}\n",
      "\n",
      "{\n",
      " \"name\": \"aisjpbcore\",\n",
      " \"id\": \"/subscriptions/9a34467e-21af-4dc0-af6a-4f2f94d4f925/resourceGroups/rg-jpb-ai-services-core/providers/Microsoft.MachineLearningServices/workspaces/proj-jpb-ai-core/connections/aisjpbcore\",\n",
      " \"authentication_type\": \"ApiKey\",\n",
      " \"connection_type\": \"ConnectionType.AZURE_AI_SERVICES\",\n",
      " \"endpoint_url\": \"https://ais-jpb-core.cognitiveservices.azure.com\",\n",
      " \"key\": null\n",
      " \"token_credential\": null\n",
      "}\n",
      "\n",
      "{\n",
      " \"name\": \"proj-jpb-ai-core/workspaceblobstore\",\n",
      " \"id\": \"/subscriptions/9a34467e-21af-4dc0-af6a-4f2f94d4f925/resourceGroups/rg-jpb-ai-services-core/providers/Microsoft.MachineLearningServices/workspaces/proj-jpb-ai-core/connections/proj-jpb-ai-core/workspaceblobstore\",\n",
      " \"authentication_type\": \"SAS\",\n",
      " \"connection_type\": \"ConnectionType.AZURE_BLOB_STORAGE\",\n",
      " \"endpoint_url\": \"https://sthubjpbaico882946009308.core.windows.net/a6c42185-10cc-4b50-90bb-46e84a1e8ada-azureml-blobstore\",\n",
      " \"key\": null\n",
      " \"token_credential\": null\n",
      "}\n",
      "\n",
      "{\n",
      " \"name\": \"proj-jpb-ai-core/workspaceartifactstore\",\n",
      " \"id\": \"/subscriptions/9a34467e-21af-4dc0-af6a-4f2f94d4f925/resourceGroups/rg-jpb-ai-services-core/providers/Microsoft.MachineLearningServices/workspaces/proj-jpb-ai-core/connections/proj-jpb-ai-core/workspaceartifactstore\",\n",
      " \"authentication_type\": \"SAS\",\n",
      " \"connection_type\": \"ConnectionType.AZURE_BLOB_STORAGE\",\n",
      " \"endpoint_url\": \"https://sthubjpbaico882946009308.core.windows.net/a6c42185-10cc-4b50-90bb-46e84a1e8ada-azureml\",\n",
      " \"key\": null\n",
      " \"token_credential\": null\n",
      "}\n",
      "\n",
      "====> Listing of all Azure Open AI connections (found 2):\n",
      "{\n",
      " \"name\": \"oai-jpb-core\",\n",
      " \"id\": \"/subscriptions/9a34467e-21af-4dc0-af6a-4f2f94d4f925/resourceGroups/rg-jpb-ai-services-core/providers/Microsoft.MachineLearningServices/workspaces/proj-jpb-ai-core/connections/oai-jpb-core\",\n",
      " \"authentication_type\": \"ApiKey\",\n",
      " \"connection_type\": \"ConnectionType.AZURE_OPEN_AI\",\n",
      " \"endpoint_url\": \"https://oai-jpb-core.openai.azure.com\",\n",
      " \"key\": null\n",
      " \"token_credential\": null\n",
      "}\n",
      "\n",
      "{\n",
      " \"name\": \"aisjpbcore_aoai\",\n",
      " \"id\": \"/subscriptions/9a34467e-21af-4dc0-af6a-4f2f94d4f925/resourceGroups/rg-jpb-ai-services-core/providers/Microsoft.MachineLearningServices/workspaces/proj-jpb-ai-core/connections/aisjpbcore_aoai\",\n",
      " \"authentication_type\": \"ApiKey\",\n",
      " \"connection_type\": \"ConnectionType.AZURE_OPEN_AI\",\n",
      " \"endpoint_url\": \"https://ais-jpb-core.openai.azure.com\",\n",
      " \"key\": null\n",
      " \"token_credential\": null\n",
      "}\n",
      "\n",
      "====> Get default Azure AI Services connection:\n",
      "{\n",
      " \"name\": \"aisjpbcore\",\n",
      " \"id\": \"/subscriptions/9a34467e-21af-4dc0-af6a-4f2f94d4f925/resourceGroups/rg-jpb-ai-services-core/providers/Microsoft.MachineLearningServices/workspaces/proj-jpb-ai-core/connections/aisjpbcore\",\n",
      " \"authentication_type\": \"ApiKey\",\n",
      " \"connection_type\": \"ConnectionType.AZURE_AI_SERVICES\",\n",
      " \"endpoint_url\": \"https://ais-jpb-core.cognitiveservices.azure.com\",\n",
      " \"key\": \"REDACTED\"\n",
      " \"token_credential\": null\n",
      "}\n",
      "\n",
      "====> Get connection by name:\n",
      "{\n",
      " \"name\": \"aisjpbcore\",\n",
      " \"id\": \"/subscriptions/9a34467e-21af-4dc0-af6a-4f2f94d4f925/resourceGroups/rg-jpb-ai-services-core/providers/Microsoft.MachineLearningServices/workspaces/proj-jpb-ai-core/connections/aisjpbcore\",\n",
      " \"authentication_type\": \"ApiKey\",\n",
      " \"connection_type\": \"ConnectionType.AZURE_AI_SERVICES\",\n",
      " \"endpoint_url\": \"https://ais-jpb-core.cognitiveservices.azure.com\",\n",
      " \"key\": \"REDACTED\"\n",
      " \"token_credential\": null\n",
      "}\n",
      "\n"
     ]
    }
   ],
   "source": [
    "# List the properties of all connections\n",
    "connections = client.connections.list()\n",
    "print(f\"====> Listing of all connections (found {len(connections)}):\")\n",
    "for connection in connections:\n",
    "    print(connection)\n",
    "\n",
    "# List the properties of all connections of a particular \"type\" (in this sample, Azure OpenAI connections)\n",
    "connections = client.connections.list(\n",
    "    connection_type=ConnectionType.AZURE_OPEN_AI,\n",
    ")\n",
    "print(f\"====> Listing of all Azure Open AI connections (found {len(connections)}):\")\n",
    "for connection in connections:\n",
    "    print(connection)\n",
    "\n",
    "# Get the properties of the default connection of a particular \"type\", with credentials\n",
    "connection = client.connections.get_default(\n",
    "    connection_type=ConnectionType.AZURE_AI_SERVICES,\n",
    "    include_credentials=True,  # Optional. Defaults to \"False\"\n",
    ")\n",
    "print(\"====> Get default Azure AI Services connection:\")\n",
    "print(connection)\n",
    "\n",
    "print(\"====> Get connection by name:\")\n",
    "print(connection)"
   ]
  },
  {
   "cell_type": "markdown",
   "id": "f75c4895",
   "metadata": {},
   "source": [
    "## Validate Model and Search Connections\n",
    "The cell below validates that we have properly provisioned and connected to:\n",
    "1. Azure OpenAI models through our Azure OpenAI connection\n",
    "2. Azure AI Search through our Azure AI Search connection\n",
    "\n",
    "Both of these services will be essential for building our AI applications. The OpenAI models will provide the core language capabilities, while Azure AI Search will enable efficient information retrieval and knowledge base functionality.\n",
    "\n"
   ]
  },
  {
   "cell_type": "code",
   "execution_count": 11,
   "id": "79dd3f5b",
   "metadata": {},
   "outputs": [
    {
     "name": "stdout",
     "output_type": "stream",
     "text": [
      "\n",
      "====> Connection IDs found:\n",
      "Azure AI Search: /subscriptions/9a34467e-21af-4dc0-af6a-4f2f94d4f925/resourceGroups/rg-jpb-ai-services-core/providers/Microsoft.MachineLearningServices/workspaces/proj-jpb-ai-core/connections/AzureAISearch\n",
      "Azure OpenAI: /subscriptions/9a34467e-21af-4dc0-af6a-4f2f94d4f925/resourceGroups/rg-jpb-ai-services-core/providers/Microsoft.MachineLearningServices/workspaces/proj-jpb-ai-core/connections/aisjpbcore_aoai\n"
     ]
    }
   ],
   "source": [
    "# List all connections and check for specific types\n",
    "conn_list = client.connections.list()\n",
    "search_conn_id = \"\"\n",
    "openai_conn_id = \"\"\n",
    "\n",
    "for conn in conn_list:\n",
    "    conn_type = str(conn.connection_type).split('.')[-1]  # Get the part after the dot\n",
    "    if conn_type == \"AZURE_AI_SEARCH\":\n",
    "        search_conn_id = conn.id\n",
    "    elif conn_type == \"AZURE_OPEN_AI\":\n",
    "        openai_conn_id = conn.id\n",
    "\n",
    "print(f\"\\n====> Connection IDs found:\")\n",
    "if not search_conn_id:\n",
    "    print(\"Azure AI Search: Not found - Please create an Azure AI Search connection\")\n",
    "else:\n",
    "    print(f\"Azure AI Search: {search_conn_id}\")\n",
    "    \n",
    "if not openai_conn_id:\n",
    "    print(\"Azure OpenAI: Not found - Please create an Azure OpenAI connection\") \n",
    "else:\n",
    "    print(f\"Azure OpenAI: {openai_conn_id}\")"
   ]
  }
 ],
 "metadata": {
  "kernelspec": {
   "display_name": "Python 3",
   "language": "python",
   "name": "python3"
  },
  "language_info": {
   "codemirror_mode": {
    "name": "ipython",
    "version": 3
   },
   "file_extension": ".py",
   "mimetype": "text/x-python",
   "name": "python",
   "nbconvert_exporter": "python",
   "pygments_lexer": "ipython3",
   "version": "3.11.11"
  }
 },
 "nbformat": 4,
 "nbformat_minor": 5
}
