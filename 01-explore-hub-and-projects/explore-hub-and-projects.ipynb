{
 "cells": [
  {
   "cell_type": "markdown",
   "metadata": {},
   "source": [
    "# Explore Azure AI Foundry Hub and Projects\n",
    "\n",
    "This notebook explores your Azure AI Foundry hub and associated projects, including:\n",
    "1. Dumping out details of the hub\n",
    "2. Displaying the docstring of the hub class that documents what a hub is\n",
    "3. Listing all the child workspaces of type project"
   ]
  },
  {
   "cell_type": "markdown",
   "metadata": {},
   "source": [
    "## Setup and Authentication"
   ]
  },
  {
   "cell_type": "code",
   "execution_count": 152,
   "metadata": {},
   "outputs": [],
   "source": [
    "import os\n",
    "import json\n",
    "import pandas as pd\n",
    "from pprint import pprint\n",
    "from dotenv import load_dotenv\n",
    "from pathlib import Path\n",
    "import inspect\n",
    "from IPython.display import display, Markdown, HTML\n",
    "from azure.identity import DefaultAzureCredential\n",
    "from azure.ai.ml import MLClient\n",
    "from azure.ai.ml.entities._workspace._ai_workspaces.hub import Hub\n",
    "from azure.ai.ml.entities._workspace._ai_workspaces.project import Project\n",
    "from azure.ai.projects import AIProjectClient\n",
    "from azure.mgmt.cognitiveservices import CognitiveServicesManagementClient\n"
   ]
  },
  {
   "cell_type": "code",
   "execution_count": 153,
   "metadata": {},
   "outputs": [
    {
     "name": "stdout",
     "output_type": "stream",
     "text": [
      "✓ Successfully initialized DefaultAzureCredential\n"
     ]
    }
   ],
   "source": [
    "# Load environment variables from .env file\n",
    "# Look for .env in the current directory and parent directory\n",
    "current_dir = Path(__file__).parent.absolute() if '__file__' in globals() else Path().absolute()\n",
    "root_dir = current_dir.parent\n",
    "load_dotenv(dotenv_path=root_dir / \".env\")\n",
    "\n",
    "try:\n",
    "    credential = DefaultAzureCredential()\n",
    "    print(\"✓ Successfully initialized DefaultAzureCredential\")\n",
    "except Exception as e:\n",
    "    print(f\"× Error initializing credentials: {str(e)}\")"
   ]
  },
  {
   "cell_type": "code",
   "execution_count": 154,
   "metadata": {},
   "outputs": [],
   "source": [
    "subscription_id = os.getenv(\"AZURE_SUBSCRIPTION_ID\")\n",
    "resource_group = os.getenv(\"AZURE_RESOURCE_GROUP\")"
   ]
  },
  {
   "cell_type": "markdown",
   "metadata": {},
   "source": [
    "## Hub Class Docstring\n",
    "\n",
    "Check the docstring of the Hub class for an explanation of what an AI Foundry Hub is."
   ]
  },
  {
   "cell_type": "code",
   "execution_count": 155,
   "metadata": {},
   "outputs": [
    {
     "name": "stdout",
     "output_type": "stream",
     "text": [
      "\n",
      "=== Hub Class Documentation:\n",
      "\n",
      ".. note::    This is an experimental class, and may change at any time. Please see https://aka.ms/azuremlexperimental for more information.\n",
      "\n",
      "A Hub is a special type of workspace that acts as a parent and resource container for lightweight child\n",
      "workspaces called projects. Resources like the hub's storage account, key vault,\n",
      "and container registry are shared by all child projects.\n",
      "\n",
      "As a type of workspace, hub management is controlled by an MLClient's workspace operations.\n",
      "\n",
      ":param name: Name of the hub.\n",
      ":type name: str\n",
      ":param description: Description of the hub.\n",
      ":type description: str\n",
      ":param tags: Tags of the hub.\n",
      ":type tags: dict\n",
      ":param display_name: Display name for the hub. This is non-unique within the resource group.\n",
      ":type display_name: str\n",
      ":param location: The location to create the hub in.\n",
      "    If not specified, the same location as the resource group will be used.\n",
      ":type location: str\n",
      ":param resource_group: Name of resource group to create the hub in.\n",
      ":type resource_group: str\n",
      ":param managed_network: Hub's Managed Network configuration\n",
      ":type managed_network: ~azure.ai.ml.entities.ManagedNetwork\n",
      ":param storage_account: The resource ID of an existing storage account to use instead of creating a new one.\n",
      ":type storage_account: str\n",
      ":param key_vault: The resource ID of an existing key vault to use instead of creating a new one.\n",
      ":type key_vault: str\n",
      ":param container_registry: The resource ID of an existing container registry\n",
      "    to use instead of creating a new one.\n",
      ":type container_registry: str\n",
      ":param customer_managed_key: Key vault details for encrypting data with customer-managed keys.\n",
      "    If not specified, Microsoft-managed keys will be used by default.\n",
      ":type customer_managed_key: ~azure.ai.ml.entities.CustomerManagedKey\n",
      ":param image_build_compute: The name of the compute target to use for building environment.\n",
      "    Docker images with the container registry is behind a VNet.\n",
      ":type image_build_compute: str\n",
      ":param public_network_access: Whether to allow public endpoint connectivity.\n",
      "    when a workspace is private link enabled.\n",
      ":type public_network_access: str\n",
      ":param network_acls: The network access control list (ACL) settings of the workspace.\n",
      ":type network_acls: ~azure.ai.ml.entities.NetworkAcls\n",
      ":param identity: The hub's Managed Identity (user assigned, or system assigned).\n",
      ":type identity: ~azure.ai.ml.entities.IdentityConfiguration\n",
      ":param primary_user_assigned_identity: The hub's primary user assigned identity.\n",
      ":type primary_user_assigned_identity: str\n",
      ":param enable_data_isolation: A flag to determine if workspace has data isolation enabled.\n",
      "    The flag can only be set at the creation phase, it can't be updated.\n",
      ":type enable_data_isolation: bool\n",
      ":param default_resource_group: The resource group that will be used by projects\n",
      "    created under this hub if no resource group is specified.\n",
      ":type default_resource_group: str\n",
      ":param kwargs: A dictionary of additional configuration parameters.\n",
      ":type kwargs: dict\n",
      "\n",
      ".. literalinclude:: ../samples/ml_samples_workspace.py\n",
      "        :start-after: [START workspace_hub]\n",
      "        :end-before: [END workspace_hub]\n",
      "        :language: python\n",
      "        :dedent: 8\n",
      "        :caption: Creating a Hub object.\n"
     ]
    }
   ],
   "source": [
    "hub_docstring = inspect.getdoc(Hub)\n",
    "print(\"\\n=== Hub Class Documentation:\")\n",
    "print(\"\\n\" + hub_docstring if hub_docstring else \"No docstring available for Hub class\")"
   ]
  },
  {
   "cell_type": "markdown",
   "metadata": {},
   "source": [
    "## Project Class Docstring\n",
    "\n",
    "Now check the docstring of the Project class to understand what an AI Foundry project is."
   ]
  },
  {
   "cell_type": "code",
   "execution_count": 156,
   "metadata": {},
   "outputs": [
    {
     "name": "stdout",
     "output_type": "stream",
     "text": [
      "\n",
      "==== Project Class Documentation:\n",
      "\n",
      ".. note::    This is an experimental class, and may change at any time. Please see https://aka.ms/azuremlexperimental for more information.\n",
      "\n",
      "A Project is a lightweight object for orchestrating AI applications, and is parented by a hub.\n",
      "Unlike a standard workspace, a project does not have a variety of sub-resources directly associated with it.\n",
      "Instead, its parent hub managed these resources, which are then used by the project and its siblings.\n",
      "\n",
      "As a type of workspace, project management is controlled by an MLClient's workspace operations.\n",
      "\n",
      ":param name: The name of the project.\n",
      ":type name: str\n",
      ":param hub_id: The hub parent of the project, as a resource ID.\n",
      ":type hub_id: str\n",
      ":param description: The description of the project.\n",
      ":type description: Optional[str]\n",
      ":param tags: Tags associated with the project.\n",
      ":type tags: Optional[Dict[str, str]]\n",
      ":param display_name: The display name of the project.\n",
      ":type display_name: Optional[str]\n",
      ":param location: The location of the project. Must match that of the parent hub\n",
      "    and is automatically assigned to match the parent hub's location during creation.\n",
      ":type location: Optional[str]\n",
      ":param resource_group: The project's resource group name.\n",
      ":type resource_group: Optional[str]\n"
     ]
    }
   ],
   "source": [
    "project_docstring = inspect.getdoc(Project)\n",
    "print(\"\\n==== Project Class Documentation:\")\n",
    "print(\"\\n\" + project_docstring if hub_docstring else \"No docstring available for project class\")"
   ]
  },
  {
   "cell_type": "markdown",
   "metadata": {},
   "source": [
    "## Some helper functions"
   ]
  },
  {
   "cell_type": "code",
   "execution_count": 157,
   "metadata": {},
   "outputs": [],
   "source": [
    "def get_ml_client(workspace_name):\n",
    "    \"\"\"\n",
    "    Initialize and return an MLClient for the specified workspace.\n",
    "    \n",
    "    Args:\n",
    "        workspace_name: Name of the workspace\n",
    "        \n",
    "    Returns:\n",
    "        MLClient: The initialized client or None if initialization fails\n",
    "    \"\"\"\n",
    "    try:\n",
    "        if not subscription_id or \"<\" in subscription_id:\n",
    "            print(\"× Error: AZURE_SUBSCRIPTION_ID not set or contains placeholder. Please update your .env file.\")\n",
    "            return None\n",
    "        elif not resource_group or \"<\" in resource_group:\n",
    "            print(\"× Error: Resource group not provided or contains placeholder.\")\n",
    "            return None\n",
    "        elif not workspace_name:\n",
    "            print(\"× Error: Workspace name not provided or contains placeholder.\")\n",
    "            return None\n",
    "            \n",
    "        client = MLClient(\n",
    "            credential=credential,\n",
    "            subscription_id=subscription_id,\n",
    "            resource_group_name=resource_group,\n",
    "            workspace_name=workspace_name\n",
    "        )\n",
    "        print(f\"✓ Successfully connected to workspace: {workspace_name}\")\n",
    "        return client\n",
    "        \n",
    "    except Exception as e:\n",
    "        print(f\"× Error connecting to workspace {workspace_name}: {str(e)}\")\n",
    "        return None"
   ]
  },
  {
   "cell_type": "code",
   "execution_count": 160,
   "metadata": {},
   "outputs": [],
   "source": [
    "def get_workspace_details(workspace_or_id, ml_client=None, title=None):\n",
    "    \"\"\"Get and display details for a workspace.\"\"\"\n",
    "    if isinstance(workspace_or_id, str):\n",
    "        # handle project\n",
    "        parts = workspace_or_id.split('/') \n",
    "        workspace = ml_client.workspaces.get(\n",
    "            name=parts[8],\n",
    "            resource_group_name=parts[4]\n",
    "        )\n",
    "    else:\n",
    "        # handle hub\n",
    "        workspace = workspace_or_id\n",
    "    \n",
    "    display(Markdown(f\"## {title} Details\"))\n",
    "    data = {\"Property\": [], \"Value\": []}\n",
    "    workspace_dict = workspace._to_dict()\n",
    "\n",
    "    for k, v in sorted(workspace_dict.items()):\n",
    "        data[\"Property\"].append(k)\n",
    "        if isinstance(v, (dict, list)):\n",
    "            data[\"Value\"].append(json.dumps(v, indent=4))\n",
    "        else:\n",
    "            data[\"Value\"].append(str(v))\n",
    "\n",
    "    df = pd.DataFrame(data)\n",
    "    styled_df = df.style.set_properties(**{\n",
    "        'white-space': 'pre-wrap', \n",
    "        'overflow-wrap': 'break-word',\n",
    "        'max-width': '800px'\n",
    "    })\n",
    "    \n",
    "    display(styled_df)\n",
    "    \n",
    "    summary = {\"name\": workspace.name, \"type\": \"Hub\" if isinstance(workspace, Hub) else \"Project\"}\n",
    "    if summary[\"type\"] == \"Hub\" and \"associated_workspaces\" in workspace_dict:\n",
    "        summary[\"child_projects\"] = len(workspace_dict[\"associated_workspaces\"])\n",
    "    elif \"hub_id\" in workspace_dict:\n",
    "        summary[\"parent_hub\"] = workspace_dict[\"hub_id\"].split(\"/\")[-1]\n",
    "        summary[\"discovery_url\"] = workspace_dict[\"discovery_url\"]\n",
    "        summary[\"id\"] = workspace_dict[\"id\"]\n",
    "    \n",
    "    return workspace, workspace_dict, summary"
   ]
  },
  {
   "cell_type": "markdown",
   "metadata": {},
   "source": [
    "## Instantiate a handle to the AI Foundry Hub"
   ]
  },
  {
   "cell_type": "code",
   "execution_count": 161,
   "metadata": {},
   "outputs": [
    {
     "name": "stderr",
     "output_type": "stream",
     "text": [
      "Overriding of current TracerProvider is not allowed\n",
      "Overriding of current LoggerProvider is not allowed\n",
      "Overriding of current MeterProvider is not allowed\n",
      "Attempting to instrument while already instrumented\n",
      "Attempting to instrument while already instrumented\n",
      "Attempting to instrument while already instrumented\n"
     ]
    },
    {
     "name": "stdout",
     "output_type": "stream",
     "text": [
      "✓ Successfully connected to workspace: hub-jpb-ai-core\n"
     ]
    }
   ],
   "source": [
    "hub_name = os.getenv(\"AZURE_AI_FOUNDRY_HUB_NAME\")\n",
    "hub_ml_client = get_ml_client(hub_name)"
   ]
  },
  {
   "cell_type": "markdown",
   "metadata": {},
   "source": [
    "## Explore the Hub\n",
    "Retrieve detailed information about the hub using our helper function."
   ]
  },
  {
   "cell_type": "code",
   "execution_count": 162,
   "metadata": {},
   "outputs": [
    {
     "data": {
      "text/markdown": [
       "## Hub Details"
      ],
      "text/plain": [
       "<IPython.core.display.Markdown object>"
      ]
     },
     "metadata": {},
     "output_type": "display_data"
    },
    {
     "data": {
      "text/html": [
       "<style type=\"text/css\">\n",
       "#T_87bda_row0_col0, #T_87bda_row0_col1, #T_87bda_row1_col0, #T_87bda_row1_col1, #T_87bda_row2_col0, #T_87bda_row2_col1, #T_87bda_row3_col0, #T_87bda_row3_col1, #T_87bda_row4_col0, #T_87bda_row4_col1, #T_87bda_row5_col0, #T_87bda_row5_col1, #T_87bda_row6_col0, #T_87bda_row6_col1, #T_87bda_row7_col0, #T_87bda_row7_col1, #T_87bda_row8_col0, #T_87bda_row8_col1, #T_87bda_row9_col0, #T_87bda_row9_col1, #T_87bda_row10_col0, #T_87bda_row10_col1, #T_87bda_row11_col0, #T_87bda_row11_col1, #T_87bda_row12_col0, #T_87bda_row12_col1, #T_87bda_row13_col0, #T_87bda_row13_col1, #T_87bda_row14_col0, #T_87bda_row14_col1, #T_87bda_row15_col0, #T_87bda_row15_col1 {\n",
       "  white-space: pre-wrap;\n",
       "  overflow-wrap: break-word;\n",
       "  max-width: 800px;\n",
       "}\n",
       "</style>\n",
       "<table id=\"T_87bda\">\n",
       "  <thead>\n",
       "    <tr>\n",
       "      <th class=\"blank level0\" >&nbsp;</th>\n",
       "      <th id=\"T_87bda_level0_col0\" class=\"col_heading level0 col0\" >Property</th>\n",
       "      <th id=\"T_87bda_level0_col1\" class=\"col_heading level0 col1\" >Value</th>\n",
       "    </tr>\n",
       "  </thead>\n",
       "  <tbody>\n",
       "    <tr>\n",
       "      <th id=\"T_87bda_level0_row0\" class=\"row_heading level0 row0\" >0</th>\n",
       "      <td id=\"T_87bda_row0_col0\" class=\"data row0 col0\" >associated_workspaces</td>\n",
       "      <td id=\"T_87bda_row0_col1\" class=\"data row0 col1\" >[\n",
       "    \"/subscriptions/9a34467e-21af-4dc0-af6a-4f2f94d4f925/resourceGroups/rg-jpb-ai-services-core/providers/Microsoft.MachineLearningServices/workspaces/proj-jpb-ai-core\"\n",
       "]</td>\n",
       "    </tr>\n",
       "    <tr>\n",
       "      <th id=\"T_87bda_level0_row1\" class=\"row_heading level0 row1\" >1</th>\n",
       "      <td id=\"T_87bda_row1_col0\" class=\"data row1 col0\" >default_resource_group</td>\n",
       "      <td id=\"T_87bda_row1_col1\" class=\"data row1 col1\" >/subscriptions/9a34467e-21af-4dc0-af6a-4f2f94d4f925/resourceGroups/rg-jpb-ai-services-core</td>\n",
       "    </tr>\n",
       "    <tr>\n",
       "      <th id=\"T_87bda_level0_row2\" class=\"row_heading level0 row2\" >2</th>\n",
       "      <td id=\"T_87bda_row2_col0\" class=\"data row2 col0\" >description</td>\n",
       "      <td id=\"T_87bda_row2_col1\" class=\"data row2 col1\" ></td>\n",
       "    </tr>\n",
       "    <tr>\n",
       "      <th id=\"T_87bda_level0_row3\" class=\"row_heading level0 row3\" >3</th>\n",
       "      <td id=\"T_87bda_row3_col0\" class=\"data row3 col0\" >display_name</td>\n",
       "      <td id=\"T_87bda_row3_col1\" class=\"data row3 col1\" >hub-jpb-ai-core</td>\n",
       "    </tr>\n",
       "    <tr>\n",
       "      <th id=\"T_87bda_level0_row4\" class=\"row_heading level0 row4\" >4</th>\n",
       "      <td id=\"T_87bda_row4_col0\" class=\"data row4 col0\" >enable_data_isolation</td>\n",
       "      <td id=\"T_87bda_row4_col1\" class=\"data row4 col1\" >True</td>\n",
       "    </tr>\n",
       "    <tr>\n",
       "      <th id=\"T_87bda_level0_row5\" class=\"row_heading level0 row5\" >5</th>\n",
       "      <td id=\"T_87bda_row5_col0\" class=\"data row5 col0\" >hbi_workspace</td>\n",
       "      <td id=\"T_87bda_row5_col1\" class=\"data row5 col1\" >False</td>\n",
       "    </tr>\n",
       "    <tr>\n",
       "      <th id=\"T_87bda_level0_row6\" class=\"row_heading level0 row6\" >6</th>\n",
       "      <td id=\"T_87bda_row6_col0\" class=\"data row6 col0\" >id</td>\n",
       "      <td id=\"T_87bda_row6_col1\" class=\"data row6 col1\" >/subscriptions/9a34467e-21af-4dc0-af6a-4f2f94d4f925/resourceGroups/rg-jpb-ai-services-core/providers/Microsoft.MachineLearningServices/workspaces/hub-jpb-ai-core</td>\n",
       "    </tr>\n",
       "    <tr>\n",
       "      <th id=\"T_87bda_level0_row7\" class=\"row_heading level0 row7\" >7</th>\n",
       "      <td id=\"T_87bda_row7_col0\" class=\"data row7 col0\" >identity</td>\n",
       "      <td id=\"T_87bda_row7_col1\" class=\"data row7 col1\" >{\n",
       "    \"type\": \"system_assigned\",\n",
       "    \"principal_id\": \"5d4661ad-3bda-43e4-a307-506405c2753b\",\n",
       "    \"tenant_id\": \"16b3c013-d300-468d-ac64-7eda0820b6d3\"\n",
       "}</td>\n",
       "    </tr>\n",
       "    <tr>\n",
       "      <th id=\"T_87bda_level0_row8\" class=\"row_heading level0 row8\" >8</th>\n",
       "      <td id=\"T_87bda_row8_col0\" class=\"data row8 col0\" >key_vault</td>\n",
       "      <td id=\"T_87bda_row8_col1\" class=\"data row8 col1\" >/subscriptions/9a34467e-21af-4dc0-af6a-4f2f94d4f925/resourceGroups/rg-jpb-ai-services-core/providers/Microsoft.KeyVault/vaults/kv-hubjpbai882946009308</td>\n",
       "    </tr>\n",
       "    <tr>\n",
       "      <th id=\"T_87bda_level0_row9\" class=\"row_heading level0 row9\" >9</th>\n",
       "      <td id=\"T_87bda_row9_col0\" class=\"data row9 col0\" >location</td>\n",
       "      <td id=\"T_87bda_row9_col1\" class=\"data row9 col1\" >swedencentral</td>\n",
       "    </tr>\n",
       "    <tr>\n",
       "      <th id=\"T_87bda_level0_row10\" class=\"row_heading level0 row10\" >10</th>\n",
       "      <td id=\"T_87bda_row10_col0\" class=\"data row10 col0\" >managed_network</td>\n",
       "      <td id=\"T_87bda_row10_col1\" class=\"data row10 col1\" >{\n",
       "    \"isolation_mode\": \"disabled\",\n",
       "    \"outbound_rules\": []\n",
       "}</td>\n",
       "    </tr>\n",
       "    <tr>\n",
       "      <th id=\"T_87bda_level0_row11\" class=\"row_heading level0 row11\" >11</th>\n",
       "      <td id=\"T_87bda_row11_col0\" class=\"data row11 col0\" >name</td>\n",
       "      <td id=\"T_87bda_row11_col1\" class=\"data row11 col1\" >hub-jpb-ai-core</td>\n",
       "    </tr>\n",
       "    <tr>\n",
       "      <th id=\"T_87bda_level0_row12\" class=\"row_heading level0 row12\" >12</th>\n",
       "      <td id=\"T_87bda_row12_col0\" class=\"data row12 col0\" >public_network_access</td>\n",
       "      <td id=\"T_87bda_row12_col1\" class=\"data row12 col1\" >Enabled</td>\n",
       "    </tr>\n",
       "    <tr>\n",
       "      <th id=\"T_87bda_level0_row13\" class=\"row_heading level0 row13\" >13</th>\n",
       "      <td id=\"T_87bda_row13_col0\" class=\"data row13 col0\" >resource_group</td>\n",
       "      <td id=\"T_87bda_row13_col1\" class=\"data row13 col1\" >rg-jpb-ai-services-core</td>\n",
       "    </tr>\n",
       "    <tr>\n",
       "      <th id=\"T_87bda_level0_row14\" class=\"row_heading level0 row14\" >14</th>\n",
       "      <td id=\"T_87bda_row14_col0\" class=\"data row14 col0\" >storage_account</td>\n",
       "      <td id=\"T_87bda_row14_col1\" class=\"data row14 col1\" >/subscriptions/9a34467e-21af-4dc0-af6a-4f2f94d4f925/resourceGroups/rg-jpb-ai-services-core/providers/Microsoft.Storage/storageAccounts/sthubjpbaico882946009308</td>\n",
       "    </tr>\n",
       "    <tr>\n",
       "      <th id=\"T_87bda_level0_row15\" class=\"row_heading level0 row15\" >15</th>\n",
       "      <td id=\"T_87bda_row15_col0\" class=\"data row15 col0\" >tags</td>\n",
       "      <td id=\"T_87bda_row15_col1\" class=\"data row15 col1\" >{\n",
       "    \"__SYSTEM__CognitiveSearch_AzureAISearch\": \"/subscriptions/9a34467e-21af-4dc0-af6a-4f2f94d4f925/resourceGroups/rg-jpb-ai-services-core/providers/Microsoft.Search/searchServices/srch-jpb-ai-core882946009308\",\n",
       "    \"__SYSTEM__AzureOpenAI_oai-jpb-core\": \"/subscriptions/9a34467e-21af-4dc0-af6a-4f2f94d4f925/resourceGroups/rg-jpb-ai-services-core/providers/Microsoft.CognitiveServices/accounts/oai-jpb-core\",\n",
       "    \"__SYSTEM__AzureOpenAI_aisjpbcore_aoai\": \"/subscriptions/9a34467e-21af-4dc0-af6a-4f2f94d4f925/resourceGroups/rg-jpb-ai-services-core/providers/Microsoft.CognitiveServices/accounts/ais-jpb-core\",\n",
       "    \"__SYSTEM__AIServices_aisjpbcore\": \"/subscriptions/9a34467e-21af-4dc0-af6a-4f2f94d4f925/resourceGroups/rg-jpb-ai-services-core/providers/Microsoft.CognitiveServices/accounts/ais-jpb-core\"\n",
       "}</td>\n",
       "    </tr>\n",
       "  </tbody>\n",
       "</table>\n"
      ],
      "text/plain": [
       "<pandas.io.formats.style.Styler at 0x7f434c132650>"
      ]
     },
     "metadata": {},
     "output_type": "display_data"
    }
   ],
   "source": [
    "hub_info = hub_ml_client.workspaces.get(name=hub_name)\n",
    "hub, hub_dict, hub_summary = get_workspace_details(hub_info, title=\"Hub\")"
   ]
  },
  {
   "cell_type": "markdown",
   "metadata": {},
   "source": [
    "## Hub connections\n",
    "List the hub connections"
   ]
  },
  {
   "cell_type": "code",
   "execution_count": 164,
   "metadata": {},
   "outputs": [
    {
     "data": {
      "text/markdown": [
       "##  Connection #1: AzureAISearch"
      ],
      "text/plain": [
       "<IPython.core.display.Markdown object>"
      ]
     },
     "metadata": {},
     "output_type": "display_data"
    },
    {
     "name": "stdout",
     "output_type": "stream",
     "text": [
      "{'name': 'AzureAISearch',\n",
      " 'description': None,\n",
      " 'properties': {},\n",
      " '_print_as_yaml': False,\n",
      " '_id': '/subscriptions/9a34467e-21af-4dc0-af6a-4f2f94d4f925/resourceGroups/rg-jpb-ai-services-core/providers/Microsoft.MachineLearningServices/workspaces/hub-jpb-ai-core/connections/AzureAISearch',\n",
      " '_Resource__source_path': '',\n",
      " '_base_path': '/workspaces/azure-ai-foundry-examples/01-explore-hub-and-projects',\n",
      " '_creation_context': <azure.ai.ml.entities._system_data.SystemData object at 0x7f434c285010>,\n",
      " '_serialize': <msrest.serialization.Serializer object at 0x7f43b4547650>,\n",
      " '_type': 'azure_ai_search',\n",
      " '_target': 'https://srch-jpb-ai-core.search.windows.net/',\n",
      " '_credentials': {'type': 'api_key'},\n",
      " '_is_shared': True,\n",
      " '_metadata': {'type': 'azure_ai_search',\n",
      "               'ApiType': 'Azure',\n",
      "               'ResourceId': '/subscriptions/9a34467e-21af-4dc0-af6a-4f2f94d4f925/resourceGroups/rg-jpb-ai-services-core/providers/Microsoft.Search/searchServices/srch-jpb-ai-core882946009308',\n",
      "               'Location': 'swedencentral',\n",
      "               'ApiVersion': '2024-05-01-preview',\n",
      "               'DeploymentApiVersion': '2023-11-01'}}\n"
     ]
    },
    {
     "data": {
      "text/markdown": [
       "##  Connection #2: oai-jpb-core"
      ],
      "text/plain": [
       "<IPython.core.display.Markdown object>"
      ]
     },
     "metadata": {},
     "output_type": "display_data"
    },
    {
     "name": "stdout",
     "output_type": "stream",
     "text": [
      "{'name': 'oai-jpb-core',\n",
      " 'description': None,\n",
      " 'properties': {},\n",
      " '_print_as_yaml': False,\n",
      " '_id': '/subscriptions/9a34467e-21af-4dc0-af6a-4f2f94d4f925/resourceGroups/rg-jpb-ai-services-core/providers/Microsoft.MachineLearningServices/workspaces/hub-jpb-ai-core/connections/oai-jpb-core',\n",
      " '_Resource__source_path': '',\n",
      " '_base_path': '/workspaces/azure-ai-foundry-examples/01-explore-hub-and-projects',\n",
      " '_creation_context': <azure.ai.ml.entities._system_data.SystemData object at 0x7f43b4545010>,\n",
      " '_serialize': <msrest.serialization.Serializer object at 0x7f43b45448d0>,\n",
      " '_type': 'azure_open_ai',\n",
      " '_target': 'https://oai-jpb-core.openai.azure.com/',\n",
      " '_credentials': {'type': 'api_key'},\n",
      " '_is_shared': True,\n",
      " '_metadata': {'ApiType': 'Azure',\n",
      "               'ResourceId': '/subscriptions/9a34467e-21af-4dc0-af6a-4f2f94d4f925/resourceGroups/rg-jpb-ai-services-core/providers/Microsoft.CognitiveServices/accounts/oai-jpb-core',\n",
      "               'Location': 'swedencentral',\n",
      "               'ApiVersion': '2023-07-01-preview',\n",
      "               'DeploymentApiVersion': '2023-10-01-preview'}}\n"
     ]
    },
    {
     "data": {
      "text/markdown": [
       "##  Connection #3: aisjpbcore_aoai"
      ],
      "text/plain": [
       "<IPython.core.display.Markdown object>"
      ]
     },
     "metadata": {},
     "output_type": "display_data"
    },
    {
     "name": "stdout",
     "output_type": "stream",
     "text": [
      "{'name': 'aisjpbcore_aoai',\n",
      " 'description': None,\n",
      " 'properties': {},\n",
      " '_print_as_yaml': False,\n",
      " '_id': '/subscriptions/9a34467e-21af-4dc0-af6a-4f2f94d4f925/resourceGroups/rg-jpb-ai-services-core/providers/Microsoft.MachineLearningServices/workspaces/hub-jpb-ai-core/connections/aisjpbcore_aoai',\n",
      " '_Resource__source_path': '',\n",
      " '_base_path': '/workspaces/azure-ai-foundry-examples/01-explore-hub-and-projects',\n",
      " '_creation_context': <azure.ai.ml.entities._system_data.SystemData object at 0x7f434c264c90>,\n",
      " '_serialize': <msrest.serialization.Serializer object at 0x7f43b4406c10>,\n",
      " '_type': 'azure_open_ai',\n",
      " '_target': 'https://ais-jpb-core.openai.azure.com/',\n",
      " '_credentials': {'type': 'api_key'},\n",
      " '_is_shared': True,\n",
      " '_metadata': {'ApiType': 'Azure',\n",
      "               'ResourceId': '/subscriptions/9a34467e-21af-4dc0-af6a-4f2f94d4f925/resourceGroups/rg-jpb-ai-services-core/providers/Microsoft.CognitiveServices/accounts/ais-jpb-core',\n",
      "               'Location': 'swedencentral',\n",
      "               'ApiVersion': '2023-07-01-preview',\n",
      "               'DeploymentApiVersion': '2023-10-01-preview'}}\n"
     ]
    },
    {
     "data": {
      "text/markdown": [
       "##  Connection #4: aisjpbcore"
      ],
      "text/plain": [
       "<IPython.core.display.Markdown object>"
      ]
     },
     "metadata": {},
     "output_type": "display_data"
    },
    {
     "name": "stdout",
     "output_type": "stream",
     "text": [
      "{'name': 'aisjpbcore',\n",
      " 'description': None,\n",
      " 'properties': {},\n",
      " '_print_as_yaml': False,\n",
      " '_id': '/subscriptions/9a34467e-21af-4dc0-af6a-4f2f94d4f925/resourceGroups/rg-jpb-ai-services-core/providers/Microsoft.MachineLearningServices/workspaces/hub-jpb-ai-core/connections/aisjpbcore',\n",
      " '_Resource__source_path': '',\n",
      " '_base_path': '/workspaces/azure-ai-foundry-examples/01-explore-hub-and-projects',\n",
      " '_creation_context': <azure.ai.ml.entities._system_data.SystemData object at 0x7f43b441ca50>,\n",
      " '_serialize': <msrest.serialization.Serializer object at 0x7f43b4545810>,\n",
      " '_type': 'azure_ai_services',\n",
      " '_target': 'https://ais-jpb-core.cognitiveservices.azure.com/',\n",
      " '_credentials': {'type': 'api_key'},\n",
      " '_is_shared': True,\n",
      " '_metadata': {'ApiType': 'Azure',\n",
      "               'ResourceId': '/subscriptions/9a34467e-21af-4dc0-af6a-4f2f94d4f925/resourceGroups/rg-jpb-ai-services-core/providers/Microsoft.CognitiveServices/accounts/ais-jpb-core',\n",
      "               'Location': 'swedencentral',\n",
      "               'ApiVersion': '2023-07-01-preview',\n",
      "               'DeploymentApiVersion': '2023-10-01-preview'}}\n"
     ]
    }
   ],
   "source": [
    "connection_list = hub_ml_client.connections.list()\n",
    "for i, conn in enumerate(connection_list):\n",
    "    display(Markdown(f\"##  Connection #{i+1}: {conn.name}\"))\n",
    "    \n",
    "    # Convert to dictionary and pretty print\n",
    "    conn_dict = conn.to_dict() if hasattr(conn, 'to_dict') else vars(conn)\n",
    "    pprint(conn_dict, width=100, sort_dicts=False)"
   ]
  },
  {
   "cell_type": "markdown",
   "metadata": {},
   "source": [
    "### Hub projects\n",
    "\n",
    "Now, let's list all the child workspaces of type project associated with this hub using our helper function."
   ]
  },
  {
   "cell_type": "code",
   "execution_count": 165,
   "metadata": {},
   "outputs": [
    {
     "data": {
      "text/markdown": [
       "## Listing child projects"
      ],
      "text/plain": [
       "<IPython.core.display.Markdown object>"
      ]
     },
     "metadata": {},
     "output_type": "display_data"
    },
    {
     "data": {
      "text/markdown": [
       "## Project #1 Details"
      ],
      "text/plain": [
       "<IPython.core.display.Markdown object>"
      ]
     },
     "metadata": {},
     "output_type": "display_data"
    },
    {
     "data": {
      "text/html": [
       "<style type=\"text/css\">\n",
       "#T_07ed5_row0_col0, #T_07ed5_row0_col1, #T_07ed5_row1_col0, #T_07ed5_row1_col1, #T_07ed5_row2_col0, #T_07ed5_row2_col1, #T_07ed5_row3_col0, #T_07ed5_row3_col1, #T_07ed5_row4_col0, #T_07ed5_row4_col1, #T_07ed5_row5_col0, #T_07ed5_row5_col1, #T_07ed5_row6_col0, #T_07ed5_row6_col1, #T_07ed5_row7_col0, #T_07ed5_row7_col1, #T_07ed5_row8_col0, #T_07ed5_row8_col1, #T_07ed5_row9_col0, #T_07ed5_row9_col1, #T_07ed5_row10_col0, #T_07ed5_row10_col1, #T_07ed5_row11_col0, #T_07ed5_row11_col1, #T_07ed5_row12_col0, #T_07ed5_row12_col1, #T_07ed5_row13_col0, #T_07ed5_row13_col1, #T_07ed5_row14_col0, #T_07ed5_row14_col1, #T_07ed5_row15_col0, #T_07ed5_row15_col1, #T_07ed5_row16_col0, #T_07ed5_row16_col1, #T_07ed5_row17_col0, #T_07ed5_row17_col1, #T_07ed5_row18_col0, #T_07ed5_row18_col1 {\n",
       "  white-space: pre-wrap;\n",
       "  overflow-wrap: break-word;\n",
       "  max-width: 800px;\n",
       "}\n",
       "</style>\n",
       "<table id=\"T_07ed5\">\n",
       "  <thead>\n",
       "    <tr>\n",
       "      <th class=\"blank level0\" >&nbsp;</th>\n",
       "      <th id=\"T_07ed5_level0_col0\" class=\"col_heading level0 col0\" >Property</th>\n",
       "      <th id=\"T_07ed5_level0_col1\" class=\"col_heading level0 col1\" >Value</th>\n",
       "    </tr>\n",
       "  </thead>\n",
       "  <tbody>\n",
       "    <tr>\n",
       "      <th id=\"T_07ed5_level0_row0\" class=\"row_heading level0 row0\" >0</th>\n",
       "      <td id=\"T_07ed5_row0_col0\" class=\"data row0 col0\" >allow_roleassignment_on_rg</td>\n",
       "      <td id=\"T_07ed5_row0_col1\" class=\"data row0 col1\" >False</td>\n",
       "    </tr>\n",
       "    <tr>\n",
       "      <th id=\"T_07ed5_level0_row1\" class=\"row_heading level0 row1\" >1</th>\n",
       "      <td id=\"T_07ed5_row1_col0\" class=\"data row1 col0\" >description</td>\n",
       "      <td id=\"T_07ed5_row1_col1\" class=\"data row1 col1\" ></td>\n",
       "    </tr>\n",
       "    <tr>\n",
       "      <th id=\"T_07ed5_level0_row2\" class=\"row_heading level0 row2\" >2</th>\n",
       "      <td id=\"T_07ed5_row2_col0\" class=\"data row2 col0\" >discovery_url</td>\n",
       "      <td id=\"T_07ed5_row2_col1\" class=\"data row2 col1\" >https://swedencentral.api.azureml.ms/discovery</td>\n",
       "    </tr>\n",
       "    <tr>\n",
       "      <th id=\"T_07ed5_level0_row3\" class=\"row_heading level0 row3\" >3</th>\n",
       "      <td id=\"T_07ed5_row3_col0\" class=\"data row3 col0\" >display_name</td>\n",
       "      <td id=\"T_07ed5_row3_col1\" class=\"data row3 col1\" >proj-jpb-ai-core</td>\n",
       "    </tr>\n",
       "    <tr>\n",
       "      <th id=\"T_07ed5_level0_row4\" class=\"row_heading level0 row4\" >4</th>\n",
       "      <td id=\"T_07ed5_row4_col0\" class=\"data row4 col0\" >enable_data_isolation</td>\n",
       "      <td id=\"T_07ed5_row4_col1\" class=\"data row4 col1\" >True</td>\n",
       "    </tr>\n",
       "    <tr>\n",
       "      <th id=\"T_07ed5_level0_row5\" class=\"row_heading level0 row5\" >5</th>\n",
       "      <td id=\"T_07ed5_row5_col0\" class=\"data row5 col0\" >hbi_workspace</td>\n",
       "      <td id=\"T_07ed5_row5_col1\" class=\"data row5 col1\" >False</td>\n",
       "    </tr>\n",
       "    <tr>\n",
       "      <th id=\"T_07ed5_level0_row6\" class=\"row_heading level0 row6\" >6</th>\n",
       "      <td id=\"T_07ed5_row6_col0\" class=\"data row6 col0\" >hub_id</td>\n",
       "      <td id=\"T_07ed5_row6_col1\" class=\"data row6 col1\" >/subscriptions/9a34467e-21af-4dc0-af6a-4f2f94d4f925/resourceGroups/rg-jpb-ai-services-core/providers/Microsoft.MachineLearningServices/workspaces/hub-jpb-ai-core</td>\n",
       "    </tr>\n",
       "    <tr>\n",
       "      <th id=\"T_07ed5_level0_row7\" class=\"row_heading level0 row7\" >7</th>\n",
       "      <td id=\"T_07ed5_row7_col0\" class=\"data row7 col0\" >id</td>\n",
       "      <td id=\"T_07ed5_row7_col1\" class=\"data row7 col1\" >/subscriptions/9a34467e-21af-4dc0-af6a-4f2f94d4f925/resourceGroups/rg-jpb-ai-services-core/providers/Microsoft.MachineLearningServices/workspaces/proj-jpb-ai-core</td>\n",
       "    </tr>\n",
       "    <tr>\n",
       "      <th id=\"T_07ed5_level0_row8\" class=\"row_heading level0 row8\" >8</th>\n",
       "      <td id=\"T_07ed5_row8_col0\" class=\"data row8 col0\" >identity</td>\n",
       "      <td id=\"T_07ed5_row8_col1\" class=\"data row8 col1\" >{\n",
       "    \"type\": \"system_assigned\",\n",
       "    \"principal_id\": \"959a3519-fb1d-4e1b-bac2-c35d929dbd16\",\n",
       "    \"tenant_id\": \"16b3c013-d300-468d-ac64-7eda0820b6d3\"\n",
       "}</td>\n",
       "    </tr>\n",
       "    <tr>\n",
       "      <th id=\"T_07ed5_level0_row9\" class=\"row_heading level0 row9\" >9</th>\n",
       "      <td id=\"T_07ed5_row9_col0\" class=\"data row9 col0\" >key_vault</td>\n",
       "      <td id=\"T_07ed5_row9_col1\" class=\"data row9 col1\" >/subscriptions/9a34467e-21af-4dc0-af6a-4f2f94d4f925/resourceGroups/rg-jpb-ai-services-core/providers/Microsoft.KeyVault/vaults/kv-hubjpbai882946009308</td>\n",
       "    </tr>\n",
       "    <tr>\n",
       "      <th id=\"T_07ed5_level0_row10\" class=\"row_heading level0 row10\" >10</th>\n",
       "      <td id=\"T_07ed5_row10_col0\" class=\"data row10 col0\" >location</td>\n",
       "      <td id=\"T_07ed5_row10_col1\" class=\"data row10 col1\" >swedencentral</td>\n",
       "    </tr>\n",
       "    <tr>\n",
       "      <th id=\"T_07ed5_level0_row11\" class=\"row_heading level0 row11\" >11</th>\n",
       "      <td id=\"T_07ed5_row11_col0\" class=\"data row11 col0\" >managed_network</td>\n",
       "      <td id=\"T_07ed5_row11_col1\" class=\"data row11 col1\" >{\n",
       "    \"isolation_mode\": \"disabled\",\n",
       "    \"outbound_rules\": []\n",
       "}</td>\n",
       "    </tr>\n",
       "    <tr>\n",
       "      <th id=\"T_07ed5_level0_row12\" class=\"row_heading level0 row12\" >12</th>\n",
       "      <td id=\"T_07ed5_row12_col0\" class=\"data row12 col0\" >mlflow_tracking_uri</td>\n",
       "      <td id=\"T_07ed5_row12_col1\" class=\"data row12 col1\" >azureml://swedencentral.api.azureml.ms/mlflow/v1.0/subscriptions/9a34467e-21af-4dc0-af6a-4f2f94d4f925/resourceGroups/rg-jpb-ai-services-core/providers/Microsoft.MachineLearningServices/workspaces/proj-jpb-ai-core</td>\n",
       "    </tr>\n",
       "    <tr>\n",
       "      <th id=\"T_07ed5_level0_row13\" class=\"row_heading level0 row13\" >13</th>\n",
       "      <td id=\"T_07ed5_row13_col0\" class=\"data row13 col0\" >name</td>\n",
       "      <td id=\"T_07ed5_row13_col1\" class=\"data row13 col1\" >proj-jpb-ai-core</td>\n",
       "    </tr>\n",
       "    <tr>\n",
       "      <th id=\"T_07ed5_level0_row14\" class=\"row_heading level0 row14\" >14</th>\n",
       "      <td id=\"T_07ed5_row14_col0\" class=\"data row14 col0\" >public_network_access</td>\n",
       "      <td id=\"T_07ed5_row14_col1\" class=\"data row14 col1\" >Enabled</td>\n",
       "    </tr>\n",
       "    <tr>\n",
       "      <th id=\"T_07ed5_level0_row15\" class=\"row_heading level0 row15\" >15</th>\n",
       "      <td id=\"T_07ed5_row15_col0\" class=\"data row15 col0\" >resource_group</td>\n",
       "      <td id=\"T_07ed5_row15_col1\" class=\"data row15 col1\" >rg-jpb-ai-services-core</td>\n",
       "    </tr>\n",
       "    <tr>\n",
       "      <th id=\"T_07ed5_level0_row16\" class=\"row_heading level0 row16\" >16</th>\n",
       "      <td id=\"T_07ed5_row16_col0\" class=\"data row16 col0\" >storage_account</td>\n",
       "      <td id=\"T_07ed5_row16_col1\" class=\"data row16 col1\" >/subscriptions/9a34467e-21af-4dc0-af6a-4f2f94d4f925/resourceGroups/rg-jpb-ai-services-core/providers/Microsoft.Storage/storageAccounts/sthubjpbaico882946009308</td>\n",
       "    </tr>\n",
       "    <tr>\n",
       "      <th id=\"T_07ed5_level0_row17\" class=\"row_heading level0 row17\" >17</th>\n",
       "      <td id=\"T_07ed5_row17_col0\" class=\"data row17 col0\" >system_datastores_auth_mode</td>\n",
       "      <td id=\"T_07ed5_row17_col1\" class=\"data row17 col1\" >accesskey</td>\n",
       "    </tr>\n",
       "    <tr>\n",
       "      <th id=\"T_07ed5_level0_row18\" class=\"row_heading level0 row18\" >18</th>\n",
       "      <td id=\"T_07ed5_row18_col0\" class=\"data row18 col0\" >tags</td>\n",
       "      <td id=\"T_07ed5_row18_col1\" class=\"data row18 col1\" >{}</td>\n",
       "    </tr>\n",
       "  </tbody>\n",
       "</table>\n"
      ],
      "text/plain": [
       "<pandas.io.formats.style.Styler at 0x7f434c10df10>"
      ]
     },
     "metadata": {},
     "output_type": "display_data"
    },
    {
     "data": {
      "text/markdown": [
       "### Projects summary"
      ],
      "text/plain": [
       "<IPython.core.display.Markdown object>"
      ]
     },
     "metadata": {},
     "output_type": "display_data"
    },
    {
     "data": {
      "text/html": [
       "<div>\n",
       "<style scoped>\n",
       "    .dataframe tbody tr th:only-of-type {\n",
       "        vertical-align: middle;\n",
       "    }\n",
       "\n",
       "    .dataframe tbody tr th {\n",
       "        vertical-align: top;\n",
       "    }\n",
       "\n",
       "    .dataframe thead th {\n",
       "        text-align: right;\n",
       "    }\n",
       "</style>\n",
       "<table border=\"1\" class=\"dataframe\">\n",
       "  <thead>\n",
       "    <tr style=\"text-align: right;\">\n",
       "      <th></th>\n",
       "      <th>name</th>\n",
       "      <th>type</th>\n",
       "      <th>parent_hub</th>\n",
       "      <th>discovery_url</th>\n",
       "      <th>id</th>\n",
       "    </tr>\n",
       "  </thead>\n",
       "  <tbody>\n",
       "    <tr>\n",
       "      <th>0</th>\n",
       "      <td>proj-jpb-ai-core</td>\n",
       "      <td>Project</td>\n",
       "      <td>hub-jpb-ai-core</td>\n",
       "      <td>https://swedencentral.api.azureml.ms/discovery</td>\n",
       "      <td>/subscriptions/9a34467e-21af-4dc0-af6a-4f2f94d4f925/resourceGroups/rg-jpb-ai-services-core/providers/Microsoft.MachineLearningServices/workspaces/proj-jpb-ai-core</td>\n",
       "    </tr>\n",
       "  </tbody>\n",
       "</table>\n",
       "</div>"
      ],
      "text/plain": [
       "               name     type       parent_hub  \\\n",
       "0  proj-jpb-ai-core  Project  hub-jpb-ai-core   \n",
       "\n",
       "                                    discovery_url  \\\n",
       "0  https://swedencentral.api.azureml.ms/discovery   \n",
       "\n",
       "                                                                                                                                                                   id  \n",
       "0  /subscriptions/9a34467e-21af-4dc0-af6a-4f2f94d4f925/resourceGroups/rg-jpb-ai-services-core/providers/Microsoft.MachineLearningServices/workspaces/proj-jpb-ai-core  "
      ]
     },
     "metadata": {},
     "output_type": "display_data"
    },
    {
     "data": {
      "text/markdown": [
       "### Total Projects: 1"
      ],
      "text/plain": [
       "<IPython.core.display.Markdown object>"
      ]
     },
     "metadata": {},
     "output_type": "display_data"
    }
   ],
   "source": [
    "display(Markdown(f\"## Listing child projects\"))\n",
    "project_summaries = []\n",
    "\n",
    "if hasattr(hub, 'associated_workspaces') and hub.associated_workspaces:\n",
    "    for i, workspace_id in enumerate(hub.associated_workspaces):\n",
    "        workspace, _, summary = get_workspace_details(\n",
    "            workspace_id, \n",
    "            ml_client=hub_ml_client, \n",
    "            title=f\"Project #{i+1}\"\n",
    "        )\n",
    "        if workspace and isinstance(workspace, Project):\n",
    "            project_summaries.append(summary)\n",
    "    \n",
    "    if project_summaries:\n",
    "        display(Markdown(f\"### Projects summary\"))\n",
    "        projects_df = pd.DataFrame(project_summaries)\n",
    "        display(projects_df)\n",
    "        display(Markdown(f\"### Total Projects: {len(project_summaries)}\"))\n",
    "else:\n",
    "    display(Markdown(f\"### No associated workspaces found.\"))"
   ]
  },
  {
   "cell_type": "markdown",
   "metadata": {},
   "source": [
    "## Explore project connections"
   ]
  },
  {
   "cell_type": "code",
   "execution_count": 167,
   "metadata": {},
   "outputs": [
    {
     "data": {
      "text/markdown": [
       "## Exploring Project Connections"
      ],
      "text/plain": [
       "<IPython.core.display.Markdown object>"
      ]
     },
     "metadata": {},
     "output_type": "display_data"
    },
    {
     "data": {
      "text/markdown": [
       "### Project: proj-jpb-ai-core"
      ],
      "text/plain": [
       "<IPython.core.display.Markdown object>"
      ]
     },
     "metadata": {},
     "output_type": "display_data"
    },
    {
     "name": "stdout",
     "output_type": "stream",
     "text": [
      "Connection String: swedencentral.api.azureml.ms;9a34467e-21af-4dc0-af6a-4f2f94d4f925;rg-jpb-ai-services-core;proj-jpb-ai-core\n"
     ]
    },
    {
     "data": {
      "text/markdown": [
       "### Connections for proj-jpb-ai-core (found 6):"
      ],
      "text/plain": [
       "<IPython.core.display.Markdown object>"
      ]
     },
     "metadata": {},
     "output_type": "display_data"
    },
    {
     "data": {
      "text/markdown": [
       "#### Connection #1: AzureAISearch"
      ],
      "text/plain": [
       "<IPython.core.display.Markdown object>"
      ]
     },
     "metadata": {},
     "output_type": "display_data"
    },
    {
     "name": "stdout",
     "output_type": "stream",
     "text": [
      "{'id': '/subscriptions/9a34467e-21af-4dc0-af6a-4f2f94d4f925/resourceGroups/rg-jpb-ai-services-core/providers/Microsoft.MachineLearningServices/workspaces/proj-jpb-ai-core/connections/AzureAISearch',\n",
      " 'name': 'AzureAISearch',\n",
      " 'authentication_type': 'ApiKey',\n",
      " 'connection_type': <ConnectionType.AZURE_AI_SEARCH: 'CognitiveSearch'>,\n",
      " 'endpoint_url': 'https://srch-jpb-ai-core.search.windows.net',\n",
      " 'key': None,\n",
      " 'token_credential': None}\n"
     ]
    },
    {
     "data": {
      "text/markdown": [
       "#### Connection #2: oai-jpb-core"
      ],
      "text/plain": [
       "<IPython.core.display.Markdown object>"
      ]
     },
     "metadata": {},
     "output_type": "display_data"
    },
    {
     "name": "stdout",
     "output_type": "stream",
     "text": [
      "{'id': '/subscriptions/9a34467e-21af-4dc0-af6a-4f2f94d4f925/resourceGroups/rg-jpb-ai-services-core/providers/Microsoft.MachineLearningServices/workspaces/proj-jpb-ai-core/connections/oai-jpb-core',\n",
      " 'name': 'oai-jpb-core',\n",
      " 'authentication_type': 'ApiKey',\n",
      " 'connection_type': <ConnectionType.AZURE_OPEN_AI: 'AzureOpenAI'>,\n",
      " 'endpoint_url': 'https://oai-jpb-core.openai.azure.com',\n",
      " 'key': None,\n",
      " 'token_credential': None}\n"
     ]
    },
    {
     "data": {
      "text/markdown": [
       "#### Connection #3: aisjpbcore_aoai"
      ],
      "text/plain": [
       "<IPython.core.display.Markdown object>"
      ]
     },
     "metadata": {},
     "output_type": "display_data"
    },
    {
     "name": "stdout",
     "output_type": "stream",
     "text": [
      "{'id': '/subscriptions/9a34467e-21af-4dc0-af6a-4f2f94d4f925/resourceGroups/rg-jpb-ai-services-core/providers/Microsoft.MachineLearningServices/workspaces/proj-jpb-ai-core/connections/aisjpbcore_aoai',\n",
      " 'name': 'aisjpbcore_aoai',\n",
      " 'authentication_type': 'ApiKey',\n",
      " 'connection_type': <ConnectionType.AZURE_OPEN_AI: 'AzureOpenAI'>,\n",
      " 'endpoint_url': 'https://ais-jpb-core.openai.azure.com',\n",
      " 'key': None,\n",
      " 'token_credential': None}\n"
     ]
    },
    {
     "data": {
      "text/markdown": [
       "#### Connection #4: aisjpbcore"
      ],
      "text/plain": [
       "<IPython.core.display.Markdown object>"
      ]
     },
     "metadata": {},
     "output_type": "display_data"
    },
    {
     "name": "stdout",
     "output_type": "stream",
     "text": [
      "{'id': '/subscriptions/9a34467e-21af-4dc0-af6a-4f2f94d4f925/resourceGroups/rg-jpb-ai-services-core/providers/Microsoft.MachineLearningServices/workspaces/proj-jpb-ai-core/connections/aisjpbcore',\n",
      " 'name': 'aisjpbcore',\n",
      " 'authentication_type': 'ApiKey',\n",
      " 'connection_type': <ConnectionType.AZURE_AI_SERVICES: 'AIServices'>,\n",
      " 'endpoint_url': 'https://ais-jpb-core.cognitiveservices.azure.com',\n",
      " 'key': None,\n",
      " 'token_credential': None}\n"
     ]
    },
    {
     "data": {
      "text/markdown": [
       "#### Connection #5: proj-jpb-ai-core/workspaceblobstore"
      ],
      "text/plain": [
       "<IPython.core.display.Markdown object>"
      ]
     },
     "metadata": {},
     "output_type": "display_data"
    },
    {
     "name": "stdout",
     "output_type": "stream",
     "text": [
      "{'id': '/subscriptions/9a34467e-21af-4dc0-af6a-4f2f94d4f925/resourceGroups/rg-jpb-ai-services-core/providers/Microsoft.MachineLearningServices/workspaces/proj-jpb-ai-core/connections/proj-jpb-ai-core/workspaceblobstore',\n",
      " 'name': 'proj-jpb-ai-core/workspaceblobstore',\n",
      " 'authentication_type': 'SAS',\n",
      " 'connection_type': <ConnectionType.AZURE_BLOB_STORAGE: 'AzureBlob'>,\n",
      " 'endpoint_url': 'https://sthubjpbaico882946009308.core.windows.net/a6c42185-10cc-4b50-90bb-46e84a1e8ada-azureml-blobstore',\n",
      " 'key': None,\n",
      " 'token_credential': None}\n"
     ]
    },
    {
     "data": {
      "text/markdown": [
       "#### Connection #6: proj-jpb-ai-core/workspaceartifactstore"
      ],
      "text/plain": [
       "<IPython.core.display.Markdown object>"
      ]
     },
     "metadata": {},
     "output_type": "display_data"
    },
    {
     "name": "stdout",
     "output_type": "stream",
     "text": [
      "{'id': '/subscriptions/9a34467e-21af-4dc0-af6a-4f2f94d4f925/resourceGroups/rg-jpb-ai-services-core/providers/Microsoft.MachineLearningServices/workspaces/proj-jpb-ai-core/connections/proj-jpb-ai-core/workspaceartifactstore',\n",
      " 'name': 'proj-jpb-ai-core/workspaceartifactstore',\n",
      " 'authentication_type': 'SAS',\n",
      " 'connection_type': <ConnectionType.AZURE_BLOB_STORAGE: 'AzureBlob'>,\n",
      " 'endpoint_url': 'https://sthubjpbaico882946009308.core.windows.net/a6c42185-10cc-4b50-90bb-46e84a1e8ada-azureml',\n",
      " 'key': None,\n",
      " 'token_credential': None}\n"
     ]
    }
   ],
   "source": [
    "display(Markdown(f\"## Exploring Project Connections\"))\n",
    "for project in project_summaries:\n",
    "    discovery_url = project.get(\"discovery_url\", \"\")\n",
    "    project_id = project.get(\"id\", \"\")\n",
    "    project_name = project.get(\"name\", \"\")\n",
    "    \n",
    "    if not discovery_url or not project_id:\n",
    "        print(f\"× Skipping project {project_name} due to missing discovery_url or id\")\n",
    "        continue\n",
    "    \n",
    "    # Extract different parts of connection config to assemble the connection string\n",
    "    hostname = discovery_url.replace(\"https://\", \"\").replace(\"/discovery\", \"\")\n",
    "    id_parts = project_id.split('/')\n",
    "    subscription_id = id_parts[2] if len(id_parts) > 2 else \"\"\n",
    "    resource_group = id_parts[4] if len(id_parts) > 4 else \"\"\n",
    "    \n",
    "    conn_str = f\"{hostname};{subscription_id};{resource_group};{project_name}\"\n",
    "    \n",
    "    display(Markdown(f\"### Project: {project_name}\"))\n",
    "    print(f\"Connection String: {conn_str}\")\n",
    "    \n",
    "    try:\n",
    "        project_client = AIProjectClient.from_connection_string(\n",
    "            conn_str=conn_str,\n",
    "            credential=credential\n",
    "        )\n",
    "        \n",
    "        # Get connections for this project\n",
    "        connections = project_client.connections.list()\n",
    "        display(Markdown(f\"### Connections for {project_name} (found {len(connections)}):\"))\n",
    "        \n",
    "        for i, connection in enumerate(connections):\n",
    "            display(Markdown(f\"#### Connection #{i+1}: {connection.name}\"))\n",
    "            conn_dict = connection.to_dict() if hasattr(connection, 'to_dict') else vars(connection)\n",
    "            pprint(conn_dict, width=100, sort_dicts=False)\n",
    "            \n",
    "    except Exception as e:\n",
    "        print(f\"× Error working with project {project_name}: {str(e)}\")"
   ]
  },
  {
   "cell_type": "markdown",
   "metadata": {},
   "source": [
    "## Get Project Service Deployments\n",
    "Use CognitiveServicesManagementClient to get the project model deployments deployed as cognitive services resources."
   ]
  },
  {
   "cell_type": "code",
   "execution_count": 175,
   "metadata": {},
   "outputs": [],
   "source": [
    "def list_service_deployments(cognitive_client, resource_group_name, account_name):\n",
    "    \"\"\"Get deployments for a cognitive services account and return as a list of dictionaries.\"\"\"\n",
    "    try:\n",
    "        deployments = cognitive_client.deployments.list(resource_group_name, account_name)\n",
    "        deployment_list = []\n",
    "        \n",
    "        for deployment in deployments:\n",
    "            deployment_info = {\n",
    "                \"Account\": account_name,\n",
    "                \"Deployment\": deployment.name,\n",
    "                \"Model\": deployment.properties.model.name,\n",
    "                \"Scale Type\": deployment.sku.name,\n",
    "                \"Scale Size\": deployment.sku.capacity\n",
    "            }\n",
    "            deployment_list.append(deployment_info)\n",
    "            \n",
    "        return deployment_list\n",
    "    except Exception as e:\n",
    "        print(f\"× Error listing deployments for account {account_name}: {str(e)}\")\n",
    "        return []"
   ]
  },
  {
   "cell_type": "code",
   "execution_count": 176,
   "metadata": {},
   "outputs": [
    {
     "data": {
      "text/markdown": [
       "###  Cognitive Services Accounts and Deployments"
      ],
      "text/plain": [
       "<IPython.core.display.Markdown object>"
      ]
     },
     "metadata": {},
     "output_type": "display_data"
    },
    {
     "data": {
      "text/html": [
       "<style type=\"text/css\">\n",
       "#T_96df7_row0_col0, #T_96df7_row0_col1, #T_96df7_row0_col2, #T_96df7_row0_col3, #T_96df7_row0_col4, #T_96df7_row0_col5, #T_96df7_row0_col6, #T_96df7_row0_col7, #T_96df7_row1_col0, #T_96df7_row1_col1, #T_96df7_row1_col2, #T_96df7_row1_col3, #T_96df7_row1_col4, #T_96df7_row1_col5, #T_96df7_row1_col6, #T_96df7_row1_col7, #T_96df7_row2_col0, #T_96df7_row2_col1, #T_96df7_row2_col2, #T_96df7_row2_col3, #T_96df7_row2_col4, #T_96df7_row2_col5, #T_96df7_row2_col6, #T_96df7_row2_col7, #T_96df7_row3_col0, #T_96df7_row3_col1, #T_96df7_row3_col2, #T_96df7_row3_col3, #T_96df7_row3_col4, #T_96df7_row3_col5, #T_96df7_row3_col6, #T_96df7_row3_col7 {\n",
       "  white-space: pre-wrap;\n",
       "  overflow-wrap: break-word;\n",
       "  max-width: 800px;\n",
       "}\n",
       "</style>\n",
       "<table id=\"T_96df7\">\n",
       "  <thead>\n",
       "    <tr>\n",
       "      <th class=\"blank level0\" >&nbsp;</th>\n",
       "      <th id=\"T_96df7_level0_col0\" class=\"col_heading level0 col0\" >Account</th>\n",
       "      <th id=\"T_96df7_level0_col1\" class=\"col_heading level0 col1\" >Deployment</th>\n",
       "      <th id=\"T_96df7_level0_col2\" class=\"col_heading level0 col2\" >Model</th>\n",
       "      <th id=\"T_96df7_level0_col3\" class=\"col_heading level0 col3\" >Scale Type</th>\n",
       "      <th id=\"T_96df7_level0_col4\" class=\"col_heading level0 col4\" >Scale Size</th>\n",
       "      <th id=\"T_96df7_level0_col5\" class=\"col_heading level0 col5\" >Type</th>\n",
       "      <th id=\"T_96df7_level0_col6\" class=\"col_heading level0 col6\" >Location</th>\n",
       "      <th id=\"T_96df7_level0_col7\" class=\"col_heading level0 col7\" >Endpoint</th>\n",
       "    </tr>\n",
       "  </thead>\n",
       "  <tbody>\n",
       "    <tr>\n",
       "      <th id=\"T_96df7_level0_row0\" class=\"row_heading level0 row0\" >0</th>\n",
       "      <td id=\"T_96df7_row0_col0\" class=\"data row0 col0\" >oai-jpb-core</td>\n",
       "      <td id=\"T_96df7_row0_col1\" class=\"data row0 col1\" >gpt-4o-mini</td>\n",
       "      <td id=\"T_96df7_row0_col2\" class=\"data row0 col2\" >gpt-4o-mini</td>\n",
       "      <td id=\"T_96df7_row0_col3\" class=\"data row0 col3\" >GlobalStandard</td>\n",
       "      <td id=\"T_96df7_row0_col4\" class=\"data row0 col4\" >20</td>\n",
       "      <td id=\"T_96df7_row0_col5\" class=\"data row0 col5\" >OpenAI</td>\n",
       "      <td id=\"T_96df7_row0_col6\" class=\"data row0 col6\" >swedencentral</td>\n",
       "      <td id=\"T_96df7_row0_col7\" class=\"data row0 col7\" >https://oai-jpb-core.openai.azure.com/</td>\n",
       "    </tr>\n",
       "    <tr>\n",
       "      <th id=\"T_96df7_level0_row1\" class=\"row_heading level0 row1\" >1</th>\n",
       "      <td id=\"T_96df7_row1_col0\" class=\"data row1 col0\" >oai-jpb-core</td>\n",
       "      <td id=\"T_96df7_row1_col1\" class=\"data row1 col1\" >gpt-4o</td>\n",
       "      <td id=\"T_96df7_row1_col2\" class=\"data row1 col2\" >gpt-4o</td>\n",
       "      <td id=\"T_96df7_row1_col3\" class=\"data row1 col3\" >GlobalStandard</td>\n",
       "      <td id=\"T_96df7_row1_col4\" class=\"data row1 col4\" >20</td>\n",
       "      <td id=\"T_96df7_row1_col5\" class=\"data row1 col5\" >OpenAI</td>\n",
       "      <td id=\"T_96df7_row1_col6\" class=\"data row1 col6\" >swedencentral</td>\n",
       "      <td id=\"T_96df7_row1_col7\" class=\"data row1 col7\" >https://oai-jpb-core.openai.azure.com/</td>\n",
       "    </tr>\n",
       "    <tr>\n",
       "      <th id=\"T_96df7_level0_row2\" class=\"row_heading level0 row2\" >2</th>\n",
       "      <td id=\"T_96df7_row2_col0\" class=\"data row2 col0\" >ais-jpb-core</td>\n",
       "      <td id=\"T_96df7_row2_col1\" class=\"data row2 col1\" >gpt-4o-mini</td>\n",
       "      <td id=\"T_96df7_row2_col2\" class=\"data row2 col2\" >gpt-4o-mini</td>\n",
       "      <td id=\"T_96df7_row2_col3\" class=\"data row2 col3\" >GlobalStandard</td>\n",
       "      <td id=\"T_96df7_row2_col4\" class=\"data row2 col4\" >21</td>\n",
       "      <td id=\"T_96df7_row2_col5\" class=\"data row2 col5\" >AIServices</td>\n",
       "      <td id=\"T_96df7_row2_col6\" class=\"data row2 col6\" >swedencentral</td>\n",
       "      <td id=\"T_96df7_row2_col7\" class=\"data row2 col7\" >https://ais-jpb-core.cognitiveservices.azure.com/</td>\n",
       "    </tr>\n",
       "    <tr>\n",
       "      <th id=\"T_96df7_level0_row3\" class=\"row_heading level0 row3\" >3</th>\n",
       "      <td id=\"T_96df7_row3_col0\" class=\"data row3 col0\" >ais-jpb-core</td>\n",
       "      <td id=\"T_96df7_row3_col1\" class=\"data row3 col1\" >text-embedding-3-large</td>\n",
       "      <td id=\"T_96df7_row3_col2\" class=\"data row3 col2\" >text-embedding-3-large</td>\n",
       "      <td id=\"T_96df7_row3_col3\" class=\"data row3 col3\" >GlobalStandard</td>\n",
       "      <td id=\"T_96df7_row3_col4\" class=\"data row3 col4\" >21</td>\n",
       "      <td id=\"T_96df7_row3_col5\" class=\"data row3 col5\" >AIServices</td>\n",
       "      <td id=\"T_96df7_row3_col6\" class=\"data row3 col6\" >swedencentral</td>\n",
       "      <td id=\"T_96df7_row3_col7\" class=\"data row3 col7\" >https://ais-jpb-core.cognitiveservices.azure.com/</td>\n",
       "    </tr>\n",
       "  </tbody>\n",
       "</table>\n"
      ],
      "text/plain": [
       "<pandas.io.formats.style.Styler at 0x7f443469d9d0>"
      ]
     },
     "metadata": {},
     "output_type": "display_data"
    }
   ],
   "source": [
    "display(Markdown(f\"###  Cognitive Services Accounts and Deployments\"))\n",
    "\n",
    "try:\n",
    "    all_deployments = []\n",
    "    \n",
    "    cognitive_client = CognitiveServicesManagementClient(credential, subscription_id)\n",
    "    accounts = cognitive_client.accounts.list()\n",
    "\n",
    "    for account in accounts:\n",
    "        resource_group_name = account.id.split('/')[4]\n",
    "        account_name = account.name\n",
    "        account_type = account.kind\n",
    "        account_location = account.location\n",
    "        account_endpoint = account.properties.endpoint\n",
    "        \n",
    "        # Get deployments for this account\n",
    "        deployments = list_service_deployments(cognitive_client, resource_group_name, account_name)\n",
    "        \n",
    "        # If no deployments were found, add the account info anyway\n",
    "        if not deployments:\n",
    "            all_deployments.append({\n",
    "                \"Account\": account_name,\n",
    "                \"Type\": account_type,\n",
    "                \"Location\": account_location,\n",
    "                \"Endpoint\": account_endpoint,\n",
    "                \"Deployment\": \"N/A\",\n",
    "                \"Model\": \"N/A\",\n",
    "                \"Scale Type\": \"N/A\",\n",
    "                \"Scale Size\": \"N/A\"\n",
    "            })\n",
    "        else:\n",
    "            for deployment in deployments:\n",
    "                deployment[\"Type\"] = account_type\n",
    "                deployment[\"Location\"] = account_location\n",
    "                deployment[\"Endpoint\"] = account_endpoint\n",
    "                all_deployments.append(deployment)\n",
    "    \n",
    "    if all_deployments:\n",
    "        df = pd.DataFrame(all_deployments)\n",
    "        styled_df = df.style.set_properties(**{\n",
    "            'white-space': 'pre-wrap',\n",
    "            'overflow-wrap': 'break-word',\n",
    "            'max-width': '800px'\n",
    "        })\n",
    "        display(styled_df)\n",
    "    else:\n",
    "        print(\"No cognitive services accounts or deployments found.\")\n",
    "    \n",
    "except Exception as e:\n",
    "    print(f\"× Error listing cognitive services accounts: {str(e)}\")"
   ]
  }
 ],
 "metadata": {
  "kernelspec": {
   "display_name": "Python 3",
   "language": "python",
   "name": "python3"
  },
  "language_info": {
   "codemirror_mode": {
    "name": "ipython",
    "version": 3
   },
   "file_extension": ".py",
   "mimetype": "text/x-python",
   "name": "python",
   "nbconvert_exporter": "python",
   "pygments_lexer": "ipython3",
   "version": "3.11.11"
  }
 },
 "nbformat": 4,
 "nbformat_minor": 4
}
