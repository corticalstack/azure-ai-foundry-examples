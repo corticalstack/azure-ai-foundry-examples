{
 "cells": [
  {
   "cell_type": "markdown",
   "metadata": {},
   "source": [
    "# Multi-agent preparation for job application and interview\n",
    "This example demonstrates a Semantic Kernel Agents solution to: \n",
    "- upload a candidate resume (or use a mock)\n",
    "- scrape an open job position from a web url (or use a mock)\n",
    "- update a candidate resume to target it to the open job position\n",
    "- prepare a set of interview questions to support the candidate\n"
   ]
  },
  {
   "cell_type": "markdown",
   "metadata": {},
   "source": [
    "## Imports and Setup\n",
    "First, import the necessary libraries and do some setup"
   ]
  },
  {
   "cell_type": "code",
   "execution_count": 1,
   "metadata": {},
   "outputs": [],
   "source": [
    "import os\n",
    "import pathlib\n",
    "import logging\n",
    "import yaml\n",
    "import requests\n",
    "import requests\n",
    "import logging\n",
    "import re\n",
    "from bs4 import BeautifulSoup\n",
    "from dotenv import load_dotenv\n",
    "from typing import Annotated\n",
    "\n",
    "from semantic_kernel.kernel import Kernel\n",
    "from semantic_kernel.contents import ChatHistoryTruncationReducer\n",
    "from semantic_kernel.contents.chat_message_content import ChatMessageContent\n",
    "from semantic_kernel.contents.utils.author_role import AuthorRole\n",
    "from semantic_kernel.functions import kernel_function, KernelArguments, KernelPlugin, KernelFunctionFromPrompt\n",
    "from semantic_kernel.agents import ChatCompletionAgent, AgentGroupChat\n",
    "from semantic_kernel.agents.strategies import KernelFunctionSelectionStrategy, KernelFunctionTerminationStrategy\n",
    "from semantic_kernel.connectors.ai.open_ai import AzureChatPromptExecutionSettings\n",
    "from semantic_kernel.connectors.ai.azure_ai_inference import AzureAIInferenceChatCompletion\n",
    "from semantic_kernel.connectors.ai.function_choice_behavior import FunctionChoiceBehavior"
   ]
  },
  {
   "cell_type": "markdown",
   "metadata": {},
   "source": [
    "### Logging Configuration"
   ]
  },
  {
   "cell_type": "code",
   "execution_count": 2,
   "metadata": {},
   "outputs": [],
   "source": [
    "logging.basicConfig(level=logging.INFO, format='%(asctime)s - %(name)s - %(levelname)s - %(message)s')\n",
    "logger = logging.getLogger(__name__)\n",
    "\n",
    "# Set higher logging level for the azure libraries to suppress verbose HTTP logs, so we can focus on Semantic Kernel logs\n",
    "logging.getLogger(\"azure\").setLevel(logging.WARNING)\n",
    "logging.getLogger(\"azure.core.pipeline.policies.http_logging_policy\").setLevel(logging.WARNING)"
   ]
  },
  {
   "cell_type": "markdown",
   "metadata": {},
   "source": [
    "### Environment Variables"
   ]
  },
  {
   "cell_type": "code",
   "execution_count": 3,
   "metadata": {},
   "outputs": [],
   "source": [
    "# Load environment variables from .env file\n",
    "# Look for .env in the current directory and parent directory\n",
    "current_dir = pathlib.Path().absolute()\n",
    "root_dir = current_dir.parent\n",
    "load_dotenv(dotenv_path=root_dir / \".env\")\n",
    "\n",
    "AZURE_OPENAI_ENDPOINT = os.getenv(\"AZURE_OPENAI_ENDPOINT\")\n",
    "AZURE_OPENAI_DEPLOYMENT_NAME = os.getenv(\"AZURE_OPENAI_DEPLOYMENT\")\n",
    "AZURE_OPENAI_API_KEY=os.getenv(\"AZURE_OPENAI_API_KEY\")"
   ]
  },
  {
   "cell_type": "markdown",
   "metadata": {},
   "source": [
    "### LLM Model Service"
   ]
  },
  {
   "cell_type": "code",
   "execution_count": 4,
   "metadata": {},
   "outputs": [],
   "source": [
    "GPT4O_SERVICE = AzureAIInferenceChatCompletion(\n",
    "    ai_model_id=\"gpt-4o\",\n",
    "    endpoint=f\"{str(AZURE_OPENAI_ENDPOINT).strip('/')}/openai/deployments/{AZURE_OPENAI_DEPLOYMENT_NAME}\",\n",
    "    api_key=AZURE_OPENAI_API_KEY,\n",
    ")"
   ]
  },
  {
   "cell_type": "markdown",
   "metadata": {},
   "source": [
    "### Semantic Kernel Configuration"
   ]
  },
  {
   "cell_type": "code",
   "execution_count": 5,
   "metadata": {},
   "outputs": [],
   "source": [
    "WEB_JOB_RESEARCH_AGENT_NAME = \"Web-Job-Research-Agent\"\n",
    "RESUME_COPYWRITER_AGENT_NAME = \"Resume-Copywriter-Agent\"\n",
    "RESUME_REVIEWER_AGENT_NAME = \"Resume-Reviewer-Agent\"\n",
    "INTERVIEW_PREPARATION_AGENT_NAME = \"Interview-Preparation-Agent\"\n",
    "\n",
    "RESUME_REVIEW_CONTINUE_KEYWORD = \"RESUME_REVIEW_CONTINUE\"\n",
    "RESUME_REVIEW_COMPLETE_KEYWORD = \"RESUME_REVIEW_COMPLETE\"\n",
    "INTERVIEW_PREP_NEEDED = \"INTERVIEW_PREP_NEEDED\"\n",
    "TERMINATION_KEYWORD = \"PROCESS_COMPLETE\"\n",
    "PROCESS_COMPLETE = \"COMPLETE\"\n",
    "\n",
    "MAXIMUM_CHAT_ITERATIONS=12\n",
    "MAXIMUM_HISTORY_MESSAGES=3"
   ]
  },
  {
   "cell_type": "markdown",
   "metadata": {},
   "source": [
    "### Data Sources Configuration"
   ]
  },
  {
   "cell_type": "code",
   "execution_count": 6,
   "metadata": {},
   "outputs": [],
   "source": [
    "USE_MOCK_JOB_POSTING = True\n",
    "MOCK_JOB_POSTING_PATH = \"09_5_mock_job_posting.txt\"\n",
    "JOB_POSTING_URL = \"https://jobs.lever.co/AIFund/29e4750a-61c1-4195-9a11-7889577e3d6f\"\n",
    "JOB_POSTING_MAX_LENGTH = 8000  # Adjust based on LLM's context window size\n",
    "\n",
    "RESUME_PATH = \"09_5_mock_resume.txt\""
   ]
  },
  {
   "cell_type": "markdown",
   "metadata": {},
   "source": [
    "## Define our individual agents\n",
    "Structured defintion of our agent personas that charcterises how the agents should operate and interact."
   ]
  },
  {
   "cell_type": "code",
   "execution_count": 7,
   "metadata": {},
   "outputs": [],
   "source": [
    "web_job_research_agent_persona = \"\"\"\n",
    "name: \"Web-Job-Research-Agent\"\n",
    "description: Tech job posting analyzer that extracts key requirements for applicants.\n",
    "temperature: 0.1\n",
    "included_plugins: []\n",
    "instructions: |\n",
    "  Extract essential information from job postings to help with application preparation:\n",
    "    1. Scrape the provided job posting URL using scrape_website tool\n",
    "    2. Identify and categorize requirements into:\n",
    "    - Technical Skills (languages, tools, platforms)\n",
    "    - Soft Skills (communication, teamwork)\n",
    "    - Experience (years, specific domains)\n",
    "    - Education (degrees, certifications)\n",
    "    - Company Values/Culture\n",
    "    3. Highlight any must-have qualifications vs. preferred or nice to have qualifications\n",
    "    Focus on extracting actionable information that helps tailor resumes.\n",
    "\"\"\""
   ]
  },
  {
   "cell_type": "code",
   "execution_count": 8,
   "metadata": {},
   "outputs": [],
   "source": [
    "resume_reviewer_persona = f\"\"\"\n",
    "name: \"Resume-Reviewer-Agent\"\n",
    "description: Analyzes resume-job fit and provides targeted improvement recommendations.\n",
    "temperature: 0.1\n",
    "included_plugins: []\n",
    "instructions: |\n",
    "  Evaluate how well a candidate's resume aligns with job requirements from {WEB_JOB_RESEARCH_AGENT_NAME}:\n",
    "  \n",
    "  1. First, you will load the resume.\n",
    "  1. Review the uploaded resume against the job posting summary\n",
    "  2. Identify gaps between resume content and job requirements\n",
    "  3. Provide concise, specific, actionable recommendations to improve:\n",
    "     - Skills alignment (missing technical/soft skills)\n",
    "     - Experience presentation (achievements, metrics, relevance)\n",
    "     - Keywords/terminology matching\n",
    "     - Overall format and impact\n",
    "  4. Track previously suggested changes - never repeat recommendations\n",
    "  5. Verify if prior suggestions were implemented\n",
    "  6. Only suggest changes grounded in both the resume and job requirements\n",
    "  7. Do not make direct edits to the resume\n",
    "  8. When no further improvements needed, respond only with: {RESUME_REVIEW_COMPLETE_KEYWORD}\n",
    "\"\"\""
   ]
  },
  {
   "cell_type": "code",
   "execution_count": 9,
   "metadata": {},
   "outputs": [],
   "source": [
    "resume_copywriter_persona = f\"\"\"\n",
    "name: \"Resume-Copywriter-Agent\"\n",
    "description: Implements targeted resume improvements based on reviewer recommendations.\n",
    "temperature: 0.1\n",
    "included_plugins: []\n",
    "instructions: |\n",
    "  Update candidate resumes based on expert recommendations:\n",
    "  \n",
    "  1. Review improvement suggestions from {RESUME_REVIEWER_AGENT_NAME}\n",
    "  2. Implement changes to the resume focusing on:\n",
    "     - Enhancing relevance to job requirements\n",
    "     - Highlighting transferable skills\n",
    "     - Strengthening achievement statements with metrics\n",
    "     - Incorporating job-specific keywords\n",
    "     - Improving clarity and impact\n",
    "  3. Ground your updates on the candidate's original experience and qualifications\n",
    "  4. Preserve the resume's formatting structure\n",
    "  5. Return the complete updated resume with changes implemented\n",
    "  \n",
    "  Your goal is to transform the resume to maximize the candidate's chances of passing automated screening and impressing human reviewers.\n",
    "\"\"\"\n"
   ]
  },
  {
   "cell_type": "code",
   "execution_count": 10,
   "metadata": {},
   "outputs": [],
   "source": [
    "interview_preparation_persona = f\"\"\"\n",
    "name: \"Interview-Preparation-Agent\"\n",
    "description: Create interview questions and talking points based on updated resume and job requirements\n",
    "temperature: 0.2\n",
    "included_plugins: []\n",
    "instructions: |\n",
    "  Your role is to prepare candidates to ensure they can confidently address all aspects of the job they are applying for by:\n",
    "  \n",
    "  1. Analyzing both the job posting requirements and the candidate's final updated resume deemed satisfactory by {RESUME_REVIEWER_AGENT_NAME}\n",
    "  2. Create likely technical interview questions based on the job posting's requirements\n",
    "  3. Develop talking points that highlight how the candidate's experience aligns with job requirements\n",
    "  4. Prepare candidate responses for potential questions about gaps or missing requirements\n",
    "  5. Formulate examples of behavioral questions specific to the role\n",
    "  6. Suggest discussion points about company culture and values\n",
    "\"\"\""
   ]
  },
  {
   "cell_type": "code",
   "execution_count": 11,
   "metadata": {},
   "outputs": [],
   "source": [
    "class WebJobResearchAgentPlugin:\n",
    "    def __init__(self):\n",
    "        pass  \n",
    "\n",
    "    @kernel_function(\n",
    "        description=\"Fetch a job posting from the Web using a url\", \n",
    "    )\n",
    "    async def fetch_job_posting(self, url:Annotated[str,\"The url of the job posting\"]) -> Annotated[str, \"The output in str format\"]:\n",
    "        \"\"\"\n",
    "        Fetch the job posting from the provided URL and analyze it to extract key skills, experiences, and qualifications required.\n",
    "\n",
    "        Parameters:\n",
    "        url (str): The URL of the job posting to analyze.\n",
    "\n",
    "        Returns:\n",
    "        str: A structured list of job requirements, including necessary skills, qualifications, and experiences.\n",
    "        \"\"\"\n",
    "        if USE_MOCK_JOB_POSTING:\n",
    "            try:\n",
    "                with open(MOCK_JOB_POSTING_PATH, 'r', encoding='utf-8') as file:\n",
    "                    content = file.read()\n",
    "                logging.info(f\"Successfully loaded mock job posting from {MOCK_JOB_POSTING_PATH}. Length: {len(content)} characters\")\n",
    "                               \n",
    "                if len(content) > JOB_POSTING_MAX_LENGTH:\n",
    "                    logging.info(f\"Truncating mock content from {len(content)} to {JOB_POSTING_MAX_LENGTH} characters\")\n",
    "                    content = content[:JOB_POSTING_MAX_LENGTH]\n",
    "                \n",
    "                return content\n",
    "            except Exception as e:\n",
    "                logging.error(f\"Failed to load mock job posting: {str(e)}\")\n",
    "                # Fall back to web scraping if mock fails\n",
    "                pass\n",
    "            \n",
    "        # Continue with web scraping if not using mock or if mock loading failed\n",
    "        try:\n",
    "            headers = {\n",
    "                \"User-Agent\": \"Mozilla/5.0 (Windows NT 10.0; Win64; x64) AppleWebKit/537.36 (KHTML, like Gecko) Chrome/91.0.4472.124 Safari/537.36\",\n",
    "                \"Accept\": \"text/html,application/xhtml+xml,application/xml;q=0.9,image/webp,*/*;q=0.8\",\n",
    "                \"Accept-Language\": \"en-US,en;q=0.5\",\n",
    "                \"Connection\": \"keep-alive\",\n",
    "                \"Upgrade-Insecure-Requests\": \"1\",\n",
    "                \"Cache-Control\": \"max-age=0\"\n",
    "            }\n",
    "        \n",
    "            # Fetch the HTML content with a timeout\n",
    "            response = requests.get(url, headers=headers, timeout=30)\n",
    "            response.raise_for_status()\n",
    "            \n",
    "            html_content = response.text\n",
    "            logging.info(f\"Fetched {len(html_content)} characters from {url}\")\n",
    "            \n",
    "            # Now we want to parse the HTML to remove unnecessary elements, which save us a huge amount of LLM tokens\n",
    "            soup = BeautifulSoup(html_content, 'html.parser')\n",
    "            \n",
    "            # Remove script, style, and other non-content elements\n",
    "            for element in soup(['script', 'style', 'head', 'meta', 'link', 'noscript', 'iframe']):\n",
    "                element.decompose()\n",
    "            \n",
    "            # Get all text and do further cleaning\n",
    "            text = soup.get_text(separator='\\n', strip=True)\n",
    "            text = re.sub(r'\\n\\s*\\n', '\\n\\n', text)\n",
    "            text = re.sub(r' +', ' ', text)\n",
    "            \n",
    "            # Remove very short lines that might be menu items or UI elements\n",
    "            lines = text.split('\\n')\n",
    "            filtered_lines = [line for line in lines if len(line.strip()) > 3]\n",
    "            text = '\\n'.join(filtered_lines)\n",
    "            \n",
    "            # Add URL reference\n",
    "            text = f\"Job posting from: {url}\\n\\n{text}\"\n",
    "\n",
    "            if len(text) > JOB_POSTING_MAX_LENGTH:\n",
    "                logging.info(f\"Truncating parsed content from {len(text)} to {JOB_POSTING_MAX_LENGTH} characters\")\n",
    "                text = text[:JOB_POSTING_MAX_LENGTH]\n",
    "            \n",
    "            logging.info(f\"Successfully extracted content. Length: {len(text)} characters\")\n",
    "            return text\n",
    "        except:\n",
    "            logging.error(f\"Failed to fetch the job posting from {url}.\")\n",
    "            return "
   ]
  },
  {
   "cell_type": "code",
   "execution_count": 12,
   "metadata": {},
   "outputs": [],
   "source": [
    "class ResumeReviewerAgentPlugin:\n",
    "    def __init__(self):\n",
    "        pass\n",
    "\n",
    "    @kernel_function(\n",
    "        description=\"Load a resume either from a provided file path or use a mock resume if no path is provided\",\n",
    "    )\n",
    "    async def load_resume(self, file_path: Annotated[str, \"Optional path to a resume file\"] = \"\") -> Annotated[str, \"The resume content\"]:\n",
    "        \"\"\"\n",
    "        Load a resume either from a provided file path or use a mock resume if no path is provided.\n",
    "\n",
    "        Parameters:\n",
    "        file_path (str): Optional path to a resume file. If empty, a mock resume will be used.\n",
    "\n",
    "        Returns:\n",
    "        str: The content of the resume.\n",
    "        \"\"\"\n",
    "        try:\n",
    "            if RESUME_PATH and RESUME_PATH.strip():\n",
    "                with open(RESUME_PATH, 'r') as file:\n",
    "                    resume_content = file.read()\n",
    "                logging.info(f\"Successfully loaded resume from {file_path}\")\n",
    "                return resume_content\n",
    "        except Exception as e:\n",
    "            logging.error(f\"Failed to load resume: {str(e)}\")\n",
    "            return f\"Error loading resume: {str(e)}\""
   ]
  },
  {
   "cell_type": "code",
   "execution_count": 13,
   "metadata": {},
   "outputs": [],
   "source": [
    "class ResumeCopywriterAgentPlugin:\n",
    "    def __init__(self):\n",
    "        pass\n",
    "           "
   ]
  },
  {
   "cell_type": "code",
   "execution_count": 14,
   "metadata": {},
   "outputs": [],
   "source": [
    "class InterviewPreparationAgentPlugin:\n",
    "    def __init__(self):\n",
    "        pass"
   ]
  },
  {
   "cell_type": "markdown",
   "metadata": {},
   "source": [
    "## Helper functions"
   ]
  },
  {
   "cell_type": "code",
   "execution_count": 15,
   "metadata": {},
   "outputs": [],
   "source": [
    "def create_agent(kernel, service_id, definition):\n",
    "\n",
    "    definition = yaml.safe_load(definition)\n",
    "    execution_settings=AzureChatPromptExecutionSettings(\n",
    "            temperature=definition.get('temperature', 0.5),\n",
    "            function_choice_behavior=FunctionChoiceBehavior.Auto(\n",
    "                filters={\"included_plugins\": definition.get('included_plugins', [])}\n",
    "            )\n",
    "        )\n",
    "    \n",
    "    return ChatCompletionAgent(\n",
    "        service=kernel.get_service(service_id=service_id),\n",
    "        kernel=kernel,\n",
    "        arguments=KernelArguments(settings=execution_settings),\n",
    "        name=definition['name'],\n",
    "        description=definition['description'],\n",
    "        instructions=definition['instructions']\n",
    "    )"
   ]
  },
  {
   "cell_type": "code",
   "execution_count": 16,
   "metadata": {},
   "outputs": [],
   "source": [
    "kernel = Kernel(\n",
    "    services=[GPT4O_SERVICE],\n",
    "    plugins=[\n",
    "        KernelPlugin.from_object(plugin_instance=WebJobResearchAgentPlugin(), plugin_name=\"WebJobResearchAgent\"),\n",
    "        KernelPlugin.from_object(plugin_instance=ResumeReviewerAgentPlugin(), plugin_name=\"ResumeReviewerAgent\"),\n",
    "        KernelPlugin.from_object(plugin_instance=ResumeCopywriterAgentPlugin(), plugin_name=\"ResumeCopywriterAgent\"),\n",
    "        KernelPlugin.from_object(plugin_instance=InterviewPreparationAgentPlugin(), plugin_name=\"InterviewPreparationAgent\"),\n",
    "        ],\n",
    ")"
   ]
  },
  {
   "cell_type": "markdown",
   "metadata": {},
   "source": [
    "## Create agent group chat"
   ]
  },
  {
   "cell_type": "code",
   "execution_count": 17,
   "metadata": {},
   "outputs": [],
   "source": [
    "web_job_research_agent = create_agent(service_id=\"gpt-4o\",\n",
    "                                      kernel=kernel,\n",
    "                                      definition=web_job_research_agent_persona)\n",
    "\n",
    "resume_copywriter_agent = create_agent(service_id=\"gpt-4o\",\n",
    "                                       kernel=kernel,\n",
    "                                       definition=resume_copywriter_persona)\n",
    "\n",
    "resume_reviewer_agent = create_agent(service_id=\"gpt-4o\",\n",
    "                                     kernel=kernel,\n",
    "                                     definition=resume_reviewer_persona)\n",
    "\n",
    "interview_preparer_agent = create_agent(service_id=\"gpt-4o\",\n",
    "                                        kernel=kernel,\n",
    "                                        definition=interview_preparation_persona)\n"
   ]
  },
  {
   "cell_type": "code",
   "execution_count": 19,
   "metadata": {},
   "outputs": [],
   "source": [
    "selection_function = KernelFunctionFromPrompt(\n",
    "        function_name=\"selection\",\n",
    "        prompt=f\"\"\"\n",
    "        Examine the provided RESPONSE and choose the next participant.\n",
    "        State only the name of the chosen participant without explanation.\n",
    "        Never choose the participant named in the RESPONSE.\n",
    "\n",
    "        Choose only from these participants:\n",
    "        - {WEB_JOB_RESEARCH_AGENT_NAME}\n",
    "        - {RESUME_REVIEWER_AGENT_NAME} \n",
    "        - {RESUME_COPYWRITER_AGENT_NAME}\n",
    "        - {INTERVIEW_PREPARATION_AGENT_NAME}\n",
    "\n",
    "        Abide by the following policy:\n",
    "        - If RESPONSE is user, it is {WEB_JOB_RESEARCH_AGENT_NAME}'s turn. It's VERY IMPORTANT you only choose {WEB_JOB_RESEARCH_AGENT_NAME} one time!\n",
    "        - If RESPONSE is by {WEB_JOB_RESEARCH_AGENT_NAME}, it is {RESUME_REVIEWER_AGENT_NAME}'s turn. It's VERY IMPORTANT there is a review by {RESUME_REVIEWER_AGENT_NAME} at least once.\n",
    "        - If RESPONSE is by {RESUME_REVIEWER_AGENT_NAME}, it is {RESUME_COPYWRITER_AGENT_NAME}'s turn.\n",
    "        - Once the {RESUME_REVIEWER_AGENT_NAME} has assessed the resume as {RESUME_REVIEW_COMPLETE_KEYWORD}, it is {INTERVIEW_PREPARATION_AGENT_NAME}'s turn.\n",
    "        - If RESPONSE contains the exact phrase \"{RESUME_REVIEW_COMPLETE_KEYWORD}\", make {INTERVIEW_PREPARATION_AGENT_NAME} the final participant, and then terminate the conversation.\n",
    "        - After {INTERVIEW_PREPARATION_AGENT_NAME} has provided interview preparation guidance, do not select any more participants and indicate \"{PROCESS_COMPLETE}\" instead.\n",
    "\n",
    "        RESPONSE:\n",
    "        {{{{$lastmessage}}}}\n",
    "        \"\"\",\n",
    "    )"
   ]
  },
  {
   "cell_type": "code",
   "execution_count": 20,
   "metadata": {},
   "outputs": [],
   "source": [
    "termination_function = KernelFunctionFromPrompt(\n",
    "        function_name=\"termination\",\n",
    "        prompt=f\"\"\"\n",
    "        Examine the RESPONSE and determine the appropriate next step in the job application process:\n",
    "        \n",
    "        1. If the resume still needs improvements (specific suggestions are provided), respond with: {RESUME_REVIEW_CONTINUE_KEYWORD}\n",
    "        2. If the updated resume is satisfactory but interview preparation is needed next, respond with: \"{INTERVIEW_PREP_NEEDED}\"\n",
    "        3. If both resume and interview preparation are complete, respond with: \"{PROCESS_COMPLETE}\"\n",
    "        \n",
    "        Base your decision on these criteria:\n",
    "        - If specific resume improvement suggestions are provided, the resume is not satisfactory\n",
    "        - If the resume is approved with no corrections or contains \"{RESUME_REVIEW_COMPLETE_KEYWORD}\", it is satisfactory and we should move to interview prep\n",
    "        - If the RESPONSE is by {INTERVIEW_PREPARATION_AGENT_NAME}, consider the process complete and respond with \"{PROCESS_COMPLETE}\"\n",
    "\n",
    "        RESPONSE:\n",
    "        {{$lastmessage}}\n",
    "            \"\"\",\n",
    "    )"
   ]
  },
  {
   "cell_type": "code",
   "execution_count": 21,
   "metadata": {},
   "outputs": [],
   "source": [
    "history_reducer = ChatHistoryTruncationReducer(target_count=MAXIMUM_HISTORY_MESSAGES)"
   ]
  },
  {
   "cell_type": "code",
   "execution_count": 22,
   "metadata": {},
   "outputs": [],
   "source": [
    "agent_group_chat = AgentGroupChat(\n",
    "    agents = [web_job_research_agent, resume_copywriter_agent, resume_reviewer_agent, interview_preparer_agent],\n",
    "    selection_strategy=KernelFunctionSelectionStrategy(\n",
    "            function=selection_function,\n",
    "            kernel=kernel,\n",
    "            result_parser=lambda result: str(result.value[0]) if result.value is not None else \"Resume-Reviewer-Agent\",\n",
    "            agent_variable_name=\"agents\",\n",
    "            history_variable_name=\"lastmessage\",\n",
    "            #history_reducer=history_reducer,\n",
    "        ),\n",
    "    termination_strategy=KernelFunctionTerminationStrategy(\n",
    "            function=termination_function,\n",
    "            kernel=kernel,\n",
    "            result_parser=lambda result: TERMINATION_KEYWORD in str(result.value[0]).lower(),\n",
    "            history_variable_name=\"lastmessage\",\n",
    "            #history_reducer=history_reducer,\n",
    "            maximum_iterations=MAXIMUM_CHAT_ITERATIONS,\n",
    "        ),\n",
    ")"
   ]
  },
  {
   "cell_type": "markdown",
   "metadata": {},
   "source": [
    "NOte: Ignore INFO messages like semantic_kernel.contents.chat_history - INFO - Could not parse prompt <...> as xml, treating as text, error was:\n",
    "\n",
    "See https://github.com/microsoft/semantic-kernel/issues/10425 for reference"
   ]
  },
  {
   "cell_type": "code",
   "execution_count": 23,
   "metadata": {},
   "outputs": [
    {
     "name": "stderr",
     "output_type": "stream",
     "text": [
      "2025-04-01 11:44:38,297 - semantic_kernel.agents.group_chat.agent_chat - INFO - Adding `1` agent chat messages\n",
      "2025-04-01 11:44:38,299 - semantic_kernel.agents.strategies.selection.kernel_function_selection_strategy - INFO - Kernel Function Selection Strategy next method called, invoking function: , selection\n",
      "2025-04-01 11:44:38,303 - semantic_kernel.functions.kernel_function - INFO - Function selection invoking.\n",
      "2025-04-01 11:44:39,130 - semantic_kernel.functions.kernel_function - INFO - Function selection succeeded.\n",
      "2025-04-01 11:44:39,131 - semantic_kernel.functions.kernel_function - INFO - Function completed. Duration: 0.826942s\n",
      "2025-04-01 11:44:39,132 - semantic_kernel.agents.strategies.selection.kernel_function_selection_strategy - INFO - Kernel Function Selection Strategy next method completed: , selection, result: [ChatMessageContent(inner_content={'choices': [{'content_filter_results': {'hate': {'filtered': False, 'severity': 'safe'}, 'protected_material_code': {'filtered': False, 'detected': False}, 'protected_material_text': {'filtered': False, 'detected': False}, 'self_harm': {'filtered': False, 'severity': 'safe'}, 'sexual': {'filtered': False, 'severity': 'safe'}, 'violence': {'filtered': False, 'severity': 'safe'}}, 'finish_reason': 'stop', 'index': 0, 'logprobs': None, 'message': {'content': 'Web-Job-Research-Agent', 'refusal': None, 'role': 'assistant'}}], 'created': 1743500680, 'id': 'chatcmpl-BHSSecxPgQ0WOfSRL3ocSjP7PPleO', 'model': 'gpt-4o-mini-2024-07-18', 'object': 'chat.completion', 'prompt_filter_results': [{'prompt_index': 0, 'content_filter_results': {'hate': {'filtered': False, 'severity': 'safe'}, 'jailbreak': {'filtered': False, 'detected': False}, 'self_harm': {'filtered': False, 'severity': 'safe'}, 'sexual': {'filtered': False, 'severity': 'safe'}, 'violence': {'filtered': False, 'severity': 'safe'}}}], 'system_fingerprint': 'fp_ded0d14823', 'usage': {'completion_tokens': 7, 'completion_tokens_details': {'accepted_prediction_tokens': 0, 'audio_tokens': 0, 'reasoning_tokens': 0, 'rejected_prediction_tokens': 0}, 'prompt_tokens': 320, 'prompt_tokens_details': {'audio_tokens': 0, 'cached_tokens': 0}, 'total_tokens': 327}}, ai_model_id=None, metadata={'id': 'chatcmpl-BHSSecxPgQ0WOfSRL3ocSjP7PPleO', 'model': 'gpt-4o-mini-2024-07-18', 'created': datetime.datetime(2025, 4, 1, 9, 44, 40, tzinfo=datetime.timezone.utc), 'usage': CompletionUsage(prompt_tokens=320, completion_tokens=7)}, content_type='message', role=<AuthorRole.ASSISTANT: 'assistant'>, name=None, items=[TextContent(inner_content=None, ai_model_id=None, metadata={'id': 'chatcmpl-BHSSecxPgQ0WOfSRL3ocSjP7PPleO', 'model': 'gpt-4o-mini-2024-07-18', 'created': datetime.datetime(2025, 4, 1, 9, 44, 40, tzinfo=datetime.timezone.utc), 'usage': CompletionUsage(prompt_tokens=320, completion_tokens=7)}, content_type='text', text='Web-Job-Research-Agent', encoding=None)], encoding=None, finish_reason=<FinishReason.STOP: 'stop'>)]\n",
      "2025-04-01 11:44:39,133 - semantic_kernel.agents.group_chat.agent_chat - INFO - Invoking agent Web-Job-Research-Agent\n",
      "2025-04-01 11:44:39,799 - semantic_kernel.connectors.ai.chat_completion_client_base - INFO - processing 1 tool calls in parallel.\n",
      "2025-04-01 11:44:39,799 - semantic_kernel.kernel - INFO - Calling WebJobResearchAgent-fetch_job_posting function with args: {\"url\":\"https://jobs.lever.co/AIFund/29e4750a-61c1-4195-9a11-7889577e3d6f\"}\n",
      "2025-04-01 11:44:39,803 - semantic_kernel.functions.kernel_function - INFO - Function WebJobResearchAgent-fetch_job_posting invoking.\n",
      "2025-04-01 11:44:39,804 - root - INFO - Successfully loaded mock job posting from 09_5_mock_job_posting.txt. Length: 4686 characters\n",
      "2025-04-01 11:44:39,805 - semantic_kernel.functions.kernel_function - INFO - Function WebJobResearchAgent-fetch_job_posting succeeded.\n",
      "2025-04-01 11:44:39,805 - semantic_kernel.functions.kernel_function - INFO - Function completed. Duration: 0.001508s\n",
      "2025-04-01 11:44:46,521 - semantic_kernel.agents.strategies.termination.termination_strategy - INFO - Evaluating termination criteria for 2021d274-3065-4ef9-98e9-cdd88906a6b4\n",
      "2025-04-01 11:44:46,522 - semantic_kernel.agents.strategies.termination.kernel_function_termination_strategy - INFO - should_agent_terminate, function invoking: `termination`\n",
      "2025-04-01 11:44:46,522 - semantic_kernel.functions.kernel_function - INFO - Function termination invoking.\n",
      "2025-04-01 11:44:50,037 - semantic_kernel.functions.kernel_function - INFO - Function termination succeeded.\n",
      "2025-04-01 11:44:50,038 - semantic_kernel.functions.kernel_function - INFO - Function completed. Duration: 0.745541s\n",
      "2025-04-01 11:44:50,039 - semantic_kernel.agents.strategies.termination.kernel_function_termination_strategy - INFO - should_agent_terminate, function `termination` invoked with result `[ChatMessageContent(inner_content={'choices': [{'content_filter_results': {'hate': {'filtered': False, 'severity': 'safe'}, 'self_harm': {'filtered': False, 'severity': 'safe'}, 'sexual': {'filtered': False, 'severity': 'safe'}, 'violence': {'filtered': False, 'severity': 'safe'}}, 'finish_reason': 'stop', 'index': 0, 'logprobs': None, 'message': {'content': \"To proceed with the job application process, please provide the contents of the RESPONSE you've received (indicated as {$lastmessage} in your prompt) so I can determine the appropriate next step based on the criteria you've outlined.\", 'refusal': None, 'role': 'assistant'}}], 'created': 1743500689, 'id': 'chatcmpl-BHSSndPN7cpoI66Q8KpcNbjIzaDLU', 'model': 'gpt-4o-mini-2024-07-18', 'object': 'chat.completion', 'prompt_filter_results': [{'prompt_index': 0, 'content_filter_results': {'hate': {'filtered': False, 'severity': 'safe'}, 'jailbreak': {'filtered': False, 'detected': False}, 'self_harm': {'filtered': False, 'severity': 'safe'}, 'sexual': {'filtered': False, 'severity': 'safe'}, 'violence': {'filtered': False, 'severity': 'safe'}}}], 'system_fingerprint': 'fp_ded0d14823', 'usage': {'completion_tokens': 45, 'completion_tokens_details': {'accepted_prediction_tokens': 0, 'audio_tokens': 0, 'reasoning_tokens': 0, 'rejected_prediction_tokens': 0}, 'prompt_tokens': 182, 'prompt_tokens_details': {'audio_tokens': 0, 'cached_tokens': 0}, 'total_tokens': 227}}, ai_model_id=None, metadata={'id': 'chatcmpl-BHSSndPN7cpoI66Q8KpcNbjIzaDLU', 'model': 'gpt-4o-mini-2024-07-18', 'created': datetime.datetime(2025, 4, 1, 9, 44, 49, tzinfo=datetime.timezone.utc), 'usage': CompletionUsage(prompt_tokens=182, completion_tokens=45)}, content_type='message', role=<AuthorRole.ASSISTANT: 'assistant'>, name=None, items=[TextContent(inner_content=None, ai_model_id=None, metadata={'id': 'chatcmpl-BHSSndPN7cpoI66Q8KpcNbjIzaDLU', 'model': 'gpt-4o-mini-2024-07-18', 'created': datetime.datetime(2025, 4, 1, 9, 44, 49, tzinfo=datetime.timezone.utc), 'usage': CompletionUsage(prompt_tokens=182, completion_tokens=45)}, content_type='text', text=\"To proceed with the job application process, please provide the contents of the RESPONSE you've received (indicated as {$lastmessage} in your prompt) so I can determine the appropriate next step based on the criteria you've outlined.\", encoding=None)], encoding=None, finish_reason=<FinishReason.STOP: 'stop'>)]`\n",
      "2025-04-01 11:44:50,039 - semantic_kernel.agents.strategies.termination.termination_strategy - INFO - Evaluated criteria for 2021d274-3065-4ef9-98e9-cdd88906a6b4, should terminate: False\n",
      "2025-04-01 11:44:50,040 - semantic_kernel.agents.strategies.selection.kernel_function_selection_strategy - INFO - Kernel Function Selection Strategy next method called, invoking function: , selection\n",
      "2025-04-01 11:44:50,041 - semantic_kernel.functions.kernel_function - INFO - Function selection invoking.\n",
      "2025-04-01 11:44:50,041 - semantic_kernel.contents.chat_history - INFO - Could not parse prompt Examine the provided RESPONSE and choose the next participant.\n",
      "        State only the name of the chosen participant without explanation.\n",
      "        Never choose the participant named in the RESPONSE.\n",
      "\n",
      "        Choose only from these participants:\n",
      "        - Web-Job-Research-Agent\n",
      "        - Resume-Reviewer-Agent \n",
      "        - Resume-Copywriter-Agent\n",
      "        - Interview-Preparation-Agent\n",
      "\n",
      "        Abide by the following policy:\n",
      "        - If RESPONSE is user, it is Web-Job-Research-Agent's turn. It's VERY IMPORTANT you only choose Web-Job-Research-Agent one time!\n",
      "        - If RESPONSE is by Web-Job-Research-Agent, it is Resume-Reviewer-Agent's turn. It's VERY IMPORTANT there is a review by Resume-Reviewer-Agent at least once.\n",
      "        - If RESPONSE is by Resume-Reviewer-Agent, it is Resume-Copywriter-Agent's turn.\n",
      "        - Once the Resume-Reviewer-Agent has assessed the resume as RESUME_REVIEW_COMPLETE, it is Interview-Preparation-Agent's turn.\n",
      "        - If RESPONSE contains the exact phrase \"RESUME_REVIEW_COMPLETE\", make Interview-Preparation-Agent the final participant, and then terminate the conversation.\n",
      "        - After Interview-Preparation-Agent has provided interview preparation guidance, do not select any more participants and indicate \"COMPLETE\" instead.\n",
      "\n",
      "        RESPONSE:\n",
      "        [{'role': 'user', 'content': 'https://jobs.lever.co/AIFund/29e4750a-61c1-4195-9a11-7889577e3d6f', 'name': 'user'}, {'role': 'assistant', 'tool_calls': [{'id': 'call_Je6IJGpcc2k18mOinekFNmUt', 'type': 'function', 'function': {'name': 'WebJobResearchAgent-fetch_job_posting', 'arguments': '{\"url\":\"https://jobs.lever.co/AIFund/29e4750a-61c1-4195-9a11-7889577e3d6f\"}'}}], 'name': 'Web-Job-Research-Agent'}, {'role': 'tool', 'content': \"Want to use your backend skills to make an impact? AI is the new electricity. Millions of AI engineers are needed to transform industries with AI, particularly in the realm of GenAI, and we’re building education products to train them. \\nWith a mission to grow and connect the global AI community, DeepLearning.AI is an education technology company that is empowering the global workforce to build an AI-powered future through world-class education, hands-on training, and \\na collaborative community. We’re a small ed-tech company with serious credentials, exciting courses, and wonderful teammates.\\n\\nDeeplearning.ai is looking for a Backend Engineer with strong computer science fundamentals with a passion for improving learner's experiences. The ideal candidate will thrive in an early development stage of a leading educational environment focusing on AI-related topics.  As a Backend Engineer you will be responsible for building and delivering high-quality infrastructure and support to the technical content deeplearning.ai is providing. Our team is growing fast, and we are looking for a strong engineer to develop our educational products. In this role, you will work alongside a team of talented content creators as well as our outside partners, to build various layers of the infrastructure of world-renowned AI-driven education.\\n\\nThis opportunity is for candidates based in Taipei.\\n\\nHere’s what you’ll do:\\nDevelop a learner-centered platform to deliver the best learning experience for the deeplearning.ai learners.\\nMaintain quality and ensure responsiveness and scalability of the developed application.\\nDesign and develop internal tools to help our teams iterate quickly.\\nMaintain a high-quality code base and write clear documentation.\\nDevelop backend infrastructure for grading tools and network training.\\n\\nHere are the experiences you should have:\\nBroad and solid CS foundation knowledge, including data structures & algorithms, OS, computer networks, and databases.\\nAt least 5+ years of software development experience and have experience building end-to-end projects.\\n\\nHere are the skills you should have:\\nAt least 5+ years of software development experience and have experience in building end-to-end projects.\\n5+ years of experience with general backend (Linux, SQL, Python), web frameworks (Django, Flask, FastAPI), or API (REST, GraphQL).\\nStrong ability to convert ideas to running code.\\nFamiliarity with Test-Driven Development.\\nProficient with Docker.\\nFamiliarity with Jupyter Notebook.\\nFamiliar with microservice architecture design.\\nKnowledge of security concerns and best practices.\\nExcellent verbal and oral communication skills in both Mandarin and English.\\n\\nWhat you get working with us:\\nBe a part of a world-class technical team working alongside offices in different parts of the world.\\nHave the opportunity to consolidate a quickly growing startup.\\nHave access to state-of-the-art infrastructure and technology.\\nHave a competitive salary (1.5-2.2 million NTD/year) in a well-funded high-growth company. \\n\\nOur defining values:\\nWe care deeply about our learners: We let our learner's needs guide our actions and decisions and put our mission ahead of ourselves.\\nWe are great at what we do: We strive for excellence in all dimensions, especially in the quality of the content we create and the people we hire.\\nWe default to action: We are comfortable acting with limited information and taking ownership of our decisions. \\nWe ask why: We ask the hard questions and are open to being in the wrong. We advocate for the best ideas, not our ideas. \\nWe are honest and authentic: We are transparent as an organization, over-communicate to build trust, and share our failures just as we do our successes.\\nWe do this together: We help each other grow and succeed and have fun at work, even in a remote environment.\\nAt DeepLearning.AI, we are committed to providing an environment of mutual respect where equal employment opportunities are available to all applicants without regard to race, color, religion, sex, pregnancy (including childbirth, lactation, and related medical conditions), national origin, age, physical and mental disability, marital status, sexual orientation, gender identity, gender expression, genetic information (including characteristics and testing), military and veteran status, and any other characteristic protected by applicable law. \\nDeepLearning.AI believes that diversity and inclusion among our employees are critical to our success as a company. We seek to recruit, develop, and retain the most talented people from a diverse candidate pool. Selection for employment is decided based on qualifications, merit, and business needs.\", 'tool_call_id': 'call_Je6IJGpcc2k18mOinekFNmUt'}, {'role': 'assistant', 'content': \"Here’s a breakdown of the essential information extracted from the job posting for the Backend Engineer position at DeepLearning.AI:\\n\\n### Requirements Categorization\\n\\n#### Technical Skills\\n- **Programming Languages/Frameworks**: \\n  - Python\\n  - Web frameworks: Django, Flask, FastAPI\\n  - SQL\\n- **Tools/Platforms**: \\n  - Linux\\n  - Docker\\n  - Jupyter Notebook\\n- **APIs**: \\n  - REST\\n  - GraphQL\\n- **Development Practices**: \\n  - Test-Driven Development (TDD)\\n- **Architecture**: \\n  - Microservice architecture design\\n- **Knowledge Areas**: \\n  - Data structures & algorithms\\n  - Operating systems\\n  - Computer networks\\n  - Databases\\n  - Security concerns and best practices\\n\\n#### Soft Skills\\n- Excellent verbal and oral communication skills in both Mandarin and English\\n- Strong ability to convert ideas to running code\\n- Team collaboration and support\\n\\n#### Experience\\n- **Years of Experience**: \\n  - At least 5+ years of software development experience\\n- **Project Experience**: \\n  - Experience building end-to-end projects\\n\\n#### Education\\n- Strong computer science fundamentals (specific degree not mentioned, but implied)\\n\\n#### Company Values/Culture\\n- Focus on learner's needs and mission-driven actions\\n- Strive for excellence in content quality and hiring\\n- Comfort with taking ownership and acting with limited information\\n- Openness to questioning and advocating for the best ideas\\n- Transparency and honesty in communication\\n- Emphasis on teamwork and mutual growth\\n\\n### Qualifications\\n- **Must-Have Qualifications**:\\n  - 5+ years of software development experience\\n  - Proficiency in backend technologies (Linux, SQL, Python)\\n  - Experience with web frameworks (Django, Flask, FastAPI)\\n  - Strong communication skills in Mandarin and English\\n\\n- **Preferred/Nice to Have Qualifications**:\\n  - Familiarity with Test-Driven Development\\n  - Experience with Docker and Jupyter Notebook\\n  - Knowledge of microservice architecture design\\n  - Understanding of security best practices\\n\\n### Actionable Information for Resume Tailoring\\n- Highlight relevant technical skills, particularly in Python and backend frameworks.\\n- Emphasize experience in software development and any end-to-end project work.\\n- Showcase communication skills, especially in Mandarin and English.\\n- Include any experience with TDD, Docker, and microservices.\\n- Align personal values with the company's values, emphasizing teamwork, transparency, and a learner-centered approach. \\n\\nThis structured information can help in tailoring your resume and preparing for potential interviews for the Backend Engineer position at DeepLearning.AI.\", 'name': 'Web-Job-Research-Agent'}] as xml, treating as text, error was: not well-formed (invalid token): line 20, column 2389\n",
      "2025-04-01 11:44:50,317 - semantic_kernel.functions.kernel_function - INFO - Function selection succeeded.\n",
      "2025-04-01 11:44:50,318 - semantic_kernel.functions.kernel_function - INFO - Function completed. Duration: 0.277331s\n",
      "2025-04-01 11:44:50,319 - semantic_kernel.agents.strategies.selection.kernel_function_selection_strategy - INFO - Kernel Function Selection Strategy next method completed: , selection, result: [ChatMessageContent(inner_content={'choices': [{'content_filter_results': {'hate': {'filtered': False, 'severity': 'safe'}, 'protected_material_code': {'filtered': False, 'detected': False}, 'protected_material_text': {'filtered': False, 'detected': False}, 'self_harm': {'filtered': False, 'severity': 'safe'}, 'sexual': {'filtered': False, 'severity': 'safe'}, 'violence': {'filtered': False, 'severity': 'safe'}}, 'finish_reason': 'stop', 'index': 0, 'logprobs': None, 'message': {'content': 'Resume-Reviewer-Agent', 'refusal': None, 'role': 'assistant'}}], 'created': 1743500690, 'id': 'chatcmpl-BHSSo9TGB1mAFB2Cob6q8ltEwEKuu', 'model': 'gpt-4o-mini-2024-07-18', 'object': 'chat.completion', 'prompt_filter_results': [{'prompt_index': 0, 'content_filter_results': {'hate': {'filtered': False, 'severity': 'safe'}, 'jailbreak': {'filtered': False, 'detected': False}, 'self_harm': {'filtered': False, 'severity': 'safe'}, 'sexual': {'filtered': False, 'severity': 'safe'}, 'violence': {'filtered': False, 'severity': 'safe'}}}], 'system_fingerprint': 'fp_ded0d14823', 'usage': {'completion_tokens': 5, 'completion_tokens_details': {'accepted_prediction_tokens': 0, 'audio_tokens': 0, 'reasoning_tokens': 0, 'rejected_prediction_tokens': 0}, 'prompt_tokens': 1980, 'prompt_tokens_details': {'audio_tokens': 0, 'cached_tokens': 0}, 'total_tokens': 1985}}, ai_model_id=None, metadata={'id': 'chatcmpl-BHSSo9TGB1mAFB2Cob6q8ltEwEKuu', 'model': 'gpt-4o-mini-2024-07-18', 'created': datetime.datetime(2025, 4, 1, 9, 44, 50, tzinfo=datetime.timezone.utc), 'usage': CompletionUsage(prompt_tokens=1980, completion_tokens=5)}, content_type='message', role=<AuthorRole.ASSISTANT: 'assistant'>, name=None, items=[TextContent(inner_content=None, ai_model_id=None, metadata={'id': 'chatcmpl-BHSSo9TGB1mAFB2Cob6q8ltEwEKuu', 'model': 'gpt-4o-mini-2024-07-18', 'created': datetime.datetime(2025, 4, 1, 9, 44, 50, tzinfo=datetime.timezone.utc), 'usage': CompletionUsage(prompt_tokens=1980, completion_tokens=5)}, content_type='text', text='Resume-Reviewer-Agent', encoding=None)], encoding=None, finish_reason=<FinishReason.STOP: 'stop'>)]\n",
      "2025-04-01 11:44:50,320 - semantic_kernel.agents.group_chat.agent_chat - INFO - Invoking agent Resume-Reviewer-Agent\n",
      "2025-04-01 11:44:50,718 - semantic_kernel.connectors.ai.chat_completion_client_base - INFO - processing 1 tool calls in parallel.\n",
      "2025-04-01 11:44:50,719 - semantic_kernel.kernel - INFO - Calling ResumeReviewerAgent-load_resume function with args: {}\n",
      "2025-04-01 11:44:50,720 - semantic_kernel.functions.kernel_function - INFO - Function ResumeReviewerAgent-load_resume invoking.\n",
      "2025-04-01 11:44:50,720 - root - INFO - Successfully loaded resume from \n",
      "2025-04-01 11:44:50,721 - semantic_kernel.functions.kernel_function - INFO - Function ResumeReviewerAgent-load_resume succeeded.\n",
      "2025-04-01 11:44:50,721 - semantic_kernel.functions.kernel_function - INFO - Function completed. Duration: 0.001402s\n",
      "2025-04-01 11:44:57,527 - semantic_kernel.agents.strategies.termination.termination_strategy - INFO - Evaluating termination criteria for 44663a6a-7d9a-44cb-880a-586cf6b9a61e\n",
      "2025-04-01 11:44:57,528 - semantic_kernel.agents.strategies.termination.kernel_function_termination_strategy - INFO - should_agent_terminate, function invoking: `termination`\n",
      "2025-04-01 11:44:57,529 - semantic_kernel.functions.kernel_function - INFO - Function termination invoking.\n",
      "2025-04-01 11:44:58,404 - semantic_kernel.functions.kernel_function - INFO - Function termination succeeded.\n",
      "2025-04-01 11:44:58,405 - semantic_kernel.functions.kernel_function - INFO - Function completed. Duration: 0.875680s\n",
      "2025-04-01 11:44:58,405 - semantic_kernel.agents.strategies.termination.kernel_function_termination_strategy - INFO - should_agent_terminate, function `termination` invoked with result `[ChatMessageContent(inner_content={'choices': [{'content_filter_results': {'hate': {'filtered': False, 'severity': 'safe'}, 'self_harm': {'filtered': False, 'severity': 'safe'}, 'sexual': {'filtered': False, 'severity': 'safe'}, 'violence': {'filtered': False, 'severity': 'safe'}}, 'finish_reason': 'stop', 'index': 0, 'logprobs': None, 'message': {'content': 'To determine the appropriate next step in the job application process based on the RESPONSE given, please provide the content of the last message (RESPONSE) for evaluation.', 'refusal': None, 'role': 'assistant'}}], 'created': 1743500698, 'id': 'chatcmpl-BHSSwpvCDcxQBPPB7AsUMjtn1DYod', 'model': 'gpt-4o-mini-2024-07-18', 'object': 'chat.completion', 'prompt_filter_results': [{'prompt_index': 0, 'content_filter_results': {'hate': {'filtered': False, 'severity': 'safe'}, 'jailbreak': {'filtered': False, 'detected': False}, 'self_harm': {'filtered': False, 'severity': 'safe'}, 'sexual': {'filtered': False, 'severity': 'safe'}, 'violence': {'filtered': False, 'severity': 'safe'}}}], 'system_fingerprint': 'fp_ded0d14823', 'usage': {'completion_tokens': 33, 'completion_tokens_details': {'accepted_prediction_tokens': 0, 'audio_tokens': 0, 'reasoning_tokens': 0, 'rejected_prediction_tokens': 0}, 'prompt_tokens': 182, 'prompt_tokens_details': {'audio_tokens': 0, 'cached_tokens': 0}, 'total_tokens': 215}}, ai_model_id=None, metadata={'id': 'chatcmpl-BHSSwpvCDcxQBPPB7AsUMjtn1DYod', 'model': 'gpt-4o-mini-2024-07-18', 'created': datetime.datetime(2025, 4, 1, 9, 44, 58, tzinfo=datetime.timezone.utc), 'usage': CompletionUsage(prompt_tokens=182, completion_tokens=33)}, content_type='message', role=<AuthorRole.ASSISTANT: 'assistant'>, name=None, items=[TextContent(inner_content=None, ai_model_id=None, metadata={'id': 'chatcmpl-BHSSwpvCDcxQBPPB7AsUMjtn1DYod', 'model': 'gpt-4o-mini-2024-07-18', 'created': datetime.datetime(2025, 4, 1, 9, 44, 58, tzinfo=datetime.timezone.utc), 'usage': CompletionUsage(prompt_tokens=182, completion_tokens=33)}, content_type='text', text='To determine the appropriate next step in the job application process based on the RESPONSE given, please provide the content of the last message (RESPONSE) for evaluation.', encoding=None)], encoding=None, finish_reason=<FinishReason.STOP: 'stop'>)]`\n",
      "2025-04-01 11:44:58,406 - semantic_kernel.agents.strategies.termination.termination_strategy - INFO - Evaluated criteria for 44663a6a-7d9a-44cb-880a-586cf6b9a61e, should terminate: False\n",
      "2025-04-01 11:44:58,406 - semantic_kernel.agents.strategies.selection.kernel_function_selection_strategy - INFO - Kernel Function Selection Strategy next method called, invoking function: , selection\n",
      "2025-04-01 11:44:58,407 - semantic_kernel.functions.kernel_function - INFO - Function selection invoking.\n",
      "2025-04-01 11:44:58,407 - semantic_kernel.contents.chat_history - INFO - Could not parse prompt Examine the provided RESPONSE and choose the next participant.\n",
      "        State only the name of the chosen participant without explanation.\n",
      "        Never choose the participant named in the RESPONSE.\n",
      "\n",
      "        Choose only from these participants:\n",
      "        - Web-Job-Research-Agent\n",
      "        - Resume-Reviewer-Agent \n",
      "        - Resume-Copywriter-Agent\n",
      "        - Interview-Preparation-Agent\n",
      "\n",
      "        Abide by the following policy:\n",
      "        - If RESPONSE is user, it is Web-Job-Research-Agent's turn. It's VERY IMPORTANT you only choose Web-Job-Research-Agent one time!\n",
      "        - If RESPONSE is by Web-Job-Research-Agent, it is Resume-Reviewer-Agent's turn. It's VERY IMPORTANT there is a review by Resume-Reviewer-Agent at least once.\n",
      "        - If RESPONSE is by Resume-Reviewer-Agent, it is Resume-Copywriter-Agent's turn.\n",
      "        - Once the Resume-Reviewer-Agent has assessed the resume as RESUME_REVIEW_COMPLETE, it is Interview-Preparation-Agent's turn.\n",
      "        - If RESPONSE contains the exact phrase \"RESUME_REVIEW_COMPLETE\", make Interview-Preparation-Agent the final participant, and then terminate the conversation.\n",
      "        - After Interview-Preparation-Agent has provided interview preparation guidance, do not select any more participants and indicate \"COMPLETE\" instead.\n",
      "\n",
      "        RESPONSE:\n",
      "        [{'role': 'user', 'content': 'https://jobs.lever.co/AIFund/29e4750a-61c1-4195-9a11-7889577e3d6f', 'name': 'user'}, {'role': 'assistant', 'tool_calls': [{'id': 'call_Je6IJGpcc2k18mOinekFNmUt', 'type': 'function', 'function': {'name': 'WebJobResearchAgent-fetch_job_posting', 'arguments': '{\"url\":\"https://jobs.lever.co/AIFund/29e4750a-61c1-4195-9a11-7889577e3d6f\"}'}}], 'name': 'Web-Job-Research-Agent'}, {'role': 'tool', 'content': \"Want to use your backend skills to make an impact? AI is the new electricity. Millions of AI engineers are needed to transform industries with AI, particularly in the realm of GenAI, and we’re building education products to train them. \\nWith a mission to grow and connect the global AI community, DeepLearning.AI is an education technology company that is empowering the global workforce to build an AI-powered future through world-class education, hands-on training, and \\na collaborative community. We’re a small ed-tech company with serious credentials, exciting courses, and wonderful teammates.\\n\\nDeeplearning.ai is looking for a Backend Engineer with strong computer science fundamentals with a passion for improving learner's experiences. The ideal candidate will thrive in an early development stage of a leading educational environment focusing on AI-related topics.  As a Backend Engineer you will be responsible for building and delivering high-quality infrastructure and support to the technical content deeplearning.ai is providing. Our team is growing fast, and we are looking for a strong engineer to develop our educational products. In this role, you will work alongside a team of talented content creators as well as our outside partners, to build various layers of the infrastructure of world-renowned AI-driven education.\\n\\nThis opportunity is for candidates based in Taipei.\\n\\nHere’s what you’ll do:\\nDevelop a learner-centered platform to deliver the best learning experience for the deeplearning.ai learners.\\nMaintain quality and ensure responsiveness and scalability of the developed application.\\nDesign and develop internal tools to help our teams iterate quickly.\\nMaintain a high-quality code base and write clear documentation.\\nDevelop backend infrastructure for grading tools and network training.\\n\\nHere are the experiences you should have:\\nBroad and solid CS foundation knowledge, including data structures & algorithms, OS, computer networks, and databases.\\nAt least 5+ years of software development experience and have experience building end-to-end projects.\\n\\nHere are the skills you should have:\\nAt least 5+ years of software development experience and have experience in building end-to-end projects.\\n5+ years of experience with general backend (Linux, SQL, Python), web frameworks (Django, Flask, FastAPI), or API (REST, GraphQL).\\nStrong ability to convert ideas to running code.\\nFamiliarity with Test-Driven Development.\\nProficient with Docker.\\nFamiliarity with Jupyter Notebook.\\nFamiliar with microservice architecture design.\\nKnowledge of security concerns and best practices.\\nExcellent verbal and oral communication skills in both Mandarin and English.\\n\\nWhat you get working with us:\\nBe a part of a world-class technical team working alongside offices in different parts of the world.\\nHave the opportunity to consolidate a quickly growing startup.\\nHave access to state-of-the-art infrastructure and technology.\\nHave a competitive salary (1.5-2.2 million NTD/year) in a well-funded high-growth company. \\n\\nOur defining values:\\nWe care deeply about our learners: We let our learner's needs guide our actions and decisions and put our mission ahead of ourselves.\\nWe are great at what we do: We strive for excellence in all dimensions, especially in the quality of the content we create and the people we hire.\\nWe default to action: We are comfortable acting with limited information and taking ownership of our decisions. \\nWe ask why: We ask the hard questions and are open to being in the wrong. We advocate for the best ideas, not our ideas. \\nWe are honest and authentic: We are transparent as an organization, over-communicate to build trust, and share our failures just as we do our successes.\\nWe do this together: We help each other grow and succeed and have fun at work, even in a remote environment.\\nAt DeepLearning.AI, we are committed to providing an environment of mutual respect where equal employment opportunities are available to all applicants without regard to race, color, religion, sex, pregnancy (including childbirth, lactation, and related medical conditions), national origin, age, physical and mental disability, marital status, sexual orientation, gender identity, gender expression, genetic information (including characteristics and testing), military and veteran status, and any other characteristic protected by applicable law. \\nDeepLearning.AI believes that diversity and inclusion among our employees are critical to our success as a company. We seek to recruit, develop, and retain the most talented people from a diverse candidate pool. Selection for employment is decided based on qualifications, merit, and business needs.\", 'tool_call_id': 'call_Je6IJGpcc2k18mOinekFNmUt'}, {'role': 'assistant', 'content': \"Here’s a breakdown of the essential information extracted from the job posting for the Backend Engineer position at DeepLearning.AI:\\n\\n### Requirements Categorization\\n\\n#### Technical Skills\\n- **Programming Languages/Frameworks**: \\n  - Python\\n  - Web frameworks: Django, Flask, FastAPI\\n  - SQL\\n- **Tools/Platforms**: \\n  - Linux\\n  - Docker\\n  - Jupyter Notebook\\n- **APIs**: \\n  - REST\\n  - GraphQL\\n- **Development Practices**: \\n  - Test-Driven Development (TDD)\\n- **Architecture**: \\n  - Microservice architecture design\\n- **Knowledge Areas**: \\n  - Data structures & algorithms\\n  - Operating systems\\n  - Computer networks\\n  - Databases\\n  - Security concerns and best practices\\n\\n#### Soft Skills\\n- Excellent verbal and oral communication skills in both Mandarin and English\\n- Strong ability to convert ideas to running code\\n- Team collaboration and support\\n\\n#### Experience\\n- **Years of Experience**: \\n  - At least 5+ years of software development experience\\n- **Project Experience**: \\n  - Experience building end-to-end projects\\n\\n#### Education\\n- Strong computer science fundamentals (specific degree not mentioned, but implied)\\n\\n#### Company Values/Culture\\n- Focus on learner's needs and mission-driven actions\\n- Strive for excellence in content quality and hiring\\n- Comfort with taking ownership and acting with limited information\\n- Openness to questioning and advocating for the best ideas\\n- Transparency and honesty in communication\\n- Emphasis on teamwork and mutual growth\\n\\n### Qualifications\\n- **Must-Have Qualifications**:\\n  - 5+ years of software development experience\\n  - Proficiency in backend technologies (Linux, SQL, Python)\\n  - Experience with web frameworks (Django, Flask, FastAPI)\\n  - Strong communication skills in Mandarin and English\\n\\n- **Preferred/Nice to Have Qualifications**:\\n  - Familiarity with Test-Driven Development\\n  - Experience with Docker and Jupyter Notebook\\n  - Knowledge of microservice architecture design\\n  - Understanding of security best practices\\n\\n### Actionable Information for Resume Tailoring\\n- Highlight relevant technical skills, particularly in Python and backend frameworks.\\n- Emphasize experience in software development and any end-to-end project work.\\n- Showcase communication skills, especially in Mandarin and English.\\n- Include any experience with TDD, Docker, and microservices.\\n- Align personal values with the company's values, emphasizing teamwork, transparency, and a learner-centered approach. \\n\\nThis structured information can help in tailoring your resume and preparing for potential interviews for the Backend Engineer position at DeepLearning.AI.\", 'name': 'Web-Job-Research-Agent'}, {'role': 'assistant', 'tool_calls': [{'id': 'call_wUFlGA1KIZTO6gqlp22ZYqBU', 'type': 'function', 'function': {'name': 'ResumeReviewerAgent-load_resume', 'arguments': '{}'}}], 'name': 'Resume-Reviewer-Agent'}, {'role': 'tool', 'content': 'JANE DOE\\nBackend Software Engineer\\njane.doe@email.com | (555) 123-4567 | linkedin.com/in/janedoe | github.com/janedoe\\n\\nSKILLS\\n- Programming Languages: Python, JavaScript, Java\\n- Frameworks/Libraries: Django, Flask, Express.js\\n- Tools: Git, Docker, Linux, Jupyter Notebook\\n- Databases: PostgreSQL, MySQL\\n\\nEXPERIENCE\\nBackend Engineer | EdTech Innovations | Mar 2021 - Present\\n- Developed backend services for an educational platform serving 50K+ students\\n- Built REST APIs using Flask and integrated with frontend applications\\n- Implemented database optimization that improved query performance by 30%\\n- Maintained Linux-based infrastructure for application deployment\\n- Software Developer | Data Systems Corp. | Jun 2018 - Feb 2021\\n- Created internal tools to help content teams manage learning materials\\n- Built and maintained SQL databases for storing user progress and analytics\\n- Collaborated with product managers to implement new features\\n- Deployed applications using basic Docker containers\\n\\nEDUCATION\\n- Master of Science in Computer Science | State University | 2018\\n- Bachelor of Science in Software Engineering | Tech University | 2016\\n\\nPROJECTS\\n- Learning Management System | github.com/janedoe/learning-platform\\n- Backend system built with Django to manage educational content\\n- Implemented user authentication and progress tracking features\\n- API Development Tool | github.com/janedoe/api-toolkit\\n- Python utility for testing and documenting REST APIs\\n- Deployed as a containerized service with basic Docker implementation\\n\\nLANGUAGES\\n- English (Fluent)\\n- Basic Mandarin (Conversational)', 'tool_call_id': 'call_wUFlGA1KIZTO6gqlp22ZYqBU'}, {'role': 'assistant', 'content': '### Resume Evaluation Against Job Requirements\\n\\n#### Gaps Identified\\n\\n1. **Technical Skills Alignment**:\\n   - **Missing Skills**: \\n     - Experience with FastAPI and GraphQL is not mentioned.\\n     - No explicit mention of familiarity with Test-Driven Development (TDD).\\n     - No mention of microservice architecture design.\\n     - Security concerns and best practices are not addressed.\\n\\n2. **Experience Presentation**:\\n   - **Achievements and Metrics**: \\n     - While there are some metrics (e.g., \"improved query performance by 30%\"), more quantifiable achievements could enhance impact.\\n     - The current role mentions serving \"50K+ students,\" but further details on the impact of the backend services on learner experience could be beneficial.\\n   - **Relevance**: \\n     - The experience with Docker is described as \"basic,\" which may not align with the job\\'s requirement for proficiency.\\n\\n3. **Keywords/Terminology Matching**:\\n   - The resume could benefit from incorporating specific keywords from the job description, such as \"learner-centered platform,\" \"scalability,\" \"high-quality code base,\" and \"network training.\"\\n\\n4. **Overall Format and Impact**:\\n   - The resume is well-structured, but adding a summary or objective statement at the top could provide context and highlight alignment with the company\\'s mission and values.\\n\\n### Recommendations for Improvement\\n\\n1. **Skills Alignment**:\\n   - Add experience with FastAPI and GraphQL if applicable.\\n   - Include any familiarity with Test-Driven Development (TDD).\\n   - Highlight any experience or knowledge related to microservice architecture design.\\n   - Mention any understanding of security best practices relevant to backend development.\\n\\n2. **Experience Presentation**:\\n   - Quantify achievements further, such as the impact of the backend services on user engagement or learning outcomes.\\n   - Enhance the description of Docker experience to reflect a higher level of proficiency.\\n   - Consider adding a bullet point that emphasizes collaboration with content creators or partners, aligning with the job\\'s focus on teamwork.\\n\\n3. **Keywords/Terminology Matching**:\\n   - Integrate relevant keywords from the job description into the experience and skills sections to improve alignment with the job posting.\\n\\n4. **Overall Format and Impact**:\\n   - Consider adding a brief summary or objective statement at the beginning of the resume that reflects your passion for education technology and aligns with the company\\'s mission.\\n\\n### Tracking Previous Suggestions\\n- This is the first review of the resume against the job requirements, so no previous suggestions need to be tracked.\\n\\n### Conclusion\\nBy addressing the identified gaps and implementing the recommendations, the resume can be significantly improved to better align with the Backend Engineer position at DeepLearning.AI.\\n\\nRESUME_REVIEW_COMPLETE', 'name': 'Resume-Reviewer-Agent'}] as xml, treating as text, error was: not well-formed (invalid token): line 20, column 2389\n",
      "2025-04-01 11:44:58,715 - semantic_kernel.functions.kernel_function - INFO - Function selection succeeded.\n",
      "2025-04-01 11:44:58,716 - semantic_kernel.functions.kernel_function - INFO - Function completed. Duration: 0.308649s\n",
      "2025-04-01 11:44:58,716 - semantic_kernel.agents.strategies.selection.kernel_function_selection_strategy - INFO - Kernel Function Selection Strategy next method completed: , selection, result: [ChatMessageContent(inner_content={'choices': [{'content_filter_results': {'hate': {'filtered': False, 'severity': 'safe'}, 'protected_material_code': {'filtered': False, 'detected': False}, 'protected_material_text': {'filtered': False, 'detected': False}, 'self_harm': {'filtered': False, 'severity': 'safe'}, 'sexual': {'filtered': False, 'severity': 'safe'}, 'violence': {'filtered': False, 'severity': 'safe'}}, 'finish_reason': 'stop', 'index': 0, 'logprobs': None, 'message': {'content': 'Interview-Preparation-Agent', 'refusal': None, 'role': 'assistant'}}], 'created': 1743500699, 'id': 'chatcmpl-BHSSxGvUlyreXSXZFicA9ZNFfuLOb', 'model': 'gpt-4o-mini-2024-07-18', 'object': 'chat.completion', 'prompt_filter_results': [{'prompt_index': 0, 'content_filter_results': {'hate': {'filtered': False, 'severity': 'safe'}, 'jailbreak': {'filtered': False, 'detected': False}, 'self_harm': {'filtered': False, 'severity': 'safe'}, 'sexual': {'filtered': False, 'severity': 'safe'}, 'violence': {'filtered': False, 'severity': 'safe'}}}], 'system_fingerprint': 'fp_ded0d14823', 'usage': {'completion_tokens': 5, 'completion_tokens_details': {'accepted_prediction_tokens': 0, 'audio_tokens': 0, 'reasoning_tokens': 0, 'rejected_prediction_tokens': 0}, 'prompt_tokens': 3055, 'prompt_tokens_details': {'audio_tokens': 0, 'cached_tokens': 0}, 'total_tokens': 3060}}, ai_model_id=None, metadata={'id': 'chatcmpl-BHSSxGvUlyreXSXZFicA9ZNFfuLOb', 'model': 'gpt-4o-mini-2024-07-18', 'created': datetime.datetime(2025, 4, 1, 9, 44, 59, tzinfo=datetime.timezone.utc), 'usage': CompletionUsage(prompt_tokens=3055, completion_tokens=5)}, content_type='message', role=<AuthorRole.ASSISTANT: 'assistant'>, name=None, items=[TextContent(inner_content=None, ai_model_id=None, metadata={'id': 'chatcmpl-BHSSxGvUlyreXSXZFicA9ZNFfuLOb', 'model': 'gpt-4o-mini-2024-07-18', 'created': datetime.datetime(2025, 4, 1, 9, 44, 59, tzinfo=datetime.timezone.utc), 'usage': CompletionUsage(prompt_tokens=3055, completion_tokens=5)}, content_type='text', text='Interview-Preparation-Agent', encoding=None)], encoding=None, finish_reason=<FinishReason.STOP: 'stop'>)]\n",
      "2025-04-01 11:44:58,716 - semantic_kernel.agents.group_chat.agent_chat - INFO - Invoking agent Interview-Preparation-Agent\n",
      "2025-04-01 11:45:11,920 - semantic_kernel.agents.strategies.termination.termination_strategy - INFO - Evaluating termination criteria for 0f627836-43d3-478b-a10e-8d21598149fa\n",
      "2025-04-01 11:45:11,921 - semantic_kernel.agents.strategies.termination.kernel_function_termination_strategy - INFO - should_agent_terminate, function invoking: `termination`\n",
      "2025-04-01 11:45:11,922 - semantic_kernel.functions.kernel_function - INFO - Function termination invoking.\n",
      "2025-04-01 11:45:12,560 - semantic_kernel.functions.kernel_function - INFO - Function termination succeeded.\n",
      "2025-04-01 11:45:12,561 - semantic_kernel.functions.kernel_function - INFO - Function completed. Duration: 0.638643s\n",
      "2025-04-01 11:45:12,561 - semantic_kernel.agents.strategies.termination.kernel_function_termination_strategy - INFO - should_agent_terminate, function `termination` invoked with result `[ChatMessageContent(inner_content={'choices': [{'content_filter_results': {'hate': {'filtered': False, 'severity': 'safe'}, 'self_harm': {'filtered': False, 'severity': 'safe'}, 'sexual': {'filtered': False, 'severity': 'safe'}, 'violence': {'filtered': False, 'severity': 'safe'}}, 'finish_reason': 'stop', 'index': 0, 'logprobs': None, 'message': {'content': 'To determine the appropriate next step in the job application process, I need the details of the RESPONSE (the content of `$lastmessage`). Please provide that information for further analysis.', 'refusal': None, 'role': 'assistant'}}], 'created': 1743500713, 'id': 'chatcmpl-BHSTBa4qtLhihla9yewlE3Y8GHEr5', 'model': 'gpt-4o-mini-2024-07-18', 'object': 'chat.completion', 'prompt_filter_results': [{'prompt_index': 0, 'content_filter_results': {'hate': {'filtered': False, 'severity': 'safe'}, 'jailbreak': {'filtered': False, 'detected': False}, 'self_harm': {'filtered': False, 'severity': 'safe'}, 'sexual': {'filtered': False, 'severity': 'safe'}, 'violence': {'filtered': False, 'severity': 'safe'}}}], 'system_fingerprint': 'fp_ded0d14823', 'usage': {'completion_tokens': 36, 'completion_tokens_details': {'accepted_prediction_tokens': 0, 'audio_tokens': 0, 'reasoning_tokens': 0, 'rejected_prediction_tokens': 0}, 'prompt_tokens': 182, 'prompt_tokens_details': {'audio_tokens': 0, 'cached_tokens': 0}, 'total_tokens': 218}}, ai_model_id=None, metadata={'id': 'chatcmpl-BHSTBa4qtLhihla9yewlE3Y8GHEr5', 'model': 'gpt-4o-mini-2024-07-18', 'created': datetime.datetime(2025, 4, 1, 9, 45, 13, tzinfo=datetime.timezone.utc), 'usage': CompletionUsage(prompt_tokens=182, completion_tokens=36)}, content_type='message', role=<AuthorRole.ASSISTANT: 'assistant'>, name=None, items=[TextContent(inner_content=None, ai_model_id=None, metadata={'id': 'chatcmpl-BHSTBa4qtLhihla9yewlE3Y8GHEr5', 'model': 'gpt-4o-mini-2024-07-18', 'created': datetime.datetime(2025, 4, 1, 9, 45, 13, tzinfo=datetime.timezone.utc), 'usage': CompletionUsage(prompt_tokens=182, completion_tokens=36)}, content_type='text', text='To determine the appropriate next step in the job application process, I need the details of the RESPONSE (the content of `$lastmessage`). Please provide that information for further analysis.', encoding=None)], encoding=None, finish_reason=<FinishReason.STOP: 'stop'>)]`\n",
      "2025-04-01 11:45:12,562 - semantic_kernel.agents.strategies.termination.termination_strategy - INFO - Evaluated criteria for 0f627836-43d3-478b-a10e-8d21598149fa, should terminate: False\n",
      "2025-04-01 11:45:12,562 - semantic_kernel.agents.strategies.selection.kernel_function_selection_strategy - INFO - Kernel Function Selection Strategy next method called, invoking function: , selection\n",
      "2025-04-01 11:45:12,563 - semantic_kernel.functions.kernel_function - INFO - Function selection invoking.\n",
      "2025-04-01 11:45:12,563 - semantic_kernel.contents.chat_history - INFO - Could not parse prompt Examine the provided RESPONSE and choose the next participant.\n",
      "        State only the name of the chosen participant without explanation.\n",
      "        Never choose the participant named in the RESPONSE.\n",
      "\n",
      "        Choose only from these participants:\n",
      "        - Web-Job-Research-Agent\n",
      "        - Resume-Reviewer-Agent \n",
      "        - Resume-Copywriter-Agent\n",
      "        - Interview-Preparation-Agent\n",
      "\n",
      "        Abide by the following policy:\n",
      "        - If RESPONSE is user, it is Web-Job-Research-Agent's turn. It's VERY IMPORTANT you only choose Web-Job-Research-Agent one time!\n",
      "        - If RESPONSE is by Web-Job-Research-Agent, it is Resume-Reviewer-Agent's turn. It's VERY IMPORTANT there is a review by Resume-Reviewer-Agent at least once.\n",
      "        - If RESPONSE is by Resume-Reviewer-Agent, it is Resume-Copywriter-Agent's turn.\n",
      "        - Once the Resume-Reviewer-Agent has assessed the resume as RESUME_REVIEW_COMPLETE, it is Interview-Preparation-Agent's turn.\n",
      "        - If RESPONSE contains the exact phrase \"RESUME_REVIEW_COMPLETE\", make Interview-Preparation-Agent the final participant, and then terminate the conversation.\n",
      "        - After Interview-Preparation-Agent has provided interview preparation guidance, do not select any more participants and indicate \"COMPLETE\" instead.\n",
      "\n",
      "        RESPONSE:\n",
      "        [{'role': 'user', 'content': 'https://jobs.lever.co/AIFund/29e4750a-61c1-4195-9a11-7889577e3d6f', 'name': 'user'}, {'role': 'assistant', 'tool_calls': [{'id': 'call_Je6IJGpcc2k18mOinekFNmUt', 'type': 'function', 'function': {'name': 'WebJobResearchAgent-fetch_job_posting', 'arguments': '{\"url\":\"https://jobs.lever.co/AIFund/29e4750a-61c1-4195-9a11-7889577e3d6f\"}'}}], 'name': 'Web-Job-Research-Agent'}, {'role': 'tool', 'content': \"Want to use your backend skills to make an impact? AI is the new electricity. Millions of AI engineers are needed to transform industries with AI, particularly in the realm of GenAI, and we’re building education products to train them. \\nWith a mission to grow and connect the global AI community, DeepLearning.AI is an education technology company that is empowering the global workforce to build an AI-powered future through world-class education, hands-on training, and \\na collaborative community. We’re a small ed-tech company with serious credentials, exciting courses, and wonderful teammates.\\n\\nDeeplearning.ai is looking for a Backend Engineer with strong computer science fundamentals with a passion for improving learner's experiences. The ideal candidate will thrive in an early development stage of a leading educational environment focusing on AI-related topics.  As a Backend Engineer you will be responsible for building and delivering high-quality infrastructure and support to the technical content deeplearning.ai is providing. Our team is growing fast, and we are looking for a strong engineer to develop our educational products. In this role, you will work alongside a team of talented content creators as well as our outside partners, to build various layers of the infrastructure of world-renowned AI-driven education.\\n\\nThis opportunity is for candidates based in Taipei.\\n\\nHere’s what you’ll do:\\nDevelop a learner-centered platform to deliver the best learning experience for the deeplearning.ai learners.\\nMaintain quality and ensure responsiveness and scalability of the developed application.\\nDesign and develop internal tools to help our teams iterate quickly.\\nMaintain a high-quality code base and write clear documentation.\\nDevelop backend infrastructure for grading tools and network training.\\n\\nHere are the experiences you should have:\\nBroad and solid CS foundation knowledge, including data structures & algorithms, OS, computer networks, and databases.\\nAt least 5+ years of software development experience and have experience building end-to-end projects.\\n\\nHere are the skills you should have:\\nAt least 5+ years of software development experience and have experience in building end-to-end projects.\\n5+ years of experience with general backend (Linux, SQL, Python), web frameworks (Django, Flask, FastAPI), or API (REST, GraphQL).\\nStrong ability to convert ideas to running code.\\nFamiliarity with Test-Driven Development.\\nProficient with Docker.\\nFamiliarity with Jupyter Notebook.\\nFamiliar with microservice architecture design.\\nKnowledge of security concerns and best practices.\\nExcellent verbal and oral communication skills in both Mandarin and English.\\n\\nWhat you get working with us:\\nBe a part of a world-class technical team working alongside offices in different parts of the world.\\nHave the opportunity to consolidate a quickly growing startup.\\nHave access to state-of-the-art infrastructure and technology.\\nHave a competitive salary (1.5-2.2 million NTD/year) in a well-funded high-growth company. \\n\\nOur defining values:\\nWe care deeply about our learners: We let our learner's needs guide our actions and decisions and put our mission ahead of ourselves.\\nWe are great at what we do: We strive for excellence in all dimensions, especially in the quality of the content we create and the people we hire.\\nWe default to action: We are comfortable acting with limited information and taking ownership of our decisions. \\nWe ask why: We ask the hard questions and are open to being in the wrong. We advocate for the best ideas, not our ideas. \\nWe are honest and authentic: We are transparent as an organization, over-communicate to build trust, and share our failures just as we do our successes.\\nWe do this together: We help each other grow and succeed and have fun at work, even in a remote environment.\\nAt DeepLearning.AI, we are committed to providing an environment of mutual respect where equal employment opportunities are available to all applicants without regard to race, color, religion, sex, pregnancy (including childbirth, lactation, and related medical conditions), national origin, age, physical and mental disability, marital status, sexual orientation, gender identity, gender expression, genetic information (including characteristics and testing), military and veteran status, and any other characteristic protected by applicable law. \\nDeepLearning.AI believes that diversity and inclusion among our employees are critical to our success as a company. We seek to recruit, develop, and retain the most talented people from a diverse candidate pool. Selection for employment is decided based on qualifications, merit, and business needs.\", 'tool_call_id': 'call_Je6IJGpcc2k18mOinekFNmUt'}, {'role': 'assistant', 'content': \"Here’s a breakdown of the essential information extracted from the job posting for the Backend Engineer position at DeepLearning.AI:\\n\\n### Requirements Categorization\\n\\n#### Technical Skills\\n- **Programming Languages/Frameworks**: \\n  - Python\\n  - Web frameworks: Django, Flask, FastAPI\\n  - SQL\\n- **Tools/Platforms**: \\n  - Linux\\n  - Docker\\n  - Jupyter Notebook\\n- **APIs**: \\n  - REST\\n  - GraphQL\\n- **Development Practices**: \\n  - Test-Driven Development (TDD)\\n- **Architecture**: \\n  - Microservice architecture design\\n- **Knowledge Areas**: \\n  - Data structures & algorithms\\n  - Operating systems\\n  - Computer networks\\n  - Databases\\n  - Security concerns and best practices\\n\\n#### Soft Skills\\n- Excellent verbal and oral communication skills in both Mandarin and English\\n- Strong ability to convert ideas to running code\\n- Team collaboration and support\\n\\n#### Experience\\n- **Years of Experience**: \\n  - At least 5+ years of software development experience\\n- **Project Experience**: \\n  - Experience building end-to-end projects\\n\\n#### Education\\n- Strong computer science fundamentals (specific degree not mentioned, but implied)\\n\\n#### Company Values/Culture\\n- Focus on learner's needs and mission-driven actions\\n- Strive for excellence in content quality and hiring\\n- Comfort with taking ownership and acting with limited information\\n- Openness to questioning and advocating for the best ideas\\n- Transparency and honesty in communication\\n- Emphasis on teamwork and mutual growth\\n\\n### Qualifications\\n- **Must-Have Qualifications**:\\n  - 5+ years of software development experience\\n  - Proficiency in backend technologies (Linux, SQL, Python)\\n  - Experience with web frameworks (Django, Flask, FastAPI)\\n  - Strong communication skills in Mandarin and English\\n\\n- **Preferred/Nice to Have Qualifications**:\\n  - Familiarity with Test-Driven Development\\n  - Experience with Docker and Jupyter Notebook\\n  - Knowledge of microservice architecture design\\n  - Understanding of security best practices\\n\\n### Actionable Information for Resume Tailoring\\n- Highlight relevant technical skills, particularly in Python and backend frameworks.\\n- Emphasize experience in software development and any end-to-end project work.\\n- Showcase communication skills, especially in Mandarin and English.\\n- Include any experience with TDD, Docker, and microservices.\\n- Align personal values with the company's values, emphasizing teamwork, transparency, and a learner-centered approach. \\n\\nThis structured information can help in tailoring your resume and preparing for potential interviews for the Backend Engineer position at DeepLearning.AI.\", 'name': 'Web-Job-Research-Agent'}, {'role': 'assistant', 'tool_calls': [{'id': 'call_wUFlGA1KIZTO6gqlp22ZYqBU', 'type': 'function', 'function': {'name': 'ResumeReviewerAgent-load_resume', 'arguments': '{}'}}], 'name': 'Resume-Reviewer-Agent'}, {'role': 'tool', 'content': 'JANE DOE\\nBackend Software Engineer\\njane.doe@email.com | (555) 123-4567 | linkedin.com/in/janedoe | github.com/janedoe\\n\\nSKILLS\\n- Programming Languages: Python, JavaScript, Java\\n- Frameworks/Libraries: Django, Flask, Express.js\\n- Tools: Git, Docker, Linux, Jupyter Notebook\\n- Databases: PostgreSQL, MySQL\\n\\nEXPERIENCE\\nBackend Engineer | EdTech Innovations | Mar 2021 - Present\\n- Developed backend services for an educational platform serving 50K+ students\\n- Built REST APIs using Flask and integrated with frontend applications\\n- Implemented database optimization that improved query performance by 30%\\n- Maintained Linux-based infrastructure for application deployment\\n- Software Developer | Data Systems Corp. | Jun 2018 - Feb 2021\\n- Created internal tools to help content teams manage learning materials\\n- Built and maintained SQL databases for storing user progress and analytics\\n- Collaborated with product managers to implement new features\\n- Deployed applications using basic Docker containers\\n\\nEDUCATION\\n- Master of Science in Computer Science | State University | 2018\\n- Bachelor of Science in Software Engineering | Tech University | 2016\\n\\nPROJECTS\\n- Learning Management System | github.com/janedoe/learning-platform\\n- Backend system built with Django to manage educational content\\n- Implemented user authentication and progress tracking features\\n- API Development Tool | github.com/janedoe/api-toolkit\\n- Python utility for testing and documenting REST APIs\\n- Deployed as a containerized service with basic Docker implementation\\n\\nLANGUAGES\\n- English (Fluent)\\n- Basic Mandarin (Conversational)', 'tool_call_id': 'call_wUFlGA1KIZTO6gqlp22ZYqBU'}, {'role': 'assistant', 'content': '### Resume Evaluation Against Job Requirements\\n\\n#### Gaps Identified\\n\\n1. **Technical Skills Alignment**:\\n   - **Missing Skills**: \\n     - Experience with FastAPI and GraphQL is not mentioned.\\n     - No explicit mention of familiarity with Test-Driven Development (TDD).\\n     - No mention of microservice architecture design.\\n     - Security concerns and best practices are not addressed.\\n\\n2. **Experience Presentation**:\\n   - **Achievements and Metrics**: \\n     - While there are some metrics (e.g., \"improved query performance by 30%\"), more quantifiable achievements could enhance impact.\\n     - The current role mentions serving \"50K+ students,\" but further details on the impact of the backend services on learner experience could be beneficial.\\n   - **Relevance**: \\n     - The experience with Docker is described as \"basic,\" which may not align with the job\\'s requirement for proficiency.\\n\\n3. **Keywords/Terminology Matching**:\\n   - The resume could benefit from incorporating specific keywords from the job description, such as \"learner-centered platform,\" \"scalability,\" \"high-quality code base,\" and \"network training.\"\\n\\n4. **Overall Format and Impact**:\\n   - The resume is well-structured, but adding a summary or objective statement at the top could provide context and highlight alignment with the company\\'s mission and values.\\n\\n### Recommendations for Improvement\\n\\n1. **Skills Alignment**:\\n   - Add experience with FastAPI and GraphQL if applicable.\\n   - Include any familiarity with Test-Driven Development (TDD).\\n   - Highlight any experience or knowledge related to microservice architecture design.\\n   - Mention any understanding of security best practices relevant to backend development.\\n\\n2. **Experience Presentation**:\\n   - Quantify achievements further, such as the impact of the backend services on user engagement or learning outcomes.\\n   - Enhance the description of Docker experience to reflect a higher level of proficiency.\\n   - Consider adding a bullet point that emphasizes collaboration with content creators or partners, aligning with the job\\'s focus on teamwork.\\n\\n3. **Keywords/Terminology Matching**:\\n   - Integrate relevant keywords from the job description into the experience and skills sections to improve alignment with the job posting.\\n\\n4. **Overall Format and Impact**:\\n   - Consider adding a brief summary or objective statement at the beginning of the resume that reflects your passion for education technology and aligns with the company\\'s mission.\\n\\n### Tracking Previous Suggestions\\n- This is the first review of the resume against the job requirements, so no previous suggestions need to be tracked.\\n\\n### Conclusion\\nBy addressing the identified gaps and implementing the recommendations, the resume can be significantly improved to better align with the Backend Engineer position at DeepLearning.AI.\\n\\nRESUME_REVIEW_COMPLETE', 'name': 'Resume-Reviewer-Agent'}, {'role': 'assistant', 'content': '### Technical Interview Questions\\n\\nBased on the job requirements, here are some likely technical interview questions:\\n\\n1. **Backend Development**:\\n   - Can you explain the differences between REST and GraphQL? When would you choose one over the other?\\n   - Describe your experience with building APIs using Flask. What challenges did you face, and how did you overcome them?\\n\\n2. **Frameworks and Tools**:\\n   - How do you ensure the scalability and responsiveness of a web application?\\n   - Can you walk us through your experience with Docker? How have you used it in your projects?\\n\\n3. **Database Management**:\\n   - What strategies do you employ for database optimization? Can you provide an example from your experience?\\n   - How do you handle data migrations in a production environment?\\n\\n4. **Development Practices**:\\n   - What is Test-Driven Development (TDD), and how have you applied it in your projects?\\n   - Can you describe a time when you had to refactor code? What was your approach?\\n\\n5. **Microservices and Architecture**:\\n   - What are the benefits and challenges of using a microservice architecture?\\n   - How do you ensure security in your backend applications?\\n\\n6. **Collaboration and Communication**:\\n   - Describe a situation where you had to collaborate with content creators or product managers. How did you ensure effective communication?\\n\\n### Talking Points for Experience Alignment\\n\\n1. **Backend Development**:\\n   - Highlight your experience developing backend services for an educational platform and how it aligns with the mission of DeepLearning.AI to enhance learner experiences.\\n\\n2. **API Development**:\\n   - Discuss your work with REST APIs using Flask, emphasizing your ability to integrate backend services with frontend applications.\\n\\n3. **Database Optimization**:\\n   - Mention your success in optimizing database queries, which directly relates to maintaining a high-quality code base and ensuring application performance.\\n\\n4. **Collaboration**:\\n   - Share examples of how you collaborated with cross-functional teams to develop internal tools, aligning with the company\\'s emphasis on teamwork.\\n\\n5. **Docker and Infrastructure**:\\n   - Talk about your experience with Docker and maintaining Linux-based infrastructure, which is crucial for the role.\\n\\n### Responses for Potential Questions About Gaps\\n\\n1. **Lack of FastAPI Experience**:\\n   - \"While I haven\\'t worked extensively with FastAPI, I have a strong foundation in Flask and Django. I\\'m eager to learn and adapt to new frameworks quickly, and I believe my experience with similar technologies will allow me to pick up FastAPI efficiently.\"\\n\\n2. **Basic Docker Experience**:\\n   - \"I have used Docker for deploying applications, and while I consider my experience basic, I am actively seeking to deepen my knowledge. I am familiar with containerization concepts and am excited to apply them in a more advanced capacity.\"\\n\\n3. **Limited TDD Experience**:\\n   - \"I have implemented some TDD practices in my projects, but I am looking to expand my knowledge further. I understand its importance in maintaining code quality and am committed to integrating it more thoroughly in my future work.\"\\n\\n### Behavioral Questions Specific to the Role\\n\\n1. **Team Collaboration**:\\n   - \"Can you describe a time when you had to work closely with a content team to develop a feature? What was your approach, and what was the outcome?\"\\n\\n2. **Problem-Solving**:\\n   - \"Tell me about a challenging technical problem you faced in a project. How did you approach it, and what was the result?\"\\n\\n3. **Adaptability**:\\n   - \"Describe a situation where you had to learn a new technology quickly to complete a project. How did you manage that?\"\\n\\n4. **Feedback and Improvement**:\\n   - \"Can you provide an example of how you received feedback on your work? How did you respond, and what changes did you implement?\"\\n\\n### Discussion Points About Company Culture and Values\\n\\n1. **Learner-Centered Approach**:\\n   - Discuss your passion for education technology and how it aligns with the company\\'s mission to prioritize learner needs.\\n\\n2. **Excellence and Quality**:\\n   - Share your commitment to quality in your work and how you strive for excellence in software development.\\n\\n3. **Action-Oriented Mindset**:\\n   - Talk about your experience in taking ownership of projects and making decisions with limited information, reflecting the company\\'s value of defaulting to action.\\n\\n4. **Transparency and Teamwork**:\\n   - Emphasize your belief in open communication and collaboration, and how you foster a supportive team environment.\\n\\n5. **Diversity and Inclusion**:\\n   - Express your appreciation for the company\\'s commitment to diversity and inclusion, and how you value working in an environment that respects and celebrates differences.\\n\\nBy preparing these points and practicing your responses, you can confidently address all aspects of the Backend Engineer role at DeepLearning.AI. Good luck!', 'name': 'Interview-Preparation-Agent'}] as xml, treating as text, error was: not well-formed (invalid token): line 20, column 2389\n",
      "2025-04-01 11:45:12,923 - semantic_kernel.functions.kernel_function - INFO - Function selection succeeded.\n",
      "2025-04-01 11:45:12,924 - semantic_kernel.functions.kernel_function - INFO - Function completed. Duration: 0.360443s\n",
      "2025-04-01 11:45:12,924 - semantic_kernel.agents.strategies.selection.kernel_function_selection_strategy - INFO - Kernel Function Selection Strategy next method completed: , selection, result: [ChatMessageContent(inner_content={'choices': [{'content_filter_results': {'hate': {'filtered': False, 'severity': 'safe'}, 'protected_material_code': {'filtered': False, 'detected': False}, 'protected_material_text': {'filtered': False, 'detected': False}, 'self_harm': {'filtered': False, 'severity': 'safe'}, 'sexual': {'filtered': False, 'severity': 'safe'}, 'violence': {'filtered': False, 'severity': 'safe'}}, 'finish_reason': 'stop', 'index': 0, 'logprobs': None, 'message': {'content': 'COMPLETE', 'refusal': None, 'role': 'assistant'}}], 'created': 1743500714, 'id': 'chatcmpl-BHSTCWKyLef3HXuFIzhPdiPSs0JYa', 'model': 'gpt-4o-mini-2024-07-18', 'object': 'chat.completion', 'prompt_filter_results': [{'prompt_index': 0, 'content_filter_results': {'hate': {'filtered': False, 'severity': 'safe'}, 'jailbreak': {'filtered': False, 'detected': False}, 'self_harm': {'filtered': False, 'severity': 'safe'}, 'sexual': {'filtered': False, 'severity': 'safe'}, 'violence': {'filtered': False, 'severity': 'safe'}}}], 'system_fingerprint': 'fp_ded0d14823', 'usage': {'completion_tokens': 3, 'completion_tokens_details': {'accepted_prediction_tokens': 0, 'audio_tokens': 0, 'reasoning_tokens': 0, 'rejected_prediction_tokens': 0}, 'prompt_tokens': 4151, 'prompt_tokens_details': {'audio_tokens': 0, 'cached_tokens': 0}, 'total_tokens': 4154}}, ai_model_id=None, metadata={'id': 'chatcmpl-BHSTCWKyLef3HXuFIzhPdiPSs0JYa', 'model': 'gpt-4o-mini-2024-07-18', 'created': datetime.datetime(2025, 4, 1, 9, 45, 14, tzinfo=datetime.timezone.utc), 'usage': CompletionUsage(prompt_tokens=4151, completion_tokens=3)}, content_type='message', role=<AuthorRole.ASSISTANT: 'assistant'>, name=None, items=[TextContent(inner_content=None, ai_model_id=None, metadata={'id': 'chatcmpl-BHSTCWKyLef3HXuFIzhPdiPSs0JYa', 'model': 'gpt-4o-mini-2024-07-18', 'created': datetime.datetime(2025, 4, 1, 9, 45, 14, tzinfo=datetime.timezone.utc), 'usage': CompletionUsage(prompt_tokens=4151, completion_tokens=3)}, content_type='text', text='COMPLETE', encoding=None)], encoding=None, finish_reason=<FinishReason.STOP: 'stop'>)]\n",
      "2025-04-01 11:45:12,925 - semantic_kernel.agents.group_chat.agent_group_chat - ERROR - Failed to select agent: Agent Failure - Strategy unable to select next agent: COMPLETE\n"
     ]
    },
    {
     "ename": "AgentChatException",
     "evalue": "Failed to select agent",
     "output_type": "error",
     "traceback": [
      "\u001b[31m---------------------------------------------------------------------------\u001b[39m",
      "\u001b[31mAgentExecutionException\u001b[39m                   Traceback (most recent call last)",
      "\u001b[36mFile \u001b[39m\u001b[32m~/developments/jp/msft/work/azure-ai-foundry-examples/.venv/lib/python3.12/site-packages/semantic_kernel/agents/group_chat/agent_group_chat.py:151\u001b[39m, in \u001b[36mAgentGroupChat.invoke\u001b[39m\u001b[34m(self, agent, is_joining)\u001b[39m\n\u001b[32m    150\u001b[39m \u001b[38;5;28;01mtry\u001b[39;00m:\n\u001b[32m--> \u001b[39m\u001b[32m151\u001b[39m     selected_agent = \u001b[38;5;28;01mawait\u001b[39;00m \u001b[38;5;28mself\u001b[39m.selection_strategy.next(\u001b[38;5;28mself\u001b[39m.agents, \u001b[38;5;28mself\u001b[39m.history.messages)\n\u001b[32m    152\u001b[39m \u001b[38;5;28;01mexcept\u001b[39;00m \u001b[38;5;167;01mException\u001b[39;00m \u001b[38;5;28;01mas\u001b[39;00m ex:\n",
      "\u001b[36mFile \u001b[39m\u001b[32m~/developments/jp/msft/work/azure-ai-foundry-examples/.venv/lib/python3.12/site-packages/semantic_kernel/agents/strategies/selection/selection_strategy.py:43\u001b[39m, in \u001b[36mSelectionStrategy.next\u001b[39m\u001b[34m(self, agents, history)\u001b[39m\n\u001b[32m     42\u001b[39m \u001b[38;5;28;01melse\u001b[39;00m:\n\u001b[32m---> \u001b[39m\u001b[32m43\u001b[39m     agent = \u001b[38;5;28;01mawait\u001b[39;00m \u001b[38;5;28mself\u001b[39m.select_agent(agents, history)\n\u001b[32m     45\u001b[39m \u001b[38;5;28mself\u001b[39m.has_selected = \u001b[38;5;28;01mTrue\u001b[39;00m\n",
      "\u001b[36mFile \u001b[39m\u001b[32m~/developments/jp/msft/work/azure-ai-foundry-examples/.venv/lib/python3.12/site-packages/semantic_kernel/agents/strategies/selection/kernel_function_selection_strategy.py:114\u001b[39m, in \u001b[36mKernelFunctionSelectionStrategy.select_agent\u001b[39m\u001b[34m(self, agents, history)\u001b[39m\n\u001b[32m    113\u001b[39m \u001b[38;5;28;01mif\u001b[39;00m agent_turn \u001b[38;5;129;01mis\u001b[39;00m \u001b[38;5;28;01mNone\u001b[39;00m:\n\u001b[32m--> \u001b[39m\u001b[32m114\u001b[39m     \u001b[38;5;28;01mraise\u001b[39;00m AgentExecutionException(\u001b[33mf\u001b[39m\u001b[33m\"\u001b[39m\u001b[33mAgent Failure - Strategy unable to select next agent: \u001b[39m\u001b[38;5;132;01m{\u001b[39;00magent_name\u001b[38;5;132;01m}\u001b[39;00m\u001b[33m\"\u001b[39m)\n\u001b[32m    116\u001b[39m \u001b[38;5;28;01mreturn\u001b[39;00m agent_turn\n",
      "\u001b[31mAgentExecutionException\u001b[39m: Agent Failure - Strategy unable to select next agent: COMPLETE",
      "\nThe above exception was the direct cause of the following exception:\n",
      "\u001b[31mAgentChatException\u001b[39m                        Traceback (most recent call last)",
      "\u001b[36mCell\u001b[39m\u001b[36m \u001b[39m\u001b[32mIn[23]\u001b[39m\u001b[32m, line 19\u001b[39m\n\u001b[32m     12\u001b[39m \u001b[38;5;66;03m# await agent_group_chat.add_chat_messages(chat_history)\u001b[39;00m\n\u001b[32m     13\u001b[39m \n\u001b[32m     14\u001b[39m \u001b[38;5;66;03m# tracer = get_tracer(__name__)\u001b[39;00m\n\u001b[32m     15\u001b[39m \u001b[38;5;66;03m# with tracer.start_as_current_span(\"AgenticChat\"):\u001b[39;00m\n\u001b[32m     17\u001b[39m \u001b[38;5;28;01mawait\u001b[39;00m agent_group_chat.add_chat_messages(chat_history)\n\u001b[32m---> \u001b[39m\u001b[32m19\u001b[39m \u001b[38;5;28;01masync\u001b[39;00m \u001b[38;5;28;01mfor\u001b[39;00m _ \u001b[38;5;129;01min\u001b[39;00m agent_group_chat.invoke():\n\u001b[32m     20\u001b[39m     \u001b[38;5;28;01mpass\u001b[39;00m\n\u001b[32m     22\u001b[39m response = \u001b[38;5;28mlist\u001b[39m(\u001b[38;5;28mreversed\u001b[39m([item \u001b[38;5;28;01masync\u001b[39;00m \u001b[38;5;28;01mfor\u001b[39;00m item \u001b[38;5;129;01min\u001b[39;00m agent_group_chat.get_chat_messages()]))\n",
      "\u001b[36mFile \u001b[39m\u001b[32m~/developments/jp/msft/work/azure-ai-foundry-examples/.venv/lib/python3.12/site-packages/semantic_kernel/agents/group_chat/agent_group_chat.py:154\u001b[39m, in \u001b[36mAgentGroupChat.invoke\u001b[39m\u001b[34m(self, agent, is_joining)\u001b[39m\n\u001b[32m    152\u001b[39m \u001b[38;5;28;01mexcept\u001b[39;00m \u001b[38;5;167;01mException\u001b[39;00m \u001b[38;5;28;01mas\u001b[39;00m ex:\n\u001b[32m    153\u001b[39m     logger.error(\u001b[33mf\u001b[39m\u001b[33m\"\u001b[39m\u001b[33mFailed to select agent: \u001b[39m\u001b[38;5;132;01m{\u001b[39;00mex\u001b[38;5;132;01m}\u001b[39;00m\u001b[33m\"\u001b[39m)\n\u001b[32m--> \u001b[39m\u001b[32m154\u001b[39m     \u001b[38;5;28;01mraise\u001b[39;00m AgentChatException(\u001b[33m\"\u001b[39m\u001b[33mFailed to select agent\u001b[39m\u001b[33m\"\u001b[39m) \u001b[38;5;28;01mfrom\u001b[39;00m\u001b[38;5;250m \u001b[39m\u001b[34;01mex\u001b[39;00m\n\u001b[32m    156\u001b[39m \u001b[38;5;28;01masync\u001b[39;00m \u001b[38;5;28;01mfor\u001b[39;00m message \u001b[38;5;129;01min\u001b[39;00m \u001b[38;5;28msuper\u001b[39m().invoke_agent(selected_agent):\n\u001b[32m    157\u001b[39m     \u001b[38;5;28;01mif\u001b[39;00m message.role == AuthorRole.ASSISTANT:\n",
      "\u001b[31mAgentChatException\u001b[39m: Failed to select agent"
     ]
    }
   ],
   "source": [
    "conversation_messages = []\n",
    "conversation_messages.append({'role': 'user', 'name': 'user', 'content': \"https://jobs.lever.co/AIFund/29e4750a-61c1-4195-9a11-7889577e3d6f\"})\n",
    "\n",
    "chat_history = [\n",
    "    ChatMessageContent(\n",
    "        role=AuthorRole(d.get('role')),\n",
    "        name=d.get('name'),\n",
    "        content=d.get('content')\n",
    "    ) for d in filter(lambda m: m['role'] in (\"system\", \"developer\", \"assistant\", \"user\"), conversation_messages)\n",
    "]\n",
    "\n",
    "# await agent_group_chat.add_chat_messages(chat_history)\n",
    "\n",
    "# tracer = get_tracer(__name__)\n",
    "# with tracer.start_as_current_span(\"AgenticChat\"):\n",
    "\n",
    "await agent_group_chat.add_chat_messages(chat_history)\n",
    "\n",
    "async for _ in agent_group_chat.invoke():\n",
    "    pass\n",
    "\n",
    "response = list(reversed([item async for item in agent_group_chat.get_chat_messages()]))\n",
    "\n",
    "reply = {\n",
    "    'role': response[-1].role.value,\n",
    "    'name': response[-1].name,\n",
    "    'content': response[-1].content\n",
    "}"
   ]
  },
  {
   "cell_type": "code",
   "execution_count": null,
   "metadata": {},
   "outputs": [],
   "source": [
    "reply"
   ]
  },
  {
   "cell_type": "code",
   "execution_count": 24,
   "metadata": {},
   "outputs": [
    {
     "ename": "NameError",
     "evalue": "name 'response' is not defined",
     "output_type": "error",
     "traceback": [
      "\u001b[31m---------------------------------------------------------------------------\u001b[39m",
      "\u001b[31mNameError\u001b[39m                                 Traceback (most recent call last)",
      "\u001b[36mCell\u001b[39m\u001b[36m \u001b[39m\u001b[32mIn[24]\u001b[39m\u001b[32m, line 1\u001b[39m\n\u001b[32m----> \u001b[39m\u001b[32m1\u001b[39m \u001b[38;5;28;01mfor\u001b[39;00m i, res \u001b[38;5;129;01min\u001b[39;00m \u001b[38;5;28menumerate\u001b[39m(\u001b[43mresponse\u001b[49m):\n\u001b[32m      2\u001b[39m     \u001b[38;5;28mprint\u001b[39m(\u001b[33mf\u001b[39m\u001b[33m\"\u001b[39m\u001b[38;5;130;01m\\n\u001b[39;00m\u001b[33m--- Response \u001b[39m\u001b[38;5;132;01m{\u001b[39;00mi\u001b[38;5;132;01m}\u001b[39;00m\u001b[33m ---\u001b[39m\u001b[33m\"\u001b[39m)\n\u001b[32m      3\u001b[39m     \u001b[38;5;28mprint\u001b[39m(\u001b[33mf\u001b[39m\u001b[33m\"\u001b[39m\u001b[33mRole: \u001b[39m\u001b[38;5;132;01m{\u001b[39;00mres.role.value\u001b[38;5;132;01m}\u001b[39;00m\u001b[33m\"\u001b[39m)\n",
      "\u001b[31mNameError\u001b[39m: name 'response' is not defined"
     ]
    }
   ],
   "source": [
    "for i, res in enumerate(response):\n",
    "    print(f\"\\n--- Response {i} ---\")\n",
    "    print(f\"Role: {res.role.value}\")\n",
    "    print(f\"Name: {res.name if hasattr(res, 'name') and res.name else 'None'}\")\n",
    "    print(f\"Content: {res.content}\")"
   ]
  },
  {
   "cell_type": "markdown",
   "metadata": {},
   "source": [
    "## To Do\n",
    "Fix termination Strategy\n",
    "add mock resume and retrieve with moch function in toolkit to emulate retrieval from vector db. Do same for mock job posting (i.e., call function to retrieve, and use if flag set)\n",
    "\n",
    "add agents for interview prep\n",
    "optimise and refactor, e.g., set globals for max iterations\n",
    "fix variable names e.g., facade??"
   ]
  }
 ],
 "metadata": {
  "kernelspec": {
   "display_name": ".venv",
   "language": "python",
   "name": "python3"
  },
  "language_info": {
   "codemirror_mode": {
    "name": "ipython",
    "version": 3
   },
   "file_extension": ".py",
   "mimetype": "text/x-python",
   "name": "python",
   "nbconvert_exporter": "python",
   "pygments_lexer": "ipython3",
   "version": "3.12.3"
  }
 },
 "nbformat": 4,
 "nbformat_minor": 2
}
